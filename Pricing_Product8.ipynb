{
 "cells": [
  {
   "cell_type": "code",
   "execution_count": 37,
   "metadata": {
    "scrolled": false
   },
   "outputs": [
    {
     "name": "stderr",
     "output_type": "stream",
     "text": [
      "[nltk_data] Downloading package stopwords to\n",
      "[nltk_data]     C:\\Users\\jesus\\AppData\\Roaming\\nltk_data...\n",
      "[nltk_data]   Package stopwords is already up-to-date!\n",
      "[nltk_data] Downloading package punkt to\n",
      "[nltk_data]     C:\\Users\\jesus\\AppData\\Roaming\\nltk_data...\n",
      "[nltk_data]   Package punkt is already up-to-date!\n",
      "[nltk_data] Downloading package wordnet to\n",
      "[nltk_data]     C:\\Users\\jesus\\AppData\\Roaming\\nltk_data...\n",
      "[nltk_data]   Package wordnet is already up-to-date!\n"
     ]
    },
    {
     "name": "stdout",
     "output_type": "stream",
     "text": [
      "Requirement already satisfied: yellowbrick in c:\\users\\jesus\\anaconda3\\envs\\learn-env\\lib\\site-packages (1.1)\n",
      "Requirement already satisfied: cycler>=0.10.0 in c:\\users\\jesus\\anaconda3\\envs\\learn-env\\lib\\site-packages (from yellowbrick) (0.10.0)\n",
      "Requirement already satisfied: matplotlib!=3.0.0,>=2.0.2 in c:\\users\\jesus\\anaconda3\\envs\\learn-env\\lib\\site-packages (from yellowbrick) (3.1.1)\n",
      "Requirement already satisfied: scikit-learn>=0.20 in c:\\users\\jesus\\anaconda3\\envs\\learn-env\\lib\\site-packages (from yellowbrick) (0.21.3)\n",
      "Requirement already satisfied: scipy>=1.0.0 in c:\\users\\jesus\\anaconda3\\envs\\learn-env\\lib\\site-packages (from yellowbrick) (1.4.1)\n",
      "Requirement already satisfied: numpy>=1.13.0 in c:\\users\\jesus\\anaconda3\\envs\\learn-env\\lib\\site-packages (from yellowbrick) (1.16.5)\n",
      "Requirement already satisfied: six in c:\\users\\jesus\\anaconda3\\envs\\learn-env\\lib\\site-packages (from cycler>=0.10.0->yellowbrick) (1.12.0)\n",
      "Requirement already satisfied: kiwisolver>=1.0.1 in c:\\users\\jesus\\anaconda3\\envs\\learn-env\\lib\\site-packages (from matplotlib!=3.0.0,>=2.0.2->yellowbrick) (1.1.0)\n",
      "Requirement already satisfied: pyparsing!=2.0.4,!=2.1.2,!=2.1.6,>=2.0.1 in c:\\users\\jesus\\anaconda3\\envs\\learn-env\\lib\\site-packages (from matplotlib!=3.0.0,>=2.0.2->yellowbrick) (2.4.2)\n",
      "Requirement already satisfied: python-dateutil>=2.1 in c:\\users\\jesus\\anaconda3\\envs\\learn-env\\lib\\site-packages (from matplotlib!=3.0.0,>=2.0.2->yellowbrick) (2.8.0)\n",
      "Requirement already satisfied: joblib>=0.11 in c:\\users\\jesus\\anaconda3\\envs\\learn-env\\lib\\site-packages (from scikit-learn>=0.20->yellowbrick) (0.13.2)\n",
      "Requirement already satisfied: setuptools in c:\\users\\jesus\\anaconda3\\envs\\learn-env\\lib\\site-packages (from kiwisolver>=1.0.1->matplotlib!=3.0.0,>=2.0.2->yellowbrick) (41.4.0)\n"
     ]
    }
   ],
   "source": [
    "from IPython.display import display\n",
    "from IPython.display import Image\n",
    "import pydotplus\n",
    "\n",
    "from subprocess import call\n",
    "\n",
    "import numpy as np\n",
    "import pandas as pd\n",
    "import itertools\n",
    "\n",
    "import matplotlib.pyplot as plt\n",
    "import matplotlib.image as mpimg\n",
    "%matplotlib inline\n",
    "import seaborn as sns\n",
    "\n",
    "\n",
    "from sklearn.externals.six import StringIO \n",
    "from sklearn.model_selection import train_test_split, GridSearchCV, StratifiedKFold\n",
    "from sklearn.metrics import confusion_matrix, roc_curve, roc_auc_score, classification_report,accuracy_score, f1_score \n",
    "from sklearn.linear_model import LogisticRegression, LinearRegression\n",
    "from sklearn.svm import SVC\n",
    "from sklearn.ensemble import VotingClassifier, BaggingClassifier, AdaBoostClassifier, RandomForestClassifier\n",
    "from sklearn.preprocessing import StandardScaler, LabelEncoder, OneHotEncoder\n",
    "from xgboost.sklearn import XGBClassifier\n",
    "from sklearn.neighbors import KNeighborsClassifier\n",
    "from mlxtend.classifier import StackingClassifier\n",
    "from sklearn.model_selection import KFold,cross_val_predict,cross_val_score, cross_validate\n",
    "from sklearn.linear_model import LinearRegression,RidgeCV, LassoCV\n",
    "from sklearn.preprocessing import MinMaxScaler\n",
    "from sklearn.linear_model import Lasso, Ridge, LinearRegression, ElasticNet\n",
    "from sklearn.preprocessing import PolynomialFeatures\n",
    "from sklearn import preprocessing\n",
    "from sklearn.metrics import mean_squared_error, r2_score\n",
    "from sklearn.cluster import KMeans\n",
    "import scipy.cluster.hierarchy as shc\n",
    "from sklearn.metrics import multilabel_confusion_matrix\n",
    "from sklearn.naive_bayes import MultinomialNB\n",
    "from sklearn import metrics\n",
    "from matplotlib import cm\n",
    "from sklearn.ensemble import RandomForestClassifier,GradientBoostingClassifier\n",
    "from sklearn.metrics import accuracy_score\n",
    "from sklearn.naive_bayes import GaussianNB\n",
    "from sklearn.metrics import silhouette_score\n",
    "from sklearn.feature_extraction.text import CountVectorizer,TfidfVectorizer, TfidfTransformer\n",
    "from sklearn.naive_bayes import MultinomialNB,GaussianNB\n",
    "\n",
    "from sklearn import tree\n",
    "from sklearn.tree import export_graphviz\n",
    "import string\n",
    "import warnings\n",
    "warnings.filterwarnings('ignore')\n",
    "\n",
    "sns.set_style(\"darkgrid\")\n",
    "\n",
    "from mpl_toolkits.mplot3d import Axes3D\n",
    "\n",
    "np.random.seed(0)\n",
    "\n",
    "from sklearn.utils.testing import all_estimators\n",
    "from nltk.tokenize import word_tokenize, sent_tokenize\n",
    "from nltk.corpus import stopwords \n",
    "from nltk.probability import FreqDist\n",
    "from nltk.stem import PorterStemmer\n",
    "import nltk\n",
    "nltk.download('stopwords')\n",
    "nltk.download('punkt')\n",
    "nltk.download('wordnet') \n",
    "from nltk.probability import FreqDist\n",
    "from nltk.corpus import stopwords\n",
    "\n",
    "from matplotlib import cm\n",
    "\n",
    "from itertools import combinations, product\n",
    "\n",
    "import statsmodels.api as sm\n",
    "from statsmodels.formula.api import ols\n",
    "!pip install yellowbrick\n",
    "from yellowbrick.datasets import load_concrete\n",
    "from yellowbrick.regressor import ResidualsPlot\n",
    "\n"
   ]
  },
  {
   "cell_type": "code",
   "execution_count": 2,
   "metadata": {
    "scrolled": true
   },
   "outputs": [
    {
     "data": {
      "text/html": [
       "<div>\n",
       "<style scoped>\n",
       "    .dataframe tbody tr th:only-of-type {\n",
       "        vertical-align: middle;\n",
       "    }\n",
       "\n",
       "    .dataframe tbody tr th {\n",
       "        vertical-align: top;\n",
       "    }\n",
       "\n",
       "    .dataframe thead th {\n",
       "        text-align: right;\n",
       "    }\n",
       "</style>\n",
       "<table border=\"1\" class=\"dataframe\">\n",
       "  <thead>\n",
       "    <tr style=\"text-align: right;\">\n",
       "      <th></th>\n",
       "      <th>train_id</th>\n",
       "      <th>name</th>\n",
       "      <th>item_condition_id</th>\n",
       "      <th>category_name</th>\n",
       "      <th>brand_name</th>\n",
       "      <th>price</th>\n",
       "      <th>shipping</th>\n",
       "      <th>item_description</th>\n",
       "    </tr>\n",
       "  </thead>\n",
       "  <tbody>\n",
       "    <tr>\n",
       "      <td>0</td>\n",
       "      <td>0</td>\n",
       "      <td>MLB Cincinnati Reds T Shirt Size XL</td>\n",
       "      <td>3</td>\n",
       "      <td>Men/Tops/T-shirts</td>\n",
       "      <td>NaN</td>\n",
       "      <td>10.0</td>\n",
       "      <td>1</td>\n",
       "      <td>No description yet</td>\n",
       "    </tr>\n",
       "    <tr>\n",
       "      <td>1</td>\n",
       "      <td>1</td>\n",
       "      <td>Razer BlackWidow Chroma Keyboard</td>\n",
       "      <td>3</td>\n",
       "      <td>Electronics/Computers &amp; Tablets/Components &amp; P...</td>\n",
       "      <td>Razer</td>\n",
       "      <td>52.0</td>\n",
       "      <td>0</td>\n",
       "      <td>This keyboard is in great condition and works ...</td>\n",
       "    </tr>\n",
       "    <tr>\n",
       "      <td>2</td>\n",
       "      <td>2</td>\n",
       "      <td>AVA-VIV Blouse</td>\n",
       "      <td>1</td>\n",
       "      <td>Women/Tops &amp; Blouses/Blouse</td>\n",
       "      <td>Target</td>\n",
       "      <td>10.0</td>\n",
       "      <td>1</td>\n",
       "      <td>Adorable top with a hint of lace and a key hol...</td>\n",
       "    </tr>\n",
       "    <tr>\n",
       "      <td>3</td>\n",
       "      <td>3</td>\n",
       "      <td>Leather Horse Statues</td>\n",
       "      <td>1</td>\n",
       "      <td>Home/Home Décor/Home Décor Accents</td>\n",
       "      <td>NaN</td>\n",
       "      <td>35.0</td>\n",
       "      <td>1</td>\n",
       "      <td>New with tags. Leather horses. Retail for [rm]...</td>\n",
       "    </tr>\n",
       "    <tr>\n",
       "      <td>4</td>\n",
       "      <td>4</td>\n",
       "      <td>24K GOLD plated rose</td>\n",
       "      <td>1</td>\n",
       "      <td>Women/Jewelry/Necklaces</td>\n",
       "      <td>NaN</td>\n",
       "      <td>44.0</td>\n",
       "      <td>0</td>\n",
       "      <td>Complete with certificate of authenticity</td>\n",
       "    </tr>\n",
       "  </tbody>\n",
       "</table>\n",
       "</div>"
      ],
      "text/plain": [
       "   train_id                                 name  item_condition_id  \\\n",
       "0         0  MLB Cincinnati Reds T Shirt Size XL                  3   \n",
       "1         1     Razer BlackWidow Chroma Keyboard                  3   \n",
       "2         2                       AVA-VIV Blouse                  1   \n",
       "3         3                Leather Horse Statues                  1   \n",
       "4         4                 24K GOLD plated rose                  1   \n",
       "\n",
       "                                       category_name brand_name  price  \\\n",
       "0                                  Men/Tops/T-shirts        NaN   10.0   \n",
       "1  Electronics/Computers & Tablets/Components & P...      Razer   52.0   \n",
       "2                        Women/Tops & Blouses/Blouse     Target   10.0   \n",
       "3                 Home/Home Décor/Home Décor Accents        NaN   35.0   \n",
       "4                            Women/Jewelry/Necklaces        NaN   44.0   \n",
       "\n",
       "   shipping                                   item_description  \n",
       "0         1                                 No description yet  \n",
       "1         0  This keyboard is in great condition and works ...  \n",
       "2         1  Adorable top with a hint of lace and a key hol...  \n",
       "3         1  New with tags. Leather horses. Retail for [rm]...  \n",
       "4         0          Complete with certificate of authenticity  "
      ]
     },
     "execution_count": 2,
     "metadata": {},
     "output_type": "execute_result"
    }
   ],
   "source": [
    "df_train = pd.read_csv(\"train.tsv\", sep = '\\t')\n",
    "df_test = pd.read_csv(\"test.tsv\", sep = '\\t')\n",
    "df_train.shape\n",
    "df_train.head()"
   ]
  },
  {
   "cell_type": "markdown",
   "metadata": {},
   "source": [
    "# Data Cleaning"
   ]
  },
  {
   "cell_type": "code",
   "execution_count": 3,
   "metadata": {},
   "outputs": [
    {
     "name": "stdout",
     "output_type": "stream",
     "text": [
      "<class 'pandas.core.frame.DataFrame'>\n",
      "RangeIndex: 1482535 entries, 0 to 1482534\n",
      "Data columns (total 8 columns):\n",
      "train_id             1482535 non-null int64\n",
      "name                 1482535 non-null object\n",
      "item_condition_id    1482535 non-null int64\n",
      "category_name        1476208 non-null object\n",
      "brand_name           849853 non-null object\n",
      "price                1482535 non-null float64\n",
      "shipping             1482535 non-null int64\n",
      "item_description     1482531 non-null object\n",
      "dtypes: float64(1), int64(3), object(4)\n",
      "memory usage: 90.5+ MB\n"
     ]
    }
   ],
   "source": [
    "# Check the Feature Type and Null Value\n",
    "df_train.info()"
   ]
  },
  {
   "cell_type": "code",
   "execution_count": 4,
   "metadata": {
    "scrolled": false
   },
   "outputs": [
    {
     "data": {
      "text/plain": [
       "train_id                  0\n",
       "name                      0\n",
       "item_condition_id         0\n",
       "category_name          6327\n",
       "brand_name           632682\n",
       "price                     0\n",
       "shipping                  0\n",
       "item_description          4\n",
       "dtype: int64"
      ]
     },
     "execution_count": 4,
     "metadata": {},
     "output_type": "execute_result"
    }
   ],
   "source": [
    "df_train.isnull().sum()"
   ]
  },
  {
   "cell_type": "markdown",
   "metadata": {},
   "source": [
    "# Data Description"
   ]
  },
  {
   "cell_type": "raw",
   "metadata": {},
   "source": [
    "From the table above :\n",
    "*) No need to touch [Train_id] and [ name : String value, the Name of the product.] \n",
    "0) [Price] : my target-variable. float variable, should be predicted.\n",
    "1) [item_condition_id]:int value, where id = 1 means product is in best Condition, greater value low condition.\n",
    "2) [category name] :String Value. It currently has also roughly 6,300 of null values.\n",
    "3) [Brand_name]: String Value, brand of each product.It has 632,682 of null values\n",
    "4) [shipping] : boolean value(dummy variable), shipping = 1 means seller pay the shipping fees shipping = 0 buyer who pay such fees.\n",
    "5) [Item-description] : String value, the description of product, 4 of non-value."
   ]
  },
  {
   "cell_type": "markdown",
   "metadata": {},
   "source": [
    "0) Price : my target-variable"
   ]
  },
  {
   "cell_type": "code",
   "execution_count": 5,
   "metadata": {
    "scrolled": true
   },
   "outputs": [
    {
     "data": {
      "image/png": "[encoded data removed]",
      "text/plain": [
       "<Figure size 1080x720 with 2 Axes>"
      ]
     },
     "metadata": {
      "needs_background": "light"
     },
     "output_type": "display_data"
    }
   ],
   "source": [
    "fig, ax = plt.subplots(2, 1, figsize = (15, 10))\n",
    "sns.boxplot(df_train.price, showfliers = False, ax = ax[0])\n",
    "ax[1].hist(df_train.price, bins = 300, range = [0, 300], label = \"price\")\n",
    "ax[1].set_title(\"Price Distribution\", fontsize = 20)\n",
    "ax[1].set_xlabel(\"Price\", fontsize = 15)\n",
    "ax[1].set_ylabel(\"Samples\", fontsize = 15)\n",
    "plt.show()"
   ]
  },
  {
   "cell_type": "code",
   "execution_count": 6,
   "metadata": {},
   "outputs": [
    {
     "data": {
      "text/plain": [
       "<matplotlib.axes._subplots.AxesSubplot at 0x218b3e954a8>"
      ]
     },
     "execution_count": 6,
     "metadata": {},
     "output_type": "execute_result"
    },
    {
     "data": {
      "image/png": "[encoded data removed]",
      "text/plain": [
       "<Figure size 432x288 with 1 Axes>"
      ]
     },
     "metadata": {
      "needs_background": "light"
     },
     "output_type": "display_data"
    }
   ],
   "source": [
    "#Since the Price is Right skewed . Here i apply the Log transformation onto the price.\n",
    "df_train.price= np.log1p(df_train.price)\n",
    "sns.distplot(df_train.price, kde=False)"
   ]
  },
  {
   "cell_type": "code",
   "execution_count": 7,
   "metadata": {
    "scrolled": true
   },
   "outputs": [
    {
     "data": {
      "text/plain": [
       "0    1.223156\n",
       "1    1.603479\n",
       "2    1.223156\n",
       "3    1.522467\n",
       "4    1.570003\n",
       "Name: price, dtype: float64"
      ]
     },
     "execution_count": 7,
     "metadata": {},
     "output_type": "execute_result"
    }
   ],
   "source": [
    "# Now, it looks like normal distribution now\n",
    "df_train.price = np.log1p(df_train.price)\n",
    "df_train.price.head()"
   ]
  },
  {
   "cell_type": "code",
   "execution_count": 8,
   "metadata": {},
   "outputs": [],
   "source": [
    "y_train = np.log1p(df_train.price)"
   ]
  },
  {
   "cell_type": "markdown",
   "metadata": {},
   "source": [
    "1) item_condition_id"
   ]
  },
  {
   "cell_type": "code",
   "execution_count": 9,
   "metadata": {
    "scrolled": false
   },
   "outputs": [
    {
     "data": {
      "text/plain": [
       "1    640549\n",
       "3    432161\n",
       "2    375479\n",
       "4     31962\n",
       "5      2384\n",
       "Name: item_condition_id, dtype: int64"
      ]
     },
     "execution_count": 9,
     "metadata": {},
     "output_type": "execute_result"
    }
   ],
   "source": [
    "df_train['item_condition_id'].value_counts()"
   ]
  },
  {
   "cell_type": "code",
   "execution_count": 10,
   "metadata": {
    "scrolled": true
   },
   "outputs": [
    {
     "ename": "NameError",
     "evalue": "name 'mercari_df' is not defined",
     "output_type": "error",
     "traceback": [
      "\u001b[1;31m---------------------------------------------------------------------------\u001b[0m",
      "\u001b[1;31mNameError\u001b[0m                                 Traceback (most recent call last)",
      "\u001b[1;32m<ipython-input-10-e28bfd869d3b>\u001b[0m in \u001b[0;36m<module>\u001b[1;34m\u001b[0m\n\u001b[0;32m      6\u001b[0m     \u001b[0mheight\u001b[0m \u001b[1;33m=\u001b[0m \u001b[0msqu\u001b[0m\u001b[1;33m.\u001b[0m\u001b[0mget_height\u001b[0m\u001b[1;33m(\u001b[0m\u001b[1;33m)\u001b[0m\u001b[1;33m\u001b[0m\u001b[1;33m\u001b[0m\u001b[0m\n\u001b[0;32m      7\u001b[0m     \u001b[0max\u001b[0m\u001b[1;33m[\u001b[0m\u001b[1;36m0\u001b[0m\u001b[1;33m]\u001b[0m\u001b[1;33m.\u001b[0m\u001b[0mtext\u001b[0m\u001b[1;33m(\u001b[0m\u001b[0msqu\u001b[0m\u001b[1;33m.\u001b[0m\u001b[0mget_x\u001b[0m\u001b[1;33m(\u001b[0m\u001b[1;33m)\u001b[0m \u001b[1;33m+\u001b[0m \u001b[0msqu\u001b[0m\u001b[1;33m.\u001b[0m\u001b[0mget_width\u001b[0m\u001b[1;33m(\u001b[0m\u001b[1;33m)\u001b[0m\u001b[1;33m/\u001b[0m\u001b[1;36m2\u001b[0m\u001b[1;33m,\u001b[0m \u001b[0mheight\u001b[0m \u001b[1;33m+\u001b[0m \u001b[1;36m5\u001b[0m\u001b[1;33m,\u001b[0m \u001b[0mlabel\u001b[0m\u001b[1;33m,\u001b[0m \u001b[0mha\u001b[0m \u001b[1;33m=\u001b[0m \u001b[1;34m\"center\"\u001b[0m\u001b[1;33m,\u001b[0m \u001b[0mva\u001b[0m \u001b[1;33m=\u001b[0m \u001b[1;34m\"bottom\"\u001b[0m\u001b[1;33m)\u001b[0m\u001b[1;33m\u001b[0m\u001b[1;33m\u001b[0m\u001b[0m\n\u001b[1;32m----> 8\u001b[1;33m \u001b[0msns\u001b[0m\u001b[1;33m.\u001b[0m\u001b[0mboxplot\u001b[0m\u001b[1;33m(\u001b[0m\u001b[0mx\u001b[0m \u001b[1;33m=\u001b[0m \u001b[0mmercari_df\u001b[0m\u001b[1;33m[\u001b[0m\u001b[1;34m'item_condition_id'\u001b[0m\u001b[1;33m]\u001b[0m\u001b[1;33m,\u001b[0m \u001b[0my\u001b[0m \u001b[1;33m=\u001b[0m \u001b[0mmercari_df\u001b[0m\u001b[1;33m.\u001b[0m\u001b[0mprice\u001b[0m\u001b[1;33m,\u001b[0m \u001b[0morient\u001b[0m \u001b[1;33m=\u001b[0m \u001b[1;34m\"v\"\u001b[0m\u001b[1;33m,\u001b[0m \u001b[0max\u001b[0m \u001b[1;33m=\u001b[0m \u001b[0max\u001b[0m\u001b[1;33m[\u001b[0m\u001b[1;36m1\u001b[0m\u001b[1;33m]\u001b[0m\u001b[1;33m)\u001b[0m\u001b[1;33m\u001b[0m\u001b[1;33m\u001b[0m\u001b[0m\n\u001b[0m\u001b[0;32m      9\u001b[0m \u001b[0mplt\u001b[0m\u001b[1;33m.\u001b[0m\u001b[0mshow\u001b[0m\u001b[1;33m(\u001b[0m\u001b[1;33m)\u001b[0m\u001b[1;33m\u001b[0m\u001b[1;33m\u001b[0m\u001b[0m\n",
      "\u001b[1;31mNameError\u001b[0m: name 'mercari_df' is not defined"
     ]
    },
    {
     "data": {
      "image/png": "[encoded data removed]",
      "text/plain": [
       "<Figure size 1080x864 with 2 Axes>"
      ]
     },
     "metadata": {
      "needs_background": "light"
     },
     "output_type": "display_data"
    }
   ],
   "source": [
    "fig, ax = plt.subplots(2, 1, figsize = (15, 12))\n",
    "sns.countplot(df_train['item_condition_id'], ax = ax[0])\n",
    "squ = ax[0].patches\n",
    "labels = df_train['item_condition_id'].value_counts().values\n",
    "for squ, label in zip(squ, labels):\n",
    "    height = squ.get_height()\n",
    "    ax[0].text(squ.get_x() + squ.get_width()/2, height + 5, label, ha = \"center\", va = \"bottom\")\n",
    "sns.boxplot(x = mercari_df['item_condition_id'], y = mercari_df.price, orient = \"v\", ax = ax[1])\n",
    "plt.show()"
   ]
  },
  {
   "cell_type": "code",
   "execution_count": 11,
   "metadata": {},
   "outputs": [],
   "source": [
    "df_train[\"item_condition_id\"] = df_train[\"item_condition_id\"].astype(\"category\")"
   ]
  },
  {
   "cell_type": "markdown",
   "metadata": {},
   "source": [
    "2) Category_name: has roughly 6,300 of null values and I need to split catergories."
   ]
  },
  {
   "cell_type": "code",
   "execution_count": 12,
   "metadata": {},
   "outputs": [
    {
     "data": {
      "text/plain": [
       "Women/Athletic Apparel/Pants, Tights, Leggings    60177\n",
       "Women/Tops & Blouses/T-Shirts                     46380\n",
       "Beauty/Makeup/Face                                34335\n",
       "Beauty/Makeup/Lips                                29910\n",
       "Electronics/Video Games & Consoles/Games          26557\n",
       "                                                  ...  \n",
       "Handmade/Bags and Purses/Wallet                       1\n",
       "Handmade/Dolls and Miniatures/Primitive               1\n",
       "Handmade/Geekery/Housewares                           1\n",
       "Handmade/Patterns/Embroidery                          1\n",
       "Men/Blazers & Sport Coats/Double Breasted             1\n",
       "Name: category_name, Length: 1287, dtype: int64"
      ]
     },
     "execution_count": 12,
     "metadata": {},
     "output_type": "execute_result"
    }
   ],
   "source": [
    "df_train[\"category_name\"].value_counts()"
   ]
  },
  {
   "cell_type": "code",
   "execution_count": 13,
   "metadata": {},
   "outputs": [],
   "source": [
    "# Split the Category and remove null-values\n",
    "def split_cat(category_name):\n",
    "    try:\n",
    "        return category_name.split('/')\n",
    "    except:\n",
    "        return ['Other_Null', 'Other_Null', 'Other_Null']"
   ]
  },
  {
   "cell_type": "code",
   "execution_count": 14,
   "metadata": {},
   "outputs": [],
   "source": [
    "df_train['cat_Big'], df_train['cat_Med'], df_train['cat_Small']= zip(*df_train.category_name.apply(split_cat))\n",
    "df_test['cat_Big'], df_test['cat_Med'], df_test['cat_Small']= zip(*df_test.category_name.apply(split_cat))"
   ]
  },
  {
   "cell_type": "code",
   "execution_count": 15,
   "metadata": {
    "scrolled": false
   },
   "outputs": [
    {
     "name": "stdout",
     "output_type": "stream",
     "text": [
      "Women                     664385\n",
      "Beauty                    207828\n",
      "Kids                      171689\n",
      "Electronics               122690\n",
      "Men                        93680\n",
      "Home                       67871\n",
      "Vintage & Collectibles     46530\n",
      "Other                      45351\n",
      "Handmade                   30842\n",
      "Sports & Outdoors          25342\n",
      "Other_Null                  6327\n",
      "Name: cat_Big, dtype: int64\n",
      "11\n"
     ]
    }
   ],
   "source": [
    "print(df_train['cat_Big'].value_counts())\n",
    "print(df_train['cat_Big'].nunique())"
   ]
  },
  {
   "cell_type": "code",
   "execution_count": 16,
   "metadata": {},
   "outputs": [],
   "source": [
    "df_train['cat_Big'] = df_train['cat_Big'].astype(\"category\")"
   ]
  },
  {
   "cell_type": "code",
   "execution_count": 17,
   "metadata": {
    "scrolled": true
   },
   "outputs": [
    {
     "name": "stdout",
     "output_type": "stream",
     "text": [
      "Athletic Apparel        134383\n",
      "Makeup                  124624\n",
      "Tops & Blouses          106960\n",
      "Shoes                   100452\n",
      "Jewelry                  61763\n",
      "                         ...  \n",
      "Candles                     64\n",
      "Ceramics and Pottery        57\n",
      "Dolls and Miniatures        49\n",
      "Books and Zines             46\n",
      "Quilts                      31\n",
      "Name: cat_Med, Length: 114, dtype: int64\n",
      "114\n"
     ]
    }
   ],
   "source": [
    "print(df_train['cat_Med'].value_counts())\n",
    "print(df_train['cat_Med'].nunique())"
   ]
  },
  {
   "cell_type": "code",
   "execution_count": 18,
   "metadata": {},
   "outputs": [],
   "source": [
    "df_train['cat_Med'] = df_train['cat_Med'].astype(\"category\")"
   ]
  },
  {
   "cell_type": "code",
   "execution_count": 19,
   "metadata": {
    "scrolled": false
   },
   "outputs": [
    {
     "name": "stdout",
     "output_type": "stream",
     "text": [
      "Pants, Tights, Leggings    60177\n",
      "Other                      50224\n",
      "Face                       50171\n",
      "T-Shirts                   46380\n",
      "Shoes                      32168\n",
      "                           ...  \n",
      "Dishwashers                    1\n",
      "Ephemera                       1\n",
      "Map                            1\n",
      "Double Breasted                1\n",
      "Frames                         1\n",
      "Name: cat_Small, Length: 871, dtype: int64\n",
      "871\n"
     ]
    }
   ],
   "source": [
    "print(df_train['cat_Small'].value_counts())\n",
    "print(df_train['cat_Small'].nunique())"
   ]
  },
  {
   "cell_type": "code",
   "execution_count": 20,
   "metadata": {},
   "outputs": [],
   "source": [
    "df_train['cat_Small'] = df_train['cat_Small'].astype(\"category\")"
   ]
  },
  {
   "cell_type": "markdown",
   "metadata": {},
   "source": [
    "Now, Category_name is cleaned and removed the null_values."
   ]
  },
  {
   "cell_type": "markdown",
   "metadata": {},
   "source": [
    "3) Brand_name: has almost half of null values"
   ]
  },
  {
   "cell_type": "code",
   "execution_count": 21,
   "metadata": {
    "scrolled": false
   },
   "outputs": [
    {
     "data": {
      "text/plain": [
       "PINK                 54088\n",
       "Nike                 54043\n",
       "Victoria's Secret    48036\n",
       "LuLaRoe              31024\n",
       "Apple                17322\n",
       "                     ...  \n",
       "Whiskas                  1\n",
       "Upspring                 1\n",
       "Lillie Rubin             1\n",
       "Hoover                   1\n",
       "JET Performance          1\n",
       "Name: brand_name, Length: 4809, dtype: int64"
      ]
     },
     "execution_count": 21,
     "metadata": {},
     "output_type": "execute_result"
    }
   ],
   "source": [
    "df_train['brand_name'].value_counts()"
   ]
  },
  {
   "cell_type": "code",
   "execution_count": 22,
   "metadata": {},
   "outputs": [
    {
     "data": {
      "text/plain": [
       "4809"
      ]
     },
     "execution_count": 22,
     "metadata": {},
     "output_type": "execute_result"
    }
   ],
   "source": [
    "df_train['brand_name'].nunique()"
   ]
  },
  {
   "cell_type": "code",
   "execution_count": 23,
   "metadata": {},
   "outputs": [],
   "source": [
    "df_train['brand_name'] = df_train['brand_name'].fillna(value = 'Other_Null')\n",
    "df_train[\"brand_name\"] = df_train[\"brand_name\"].astype(\"category\")"
   ]
  },
  {
   "cell_type": "markdown",
   "metadata": {},
   "source": [
    "5) [shipping] "
   ]
  },
  {
   "cell_type": "code",
   "execution_count": 24,
   "metadata": {
    "scrolled": true
   },
   "outputs": [
    {
     "data": {
      "text/plain": [
       "0    819435\n",
       "1    663100\n",
       "Name: shipping, dtype: int64"
      ]
     },
     "execution_count": 24,
     "metadata": {},
     "output_type": "execute_result"
    }
   ],
   "source": [
    "df_train.shipping.value_counts()"
   ]
  },
  {
   "cell_type": "code",
   "execution_count": 25,
   "metadata": {},
   "outputs": [],
   "source": [
    "df_train['shipping'] = df_train['shipping'].astype('category')"
   ]
  },
  {
   "cell_type": "markdown",
   "metadata": {},
   "source": [
    "6) Item-description : Delete 4 of 'non-value' and 'No decription yet'"
   ]
  },
  {
   "cell_type": "code",
   "execution_count": 26,
   "metadata": {},
   "outputs": [
    {
     "data": {
      "text/plain": [
       "No description yet                                                                                                                                                                                                                                                    82489\n",
       "New                                                                                                                                                                                                                                                                    4099\n",
       "Brand new                                                                                                                                                                                                                                                              3058\n",
       "Good condition                                                                                                                                                                                                                                                         1274\n",
       "Great condition                                                                                                                                                                                                                                                        1158\n",
       "                                                                                                                                                                                                                                                                      ...  \n",
       "Size XS No rips or stains                                                                                                                                                                                                                                                 1\n",
       "BOTH TOPS: Grey and blue color, never worn NWT. Size Medium.                                                                                                                                                                                                              1\n",
       "Here is your bundle of the Rae Dunn canisters : Hugs & Kisses I will package it to ensure safe travels while shipping. Bubble wrap and packing paper to keep tight and secure .                                                                                           1\n",
       "Yugioh monarch support                                                                                                                                                                                                                                                    1\n",
       "Size large pink Victoria Secret. The shirt is half sleeve still has tags the pants have tags no holes or stains. It will still include the bag I just had to take it out of pics so I could show you the other pants. It will only let me do 4 pics per listing :)        1\n",
       "Name: item_description, Length: 1281426, dtype: int64"
      ]
     },
     "execution_count": 26,
     "metadata": {},
     "output_type": "execute_result"
    }
   ],
   "source": [
    "df_train[\"item_description\"].value_counts()"
   ]
  },
  {
   "cell_type": "code",
   "execution_count": 27,
   "metadata": {
    "scrolled": true
   },
   "outputs": [
    {
     "data": {
      "text/plain": [
       "No description yet                                                                                                                                                                                                                                                    82489\n",
       "New                                                                                                                                                                                                                                                                    4099\n",
       "Brand new                                                                                                                                                                                                                                                              3058\n",
       "Good condition                                                                                                                                                                                                                                                         1274\n",
       "Great condition                                                                                                                                                                                                                                                        1158\n",
       "                                                                                                                                                                                                                                                                      ...  \n",
       "Size XS No rips or stains                                                                                                                                                                                                                                                 1\n",
       "BOTH TOPS: Grey and blue color, never worn NWT. Size Medium.                                                                                                                                                                                                              1\n",
       "Here is your bundle of the Rae Dunn canisters : Hugs & Kisses I will package it to ensure safe travels while shipping. Bubble wrap and packing paper to keep tight and secure .                                                                                           1\n",
       "Yugioh monarch support                                                                                                                                                                                                                                                    1\n",
       "Size large pink Victoria Secret. The shirt is half sleeve still has tags the pants have tags no holes or stains. It will still include the bag I just had to take it out of pics so I could show you the other pants. It will only let me do 4 pics per listing :)        1\n",
       "Name: item_description, Length: 1281426, dtype: int64"
      ]
     },
     "execution_count": 27,
     "metadata": {},
     "output_type": "execute_result"
    }
   ],
   "source": [
    "df_train[\"item_description\"].value_counts()"
   ]
  },
  {
   "cell_type": "code",
   "execution_count": 28,
   "metadata": {},
   "outputs": [],
   "source": [
    "df_train[\"item_description\"] = df_train[\"item_description\"].fillna(value = 'Other_Null')\n",
    "df_train['item_description'] = df_train['item_description'].astype(str)"
   ]
  },
  {
   "cell_type": "code",
   "execution_count": 29,
   "metadata": {
    "scrolled": true
   },
   "outputs": [
    {
     "data": {
      "image/png": "[encoded data removed]",
      "text/plain": [
       "<Figure size 1152x1152 with 2 Axes>"
      ]
     },
     "metadata": {
      "needs_background": "light"
     },
     "output_type": "display_data"
    }
   ],
   "source": [
    "df_train.hist(bins=30, figsize=(16,16))\n",
    "plt.show()"
   ]
  },
  {
   "cell_type": "code",
   "execution_count": 31,
   "metadata": {
    "scrolled": false
   },
   "outputs": [
    {
     "data": {
      "text/plain": [
       "train_id                0\n",
       "name                    0\n",
       "item_condition_id       0\n",
       "category_name        6327\n",
       "brand_name              0\n",
       "price                   0\n",
       "shipping                0\n",
       "item_description        0\n",
       "cat_Big                 0\n",
       "cat_Med                 0\n",
       "cat_Small               0\n",
       "dtype: int64"
      ]
     },
     "execution_count": 31,
     "metadata": {},
     "output_type": "execute_result"
    }
   ],
   "source": [
    "df_train.isnull().sum()"
   ]
  },
  {
   "cell_type": "code",
   "execution_count": 32,
   "metadata": {
    "scrolled": false
   },
   "outputs": [
    {
     "name": "stdout",
     "output_type": "stream",
     "text": [
      "<class 'pandas.core.frame.DataFrame'>\n",
      "RangeIndex: 1482535 entries, 0 to 1482534\n",
      "Data columns (total 11 columns):\n",
      "train_id             1482535 non-null int64\n",
      "name                 1482535 non-null object\n",
      "item_condition_id    1482535 non-null category\n",
      "category_name        1476208 non-null object\n",
      "brand_name           1482535 non-null category\n",
      "price                1482535 non-null float64\n",
      "shipping             1482535 non-null category\n",
      "item_description     1482535 non-null object\n",
      "cat_Big              1482535 non-null category\n",
      "cat_Med              1482535 non-null category\n",
      "cat_Small            1482535 non-null category\n",
      "dtypes: category(6), float64(1), int64(1), object(3)\n",
      "memory usage: 68.1+ MB\n"
     ]
    }
   ],
   "source": [
    "df_train.info()"
   ]
  },
  {
   "cell_type": "markdown",
   "metadata": {},
   "source": [
    "Apply exactly same format to the test data"
   ]
  },
  {
   "cell_type": "code",
   "execution_count": 33,
   "metadata": {},
   "outputs": [],
   "source": [
    "df_test['brand_name'] = df_test['brand_name'].fillna(\"Other_Null\")\n",
    "df_test['item_description'] = df_test['item_description'].fillna(\"Other_Null\")\n",
    "df_test['item_description'] = df_test['item_description'].astype(str)\n",
    "df_test['shipping'] = df_test['shipping'].astype('category')\n",
    "df_test['item_condition_id'] = df_test['item_condition_id'].astype('category')\n",
    "\n"
   ]
  },
  {
   "cell_type": "code",
   "execution_count": 36,
   "metadata": {},
   "outputs": [
    {
     "data": {
      "text/plain": [
       "0"
      ]
     },
     "execution_count": 36,
     "metadata": {},
     "output_type": "execute_result"
    }
   ],
   "source": [
    "#To check the duplicates\n",
    "df_train.duplicated().sum()"
   ]
  },
  {
   "cell_type": "markdown",
   "metadata": {},
   "source": [
    "# Feature Encoding/Feature Vectorisation"
   ]
  },
  {
   "cell_type": "code",
   "execution_count": 45,
   "metadata": {},
   "outputs": [],
   "source": [
    "vectorizer = TfidfVectorizer(max_df=0.9, max_features=1_000, stop_words = \"english\")"
   ]
  },
  {
   "cell_type": "code",
   "execution_count": 46,
   "metadata": {},
   "outputs": [],
   "source": [
    "X_desc_train = vectorizer.fit_transform(df_train['item_description'])\n",
    "X_desc_test  = vectorizer.transform(df_test['item_description'])"
   ]
  },
  {
   "cell_type": "code",
   "execution_count": 47,
   "metadata": {},
   "outputs": [
    {
     "name": "stdout",
     "output_type": "stream",
     "text": [
      "We have 1000 keywords from our Description Corpus\n"
     ]
    }
   ],
   "source": [
    "print(\"We have {} keywords from our Description Corpus\".format(len(vectorizer.get_feature_names())))"
   ]
  },
  {
   "cell_type": "code",
   "execution_count": 48,
   "metadata": {},
   "outputs": [
    {
     "name": "stdout",
     "output_type": "stream",
     "text": [
      "Tf-IDF Matrix shape (1482535, 1000), the Original matrix shape 1,482,535\n"
     ]
    }
   ],
   "source": [
    "print(\"Tf-IDF Matrix shape {}, the Original matrix shape {:,}\".format(X_desc_train.get_shape(), df_train.shape[0]))"
   ]
  },
  {
   "cell_type": "code",
   "execution_count": null,
   "metadata": {},
   "outputs": [],
   "source": [
    "from sklearn.preprocessing import LabelBinarizer\n",
    "\n",
    "#onehotencoding for brand_name, item_condtion, shipping\n",
    "\n",
    "lb_brandname=LabelBinarizer(sparse_output=True)\n",
    "x_brand=lb_brandname.fit_transform(df_train['brand_name'])\n",
    "x_brand_test= lb_brandname.transform(df_test['brand_name'])"
   ]
  },
  {
   "cell_type": "code",
   "execution_count": 64,
   "metadata": {},
   "outputs": [],
   "source": [
    "lb_itemcond=LabelBinarizer(sparse_output=True)\n",
    "x_itemcond=lb_itemcond.fit_transform(df_train['item_condition_id'])\n",
    "x_itemcond_test= lb_itemcond.transform(df_test['item_condition_id'])"
   ]
  },
  {
   "cell_type": "code",
   "execution_count": 53,
   "metadata": {},
   "outputs": [],
   "source": [
    "lb_shipping=LabelBinarizer(sparse_output=True)\n",
    "x_shipping=lb_shipping.fit_transform(df_train['shipping'])\n",
    "X_shipping_test= lb_shipping.transform(df_test['shipping'])"
   ]
  },
  {
   "cell_type": "code",
   "execution_count": 61,
   "metadata": {},
   "outputs": [],
   "source": [
    "name_cv = CountVectorizer()\n",
    "X_name_train= name_cv.fit_transform(df_train['name']) \n",
    "X_name_test= name_cv.transform(df_test['name']) "
   ]
  },
  {
   "cell_type": "code",
   "execution_count": 55,
   "metadata": {},
   "outputs": [],
   "source": [
    "lb_cat_Big=LabelBinarizer(sparse_output=True)\n",
    "x_cat_Big=lb_cat_Big.fit_transform(df_train['cat_Big'])\n",
    "x_cat_Big_test= lb_cat_Big.transform(df_test['cat_Big'])"
   ]
  },
  {
   "cell_type": "code",
   "execution_count": 56,
   "metadata": {},
   "outputs": [],
   "source": [
    "lb_cat_Medium=LabelBinarizer(sparse_output=True)\n",
    "x_cat_Medium=lb_cat_Medium.fit_transform(df_train['cat_Med'])\n",
    "x_cat_Medium_test= lb_cat_Medium.transform(df_test['cat_Med'])"
   ]
  },
  {
   "cell_type": "code",
   "execution_count": 57,
   "metadata": {},
   "outputs": [],
   "source": [
    "lb_cat_Small=LabelBinarizer(sparse_output=True)\n",
    "x_cat_Small=lb_cat_Small.fit_transform(df_train['cat_Small'])\n",
    "x_cat_Small_test= lb_cat_Small.transform(df_test['cat_Small'])"
   ]
  },
  {
   "cell_type": "code",
   "execution_count": 67,
   "metadata": {},
   "outputs": [],
   "source": [
    "import scipy\n",
    "X_train = scipy.sparse.hstack((\n",
    "                        x_brand,\n",
    "                        X_desc_train,\n",
    "                        x_itemcond,\n",
    "                        x_shipping,\n",
    "                        X_name_train,\n",
    "                        x_cat_Big,\n",
    "                        x_cat_Medium,\n",
    "                        x_cat_Small\n",
    "                        )).tocsr()\n",
    "\n",
    "X_test = scipy.sparse.hstack((\n",
    "                        x_brand_test,\n",
    "                        X_desc_test,\n",
    "                        x_itemcond_test,\n",
    "                        X_shipping_test,\n",
    "                        X_name_test,\n",
    "                        x_cat_Big_test,\n",
    "                        x_cat_Medium_test,\n",
    "                        x_cat_Small_test\n",
    "                        )).tocsr()"
   ]
  },
  {
   "cell_type": "code",
   "execution_count": 68,
   "metadata": {},
   "outputs": [
    {
     "data": {
      "text/plain": [
       "((1482535, 112569), (693359, 112569))"
      ]
     },
     "execution_count": 68,
     "metadata": {},
     "output_type": "execute_result"
    }
   ],
   "source": [
    "X_train.shape, X_test.shape"
   ]
  },
  {
   "cell_type": "code",
   "execution_count": 69,
   "metadata": {},
   "outputs": [
    {
     "data": {
      "text/plain": [
       "Ridge(alpha=1.0, copy_X=True, fit_intercept=False, max_iter=None,\n",
       "      normalize=False, random_state=None, solver='lsqr', tol=0.001)"
      ]
     },
     "execution_count": 69,
     "metadata": {},
     "output_type": "execute_result"
    }
   ],
   "source": [
    "model = Ridge(solver='lsqr', fit_intercept=False)\n",
    "model.fit(X_train, y_train)"
   ]
  },
  {
   "cell_type": "code",
   "execution_count": 70,
   "metadata": {},
   "outputs": [],
   "source": [
    "preds = model.predict(X_test)"
   ]
  },
  {
   "cell_type": "code",
   "execution_count": 71,
   "metadata": {},
   "outputs": [],
   "source": [
    "df_test['price'] = np.expm1(preds)"
   ]
  },
  {
   "cell_type": "code",
   "execution_count": 72,
   "metadata": {},
   "outputs": [
    {
     "data": {
      "text/html": [
       "<div>\n",
       "<style scoped>\n",
       "    .dataframe tbody tr th:only-of-type {\n",
       "        vertical-align: middle;\n",
       "    }\n",
       "\n",
       "    .dataframe tbody tr th {\n",
       "        vertical-align: top;\n",
       "    }\n",
       "\n",
       "    .dataframe thead th {\n",
       "        text-align: right;\n",
       "    }\n",
       "</style>\n",
       "<table border=\"1\" class=\"dataframe\">\n",
       "  <thead>\n",
       "    <tr style=\"text-align: right;\">\n",
       "      <th></th>\n",
       "      <th>test_id</th>\n",
       "      <th>price</th>\n",
       "    </tr>\n",
       "  </thead>\n",
       "  <tbody>\n",
       "    <tr>\n",
       "      <td>0</td>\n",
       "      <td>0</td>\n",
       "      <td>1.172651</td>\n",
       "    </tr>\n",
       "    <tr>\n",
       "      <td>1</td>\n",
       "      <td>1</td>\n",
       "      <td>1.299488</td>\n",
       "    </tr>\n",
       "    <tr>\n",
       "      <td>2</td>\n",
       "      <td>2</td>\n",
       "      <td>1.495463</td>\n",
       "    </tr>\n",
       "    <tr>\n",
       "      <td>3</td>\n",
       "      <td>3</td>\n",
       "      <td>1.332137</td>\n",
       "    </tr>\n",
       "    <tr>\n",
       "      <td>4</td>\n",
       "      <td>4</td>\n",
       "      <td>1.188007</td>\n",
       "    </tr>\n",
       "  </tbody>\n",
       "</table>\n",
       "</div>"
      ],
      "text/plain": [
       "   test_id     price\n",
       "0        0  1.172651\n",
       "1        1  1.299488\n",
       "2        2  1.495463\n",
       "3        3  1.332137\n",
       "4        4  1.188007"
      ]
     },
     "execution_count": 72,
     "metadata": {},
     "output_type": "execute_result"
    }
   ],
   "source": [
    "df_test[['test_id', 'price']].head()"
   ]
  },
  {
   "cell_type": "code",
   "execution_count": null,
   "metadata": {},
   "outputs": [],
   "source": []
  },
  {
   "cell_type": "code",
   "execution_count": null,
   "metadata": {},
   "outputs": [],
   "source": []
  },
  {
   "cell_type": "code",
   "execution_count": null,
   "metadata": {},
   "outputs": [],
   "source": []
  },
  {
   "cell_type": "code",
   "execution_count": 38,
   "metadata": {},
   "outputs": [],
   "source": [
    "from sklearn.feature_extraction.text import CountVectorizer\n",
    "cnt_vec = CountVectorizer()\n",
    "x_name = cnt_vec.fit_transform(df_train.name)"
   ]
  },
  {
   "cell_type": "code",
   "execution_count": null,
   "metadata": {},
   "outputs": [],
   "source": []
  },
  {
   "cell_type": "code",
   "execution_count": null,
   "metadata": {},
   "outputs": [],
   "source": []
  },
  {
   "cell_type": "code",
   "execution_count": null,
   "metadata": {},
   "outputs": [],
   "source": []
  },
  {
   "cell_type": "code",
   "execution_count": null,
   "metadata": {},
   "outputs": [],
   "source": []
  },
  {
   "cell_type": "code",
   "execution_count": null,
   "metadata": {},
   "outputs": [],
   "source": []
  },
  {
   "cell_type": "code",
   "execution_count": null,
   "metadata": {},
   "outputs": [],
   "source": []
  },
  {
   "cell_type": "code",
   "execution_count": null,
   "metadata": {},
   "outputs": [],
   "source": []
  },
  {
   "cell_type": "code",
   "execution_count": null,
   "metadata": {},
   "outputs": [],
   "source": []
  },
  {
   "cell_type": "code",
   "execution_count": null,
   "metadata": {},
   "outputs": [],
   "source": []
  },
  {
   "cell_type": "code",
   "execution_count": null,
   "metadata": {},
   "outputs": [],
   "source": []
  },
  {
   "cell_type": "code",
   "execution_count": null,
   "metadata": {},
   "outputs": [],
   "source": []
  },
  {
   "cell_type": "code",
   "execution_count": null,
   "metadata": {},
   "outputs": [],
   "source": []
  },
  {
   "cell_type": "code",
   "execution_count": null,
   "metadata": {},
   "outputs": [],
   "source": []
  },
  {
   "cell_type": "code",
   "execution_count": null,
   "metadata": {},
   "outputs": [],
   "source": []
  },
  {
   "cell_type": "code",
   "execution_count": null,
   "metadata": {},
   "outputs": [],
   "source": []
  },
  {
   "cell_type": "code",
   "execution_count": 42,
   "metadata": {
    "scrolled": true
   },
   "outputs": [
    {
     "name": "stderr",
     "output_type": "stream",
     "text": [
      "[nltk_data] Downloading package stopwords to\n",
      "[nltk_data]     C:\\Users\\jesus\\AppData\\Roaming\\nltk_data...\n",
      "[nltk_data]   Package stopwords is already up-to-date!\n"
     ]
    },
    {
     "data": {
      "text/plain": [
       "True"
      ]
     },
     "execution_count": 42,
     "metadata": {},
     "output_type": "execute_result"
    }
   ],
   "source": [
    "import nltk\n",
    "nltk.download('stopwords')"
   ]
  },
  {
   "cell_type": "code",
   "execution_count": null,
   "metadata": {},
   "outputs": [],
   "source": []
  },
  {
   "cell_type": "code",
   "execution_count": 44,
   "metadata": {},
   "outputs": [
    {
     "ename": "NameError",
     "evalue": "name 'tokenizer' is not defined",
     "output_type": "error",
     "traceback": [
      "\u001b[1;31m---------------------------------------------------------------------------\u001b[0m",
      "\u001b[1;31mNameError\u001b[0m                                 Traceback (most recent call last)",
      "\u001b[1;32m<ipython-input-44-a8f1172c8b62>\u001b[0m in \u001b[0;36m<module>\u001b[1;34m\u001b[0m\n\u001b[0;32m      1\u001b[0m tfidf = TfidfVectorizer(lowercase=True, \n\u001b[0;32m      2\u001b[0m                         \u001b[0mstop_words\u001b[0m\u001b[1;33m=\u001b[0m\u001b[0mstopwords\u001b[0m\u001b[1;33m,\u001b[0m\u001b[1;33m\u001b[0m\u001b[1;33m\u001b[0m\u001b[0m\n\u001b[1;32m----> 3\u001b[1;33m                         \u001b[0mtokenizer\u001b[0m\u001b[1;33m=\u001b[0m\u001b[0mtokenizer\u001b[0m\u001b[1;33m.\u001b[0m\u001b[0mtokenize\u001b[0m\u001b[1;33m,\u001b[0m\u001b[1;33m\u001b[0m\u001b[1;33m\u001b[0m\u001b[0m\n\u001b[0m\u001b[0;32m      4\u001b[0m                          min_df=0.01)\n",
      "\u001b[1;31mNameError\u001b[0m: name 'tokenizer' is not defined"
     ]
    }
   ],
   "source": [
    "tfidf = TfidfVectorizer(lowercase=True, \n",
    "                        stop_words=stopwords, \n",
    "                        tokenizer=tokenizer.tokenize,\n",
    "                         min_df=0.01)\n"
   ]
  },
  {
   "cell_type": "code",
   "execution_count": 40,
   "metadata": {},
   "outputs": [
    {
     "ename": "NameError",
     "evalue": "name 'tfidf' is not defined",
     "output_type": "error",
     "traceback": [
      "\u001b[1;31m---------------------------------------------------------------------------\u001b[0m",
      "\u001b[1;31mNameError\u001b[0m                                 Traceback (most recent call last)",
      "\u001b[1;32m<ipython-input-40-0809227fdb14>\u001b[0m in \u001b[0;36m<module>\u001b[1;34m\u001b[0m\n\u001b[1;32m----> 1\u001b[1;33m \u001b[0mtfidf_train_sparse\u001b[0m \u001b[1;33m=\u001b[0m \u001b[0mtfidf\u001b[0m\u001b[1;33m.\u001b[0m\u001b[0mfit_transform\u001b[0m\u001b[1;33m(\u001b[0m\u001b[0mlemmatized_output\u001b[0m\u001b[1;33m)\u001b[0m\u001b[1;33m\u001b[0m\u001b[1;33m\u001b[0m\u001b[0m\n\u001b[0m\u001b[0;32m      2\u001b[0m tfidf_train_df = pd.DataFrame(tfidf_train_sparse.toarray(), \n\u001b[0;32m      3\u001b[0m                         columns=tfidf.get_feature_names())\n\u001b[0;32m      4\u001b[0m \u001b[1;33m\u001b[0m\u001b[0m\n\u001b[0;32m      5\u001b[0m \u001b[0mtfidf_train_df\u001b[0m\u001b[1;33m.\u001b[0m\u001b[0mhead\u001b[0m\u001b[1;33m(\u001b[0m\u001b[1;33m)\u001b[0m\u001b[1;33m\u001b[0m\u001b[1;33m\u001b[0m\u001b[0m\n",
      "\u001b[1;31mNameError\u001b[0m: name 'tfidf' is not defined"
     ]
    }
   ],
   "source": [
    "tfidf_train_sparse = tfidf.fit_transform(lemmatized_output)\n",
    "tfidf_train_df = pd.DataFrame(tfidf_train_sparse.toarray(), \n",
    "                        columns=tfidf.get_feature_names())\n",
    "\n",
    "tfidf_train_df.head()"
   ]
  },
  {
   "cell_type": "code",
   "execution_count": null,
   "metadata": {},
   "outputs": [],
   "source": []
  },
  {
   "cell_type": "code",
   "execution_count": null,
   "metadata": {},
   "outputs": [],
   "source": []
  },
  {
   "cell_type": "code",
   "execution_count": null,
   "metadata": {},
   "outputs": [],
   "source": []
  },
  {
   "cell_type": "code",
   "execution_count": null,
   "metadata": {},
   "outputs": [],
   "source": []
  },
  {
   "cell_type": "code",
   "execution_count": null,
   "metadata": {},
   "outputs": [],
   "source": [
    "#Token/Stopwords/ Stem or Lemma\n",
    "# One Hot coding / LabelBinarizer\n",
    "# count Vector (Short words: names)\n",
    "# TD-IDF (Long words : Item_description)"
   ]
  },
  {
   "cell_type": "markdown",
   "metadata": {},
   "source": [
    "Vectorisation"
   ]
  },
  {
   "cell_type": "code",
   "execution_count": null,
   "metadata": {},
   "outputs": [],
   "source": [
    "mercari_df['item_description']"
   ]
  },
  {
   "cell_type": "code",
   "execution_count": null,
   "metadata": {},
   "outputs": [],
   "source": [
    "import string, re\n",
    "string.punctuation"
   ]
  },
  {
   "cell_type": "code",
   "execution_count": null,
   "metadata": {},
   "outputs": [],
   "source": [
    "## setting stopwords and punctuations\n",
    "sw_list = stopwords.words('english')\n",
    "sw_list += list(string.punctuation)\n",
    "sw_list += [\"''\", '\"\"', '...', '``', '’', '“', '’', '”', '‘', '‘', '©',\n",
    "            'said', 'one', 'com', 'satirewire', '-', '–', '—', 'satirewire.com']\n",
    "sw_set = set(sw_list)"
   ]
  },
  {
   "cell_type": "code",
   "execution_count": null,
   "metadata": {},
   "outputs": [],
   "source": [
    "# we can define a function that removes stopwords \n",
    "def process_article(article):\n",
    "    tokens = nltk.word_tokenize(article)\n",
    "    stopwords_removed = [token.lower() for token in tokens if token.lower() not in sw_set]\n",
    "    return stopwords_removed"
   ]
  },
  {
   "cell_type": "code",
   "execution_count": null,
   "metadata": {},
   "outputs": [],
   "source": [
    "# applying the above function to our data/features \n",
    "processed_data = list(map(process_article, mercari_df['item_description']))"
   ]
  },
  {
   "cell_type": "code",
   "execution_count": null,
   "metadata": {},
   "outputs": [],
   "source": [
    "total_vocab = set()\n",
    "for comment in processed_data:\n",
    "    total_vocab.update(comment)\n",
    "len(total_vocab)"
   ]
  },
  {
   "cell_type": "code",
   "execution_count": null,
   "metadata": {},
   "outputs": [],
   "source": [
    "#Lemmatization\n",
    "from nltk.stem import WordNetLemmatizer \n",
    "lemmatizer = WordNetLemmatizer()  \n",
    "# creating a list with all lemmatized outputs\n",
    "lemmatized_output = []\n",
    "\n",
    "for listy in processed_data:\n",
    "    lemmed = ' '.join([lemmatizer.lemmatize(w) for w in listy])\n",
    "    lemmatized_output.append(lemmed)\n",
    "    "
   ]
  },
  {
   "cell_type": "markdown",
   "metadata": {},
   "source": [
    "# Feature Vectorisation (Name: Countvector, Item_Desc : TfidfVector)"
   ]
  },
  {
   "cell_type": "code",
   "execution_count": null,
   "metadata": {},
   "outputs": [],
   "source": [
    "from nltk.corpus import stopwords\n",
    "from nltk.tokenize import RegexpTokenizer\n",
    "import re\n",
    "tokenizer = RegexpTokenizer(r'\\b\\w{3,}\\b')\n",
    "stop_words = list(set(stopwords.words(\"english\")))\n",
    "stop_words += list(string.punctuation)\n",
    "stop_words += ['__', '___']\n",
    "\n",
    "nltk.download('stopwords')\n",
    "nltk.download('punkt')\n",
    "nltk.download('wordnet')\n",
    "\n",
    "def rmv_emails_websites(string):\n",
    "    new_str = re.sub(r\"\\S+@\\S+\", '', string)\n",
    "    new_str = re.sub(r\"\\S+.co\\S+\", '', new_str)\n",
    "    new_str = re.sub(r\"\\S+.ed\\S+\", '', new_str)\n",
    "    new_str = re.sub(r\"[0-9]+\", '', new_str)\n",
    "    return new_str"
   ]
  },
  {
   "cell_type": "code",
   "execution_count": null,
   "metadata": {},
   "outputs": [],
   "source": [
    "\n",
    "#X = (mercari_df['name'] + ' ' + mercari_df['item_description']).values\n",
    "#y = np.log1p(mercari_df['price'].values)\n",
    "\n",
    "#X_train, X_test, y_train, y_test= train_test_split(X, y, test_size=0.3, random_state= 50)"
   ]
  },
  {
   "cell_type": "code",
   "execution_count": null,
   "metadata": {},
   "outputs": [],
   "source": [
    "stop_words"
   ]
  },
  {
   "cell_type": "code",
   "execution_count": null,
   "metadata": {},
   "outputs": [],
   "source": [
    "from sklearn.feature_extraction.text import CountVectorizer\n",
    "cnt_vec = CountVectorizer()\n",
    "x_name = cnt_vec.fit_transform(mercari_df.name)\n",
    "\n",
    "\n"
   ]
  },
  {
   "cell_type": "code",
   "execution_count": null,
   "metadata": {},
   "outputs": [],
   "source": [
    "from sklearn.feature_extraction.text import TfidfTransformer\n",
    "from sklearn.feature_extraction.text import TfidfVectorizer\n",
    "\n",
    "#tfidf_descp = TfidfVectorizer(max_features = 50000, ngram_range = (1,3), stop_words ='english')\n",
    "#x_descp = tfidf_descp.fit_transform(lemmatized_output)\n",
    "\n",
    "\n",
    "\n",
    "\n",
    "\n",
    "tfidf = TfidfVectorizer(lowercase=True, \n",
    "                        stop_words=stop_words, \n",
    "                        tokenizer=tokenizer.tokenize,\n",
    "                         min_df=0.01)\n",
    "tfidf_train_sparse = tfidf.fit_transform(lemmatized_output)\n",
    "tfidf_train_df = pd.DataFrame(tfidf_train_sparse.toarray(), \n",
    "                        columns=tfidf.get_feature_names())\n",
    "\n",
    "tfidf_train_df.head()"
   ]
  },
  {
   "cell_type": "code",
   "execution_count": null,
   "metadata": {},
   "outputs": [],
   "source": [
    "type(tfidf_train_sparse)\n",
    "tfidf_train_sparse.shape"
   ]
  },
  {
   "cell_type": "code",
   "execution_count": null,
   "metadata": {},
   "outputs": [],
   "source": [
    "type(x_name)\n",
    "x_name.shape\n"
   ]
  },
  {
   "cell_type": "code",
   "execution_count": null,
   "metadata": {},
   "outputs": [],
   "source": []
  },
  {
   "cell_type": "code",
   "execution_count": null,
   "metadata": {},
   "outputs": [],
   "source": []
  },
  {
   "cell_type": "code",
   "execution_count": null,
   "metadata": {},
   "outputs": [],
   "source": [
    "lb_cat_Big=LabelBinarizer(sparse_output=True)\n",
    "x_cat_Big=lb_cat_Big.fit_transform(mercari_df['cat_Big'])\n",
    "lb_cat_Medium=LabelBinarizer(sparse_output=True)\n",
    "x_cat_Medium=lb_cat_Medium.fit_transform(mercari_df['cat_Med'])\n",
    "lb_cat_Small=LabelBinarizer(sparse_output=True)\n",
    "x_cat_Small=lb_cat_Small.fit_transform(mercari_df['cat_Small'])"
   ]
  },
  {
   "cell_type": "code",
   "execution_count": null,
   "metadata": {},
   "outputs": [],
   "source": [
    "print(type(x_brand),type(x_itemcond),type(x_shipping)) "
   ]
  },
  {
   "cell_type": "code",
   "execution_count": null,
   "metadata": {},
   "outputs": [],
   "source": [
    "print(type(x_cat_Big),type(x_cat_Medium),type(x_cat_Small)) "
   ]
  },
  {
   "cell_type": "code",
   "execution_count": null,
   "metadata": {},
   "outputs": [],
   "source": [
    "print('x_brand shape:{0}, x_itemcond:{1}'.format(x_brand.shape,x_itemcond.shape))"
   ]
  },
  {
   "cell_type": "code",
   "execution_count": null,
   "metadata": {},
   "outputs": [],
   "source": [
    "print('x_shipping:{0}, x_cat_Big:{1}'.format(x_shipping.shape,x_cat_Big.shape))"
   ]
  },
  {
   "cell_type": "code",
   "execution_count": null,
   "metadata": {
    "scrolled": false
   },
   "outputs": [],
   "source": [
    "print('x_cat_Medium shape:{0}, x_cat_Small:{1}'.format(x_cat_Medium.shape,x_cat_Small.shape))"
   ]
  },
  {
   "cell_type": "code",
   "execution_count": null,
   "metadata": {},
   "outputs": [],
   "source": []
  },
  {
   "cell_type": "code",
   "execution_count": null,
   "metadata": {},
   "outputs": [],
   "source": [
    "vectorizer = TfidfVectorizer(analyzer=\"char\", lowercase=True, ngram_range=(1, 2), strip_accents=\"unicode\")\n",
    "ngram_features = vectorizer.fit_transform(df[\"strings\"].values.astype(str))\n",
    "\n",
    "list_other_features = [\"entropy\", \"string_length\"]\n",
    "other_features = csr_matrix(df[list_other_features].values)\n",
    "\n",
    "joined_features = scipy.sparse.hstack((ngram_features, other_features))"
   ]
  },
  {
   "cell_type": "code",
   "execution_count": null,
   "metadata": {},
   "outputs": [],
   "source": [
    "from scipy import sparse\n",
    "sparse.hstack\n",
    "import scipy.integrate as integrate"
   ]
  },
  {
   "cell_type": "code",
   "execution_count": null,
   "metadata": {},
   "outputs": [],
   "source": [
    "sparse_matrix_list1 = (x_name,x_brand,x_itemcond, x_shipping, lb_cat_Big, lb_cat_Medium, lb_cat_Small)\n",
    "from scipy.sparse import hstack\n",
    "from scipy.sparse import csr_matrix"
   ]
  },
  {
   "cell_type": "code",
   "execution_count": null,
   "metadata": {},
   "outputs": [],
   "source": [
    "\n",
    "joined_features = scipy.sparse.hstack((tfidf_train_sparse,sparse_matrix_list1))\n"
   ]
  },
  {
   "cell_type": "code",
   "execution_count": null,
   "metadata": {},
   "outputs": [],
   "source": []
  },
  {
   "cell_type": "code",
   "execution_count": null,
   "metadata": {},
   "outputs": [],
   "source": []
  },
  {
   "cell_type": "code",
   "execution_count": null,
   "metadata": {},
   "outputs": [],
   "source": [
    "from scipy.sparse import hstack\n",
    "sparse_matrix_list1 = (x_name, tfidf_train_sparse,x_brand,x_itemcond, x_shipping, lb_cat_Big, lb_cat_Medium, lb_cat_Small)"
   ]
  },
  {
   "cell_type": "code",
   "execution_count": null,
   "metadata": {
    "scrolled": true
   },
   "outputs": [],
   "source": [
    "def transform(self, sparse_matrix_list1)"
   ]
  },
  {
   "cell_type": "code",
   "execution_count": null,
   "metadata": {},
   "outputs": [],
   "source": [
    "def predict(self, df):\n",
    "        X_desc = self.wb_desc.transform(df[\"item_description\"])\n",
    "        X_desc = X_desc[:, self.desc_indices]\n",
    "\n",
    "        X_name = 2 * self.cv_name.transform(df[\"name\"])\n",
    "        X_name2 = 0.5 * self.cv_name2.transform(df[\"name\"])\n",
    "\n",
    "        X_category0 = self.cv_cat0.transform(df['subcat_0'])\n",
    "        X_category1 = self.cv_cat1.transform(df['subcat_1'])\n",
    "        X_category2 = self.cv_cat2.transform(df['subcat_2'])\n",
    "        X_brand = self.cv_brand.transform(df['brand_name'])\n",
    "        X_condition = self.cv_condition.transform((df['item_condition_id'] + 10 * df[\"shipping\"]).apply(str))\n",
    "\n",
    "        df[\"cat_brand\"] = [a + \" \" + b for a, b in zip(df[\"category_name\"], df[\"brand_name\"])]\n",
    "        X_cat_brand = self.cv_cat_brand.transform(df[\"cat_brand\"])\n",
    "        X_desc3 = self.desc3.transform(df[\"item_description\"])\n",
    "\n",
    "        X = hstack((X_condition,\n",
    "                    X_desc, X_brand,\n",
    "                    X_category0, X_category1, X_category2,\n",
    "                    X_name, X_name2,\n",
    "                    X_cat_brand, X_desc3)).tocsr()\n",
    "\n",
    "        return self.model.predict(X) "
   ]
  },
  {
   "cell_type": "code",
   "execution_count": null,
   "metadata": {
    "scrolled": true
   },
   "outputs": [],
   "source": [
    "from scipy.sparse import hstack\n",
    "sparse_matrix_list1 = (x_name, tfidf_train_sparse,x_brand,x_itemcond, x_shipping, lb_cat_Big, lb_cat_Medium, lb_cat_Small)\n",
    "\n",
    "x_features_sparse =hstack(sparse_matrix_list1).toscr()\n",
    "\n",
    "del X_features_sparse\n",
    "gc.collect()\n"
   ]
  },
  {
   "cell_type": "code",
   "execution_count": null,
   "metadata": {},
   "outputs": [],
   "source": []
  },
  {
   "cell_type": "code",
   "execution_count": null,
   "metadata": {},
   "outputs": [],
   "source": []
  },
  {
   "cell_type": "code",
   "execution_count": null,
   "metadata": {},
   "outputs": [],
   "source": []
  },
  {
   "cell_type": "markdown",
   "metadata": {},
   "source": [
    "# Model"
   ]
  },
  {
   "cell_type": "raw",
   "metadata": {},
   "source": [
    "Model Building\n",
    "Four different models against this extremely sparse training set:\n",
    "1) Baseline: To test the impact of our NLP features, I will run an additional Ridge regression that didn’t include any of our generated NLP features.\n",
    "2) Ridge Regression: Chosen to counter the effects of multicollinearity between our NLP features while being both efficient and interpretable.\n",
    "3) CV Elastic Net: Chosen to explore the trade-off between L1 and L2 regularization and test for potential improvements over our ridge regression.\n",
    "4) Light Gradient Boosting Machine (Light GBM): Chosen as our boosting algorithm of choice due to its perceived speed advantages over XGBoost and scikit’s GBM.\n"
   ]
  },
  {
   "cell_type": "code",
   "execution_count": null,
   "metadata": {},
   "outputs": [],
   "source": []
  },
  {
   "cell_type": "code",
   "execution_count": null,
   "metadata": {},
   "outputs": [],
   "source": []
  },
  {
   "cell_type": "code",
   "execution_count": null,
   "metadata": {},
   "outputs": [],
   "source": []
  },
  {
   "cell_type": "code",
   "execution_count": null,
   "metadata": {},
   "outputs": [],
   "source": []
  },
  {
   "cell_type": "code",
   "execution_count": null,
   "metadata": {},
   "outputs": [],
   "source": []
  },
  {
   "cell_type": "code",
   "execution_count": null,
   "metadata": {},
   "outputs": [],
   "source": []
  },
  {
   "cell_type": "code",
   "execution_count": null,
   "metadata": {},
   "outputs": [],
   "source": []
  },
  {
   "cell_type": "code",
   "execution_count": null,
   "metadata": {},
   "outputs": [],
   "source": []
  },
  {
   "cell_type": "code",
   "execution_count": null,
   "metadata": {},
   "outputs": [],
   "source": []
  },
  {
   "cell_type": "code",
   "execution_count": null,
   "metadata": {},
   "outputs": [],
   "source": []
  },
  {
   "cell_type": "code",
   "execution_count": null,
   "metadata": {},
   "outputs": [],
   "source": []
  },
  {
   "cell_type": "code",
   "execution_count": null,
   "metadata": {},
   "outputs": [],
   "source": []
  },
  {
   "cell_type": "code",
   "execution_count": null,
   "metadata": {},
   "outputs": [],
   "source": []
  },
  {
   "cell_type": "raw",
   "metadata": {},
   "source": [
    "Model Building\n",
    "Four different models against this extremely sparse training set:\n",
    "Ridge Regression: Chosen to counter the effects of multicollinearity between our NLP features while being both efficient and interpretable.\n",
    "CV Elastic Net: Chosen to explore the trade-off between L1 and L2 regularization and test for potential improvements over our ridge regression.\n",
    "Light Gradient Boosting Machine (Light GBM): Chosen as our boosting algorithm of choice due to its perceived speed advantages over XGBoost and scikit’s GBM.\n",
    "Baseline: To test the impact of our NLP features, we ran an additional Ridge regression that didn’t include any of our generated NLP features."
   ]
  },
  {
   "cell_type": "code",
   "execution_count": null,
   "metadata": {},
   "outputs": [],
   "source": []
  },
  {
   "cell_type": "code",
   "execution_count": null,
   "metadata": {},
   "outputs": [],
   "source": []
  },
  {
   "cell_type": "code",
   "execution_count": null,
   "metadata": {},
   "outputs": [],
   "source": []
  },
  {
   "cell_type": "code",
   "execution_count": null,
   "metadata": {},
   "outputs": [],
   "source": []
  },
  {
   "cell_type": "code",
   "execution_count": null,
   "metadata": {},
   "outputs": [],
   "source": []
  },
  {
   "cell_type": "markdown",
   "metadata": {},
   "source": [
    "# Baselie Model (SGDRegressor with ordinary least squares.)\n"
   ]
  },
  {
   "cell_type": "code",
   "execution_count": null,
   "metadata": {},
   "outputs": [],
   "source": [
    "# I will be using SGDRegressor with ordinary least squares.\n",
    "# Also, using mean squared error as the eval metric, since negative values crash mean squared log error.\n",
    "\n",
    "model = SGDRegressor(loss='squared_loss', penalty='l2', random_state=seed, max_iter=5)\n",
    "params = {'penalty':['none','l2','l1'],\n",
    "          'alpha':[1e-4, 2e-4, 5e-4, 1e-3, 2e-3, 5e-3, 1e-2, 2e-2, 5e-2, 0.1]}\n",
    "gs = GridSearchCV(estimator=model,\n",
    "                  param_grid=params,\n",
    "                  scoring='neg_mean_squared_error',\n",
    "                  n_jobs=1,\n",
    "                  cv=5,\n",
    "                  verbose=3)\n",
    "\n",
    "gs.fit(X_train_vect, y_train)\n"
   ]
  },
  {
   "cell_type": "code",
   "execution_count": null,
   "metadata": {},
   "outputs": [],
   "source": [
    "model = gs.best_estimator_\n",
    "print(gs.best_params_)\n",
    "print(gs.best_score_)"
   ]
  },
  {
   "cell_type": "code",
   "execution_count": null,
   "metadata": {},
   "outputs": [],
   "source": [
    "pipe = Pipeline([('vect',vect),('model',model)])\n",
    "\n",
    "y_pred = pipe.predict(X_test)\n",
    "\n"
   ]
  },
  {
   "cell_type": "code",
   "execution_count": null,
   "metadata": {},
   "outputs": [],
   "source": [
    "print(np.sqrt(mean_squared_log_error(np.exp(y_test)-1, np.exp(y_pred)-1)))"
   ]
  },
  {
   "cell_type": "code",
   "execution_count": null,
   "metadata": {},
   "outputs": [],
   "source": []
  },
  {
   "cell_type": "code",
   "execution_count": null,
   "metadata": {},
   "outputs": [],
   "source": []
  },
  {
   "cell_type": "code",
   "execution_count": null,
   "metadata": {},
   "outputs": [],
   "source": [
    "print(types(x_features_sparse),x_features_sparse.shape)"
   ]
  },
  {
   "cell_type": "code",
   "execution_count": null,
   "metadata": {},
   "outputs": [],
   "source": [
    "def rmsle (y, y_pred):\n",
    "    return np.sqrt(np.mean(np.power(np.log1p(y)-np.log1p(y_pred),2)))\n",
    "def evaluate_org_price(y_test,preds):\n",
    "    preds_exmpm = np.expm1(preds)\n",
    "    y_test_exmpm = np.expm1(y_test)\n",
    "    \n",
    "    rmsle_result = rmsle(y_test_exmpm,preds_exmpm)\n",
    "    return rmsle_result\n"
   ]
  },
  {
   "cell_type": "code",
   "execution_count": null,
   "metadata": {},
   "outputs": [],
   "source": [
    "import gc\n",
    "from scipy.sparse import hstack\n",
    "\n",
    "def model_train_predict(model, matrix_list):\n",
    "    x = hstack(matrix_list).tscr()\n",
    "    \n",
    "    x_train, x_test, y_train, y_test = train_test_split(x, mercari_df.price, test_size = 0.2,random_state= 50)\n",
    "    \n",
    "    model.fit(x_train,y_train)\n",
    "    preds = mdel.predict(x_test)\n",
    "    \n",
    "    del x, x_train, x_test, y_train\n",
    "    gc.collect()\n",
    "    \n",
    "    return preds, y_test"
   ]
  },
  {
   "cell_type": "code",
   "execution_count": null,
   "metadata": {},
   "outputs": [],
   "source": [
    "linear_model = Ridge(solver = \"lsqr\", fit_intercept=False)\n",
    "sparse_matrix_list = (x_name,x_brand,x_itemcond,x_shipping, lb_cat_Big, lb_cat_Medium, lb_cat_Small)\n",
    "linear_preds, y_test = model_train_predict(model = linear_model, matrix_list = sparse_matrix_list)\n",
    "print('exception of Item description:', evaluate_org_price(y_test, linear_preds))"
   ]
  },
  {
   "cell_type": "code",
   "execution_count": null,
   "metadata": {},
   "outputs": [],
   "source": [
    "\n",
    "sparse_matrix_list = (x_name, x_descp,x_brand,x_itemcond,x_shipping, lb_cat_Big, lb_cat_Medium, lb_cat_Small)\n",
    "linear_preds, y_test = model_train_predict(model = linear_model, matrix_list = sparse_matrix_list)\n",
    "print('With Item description:', evaluate_org_price(y_test, linear_preds))"
   ]
  },
  {
   "cell_type": "code",
   "execution_count": null,
   "metadata": {},
   "outputs": [],
   "source": [
    "Item desciption shows the better result"
   ]
  },
  {
   "cell_type": "code",
   "execution_count": null,
   "metadata": {},
   "outputs": [],
   "source": [
    "LightGBM"
   ]
  },
  {
   "cell_type": "code",
   "execution_count": null,
   "metadata": {},
   "outputs": [],
   "source": []
  }
 ],
 "metadata": {
  "kernelspec": {
   "display_name": "Python 3",
   "language": "python",
   "name": "python3"
  },
  "language_info": {
   "codemirror_mode": {
    "name": "ipython",
    "version": 3
   },
   "file_extension": ".py",
   "mimetype": "text/x-python",
   "name": "python",
   "nbconvert_exporter": "python",
   "pygments_lexer": "ipython3",
   "version": "3.6.9"
  }
 },
 "nbformat": 4,
 "nbformat_minor": 2
}
