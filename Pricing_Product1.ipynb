{
 "cells": [
  {
   "cell_type": "code",
   "execution_count": 1,
   "metadata": {},
   "outputs": [
    {
     "name": "stderr",
     "output_type": "stream",
     "text": [
      "C:\\Users\\jesus\\anaconda3\\envs\\learn-env\\lib\\site-packages\\sklearn\\externals\\six.py:31: DeprecationWarning: The module is deprecated in version 0.21 and will be removed in version 0.23 since we've dropped support for Python 2.7. Please rely on the official version of six (https://pypi.org/project/six/).\n",
      "  \"(https://pypi.org/project/six/).\", DeprecationWarning)\n",
      "[nltk_data] Downloading package punkt to\n",
      "[nltk_data]     C:\\Users\\jesus\\AppData\\Roaming\\nltk_data...\n",
      "[nltk_data]   Package punkt is already up-to-date!\n",
      "[nltk_data] Downloading package stopwords to\n",
      "[nltk_data]     C:\\Users\\jesus\\AppData\\Roaming\\nltk_data...\n",
      "[nltk_data]   Package stopwords is already up-to-date!\n"
     ]
    }
   ],
   "source": [
    "from IPython.display import display\n",
    "from IPython.display import Image\n",
    "import pydotplus\n",
    "from sklearn.externals.six import StringIO \n",
    "from subprocess import call\n",
    "\n",
    "import numpy as np\n",
    "import pandas as pd\n",
    "import itertools\n",
    "\n",
    "import matplotlib.pyplot as plt\n",
    "import matplotlib.image as mpimg\n",
    "%matplotlib inline\n",
    "import seaborn as sns\n",
    "\n",
    "from sklearn.model_selection import train_test_split, GridSearchCV, StratifiedKFold\n",
    "from sklearn.metrics import confusion_matrix, roc_curve, roc_auc_score, classification_report \n",
    "from sklearn.tree import DecisionTreeClassifier\n",
    "from sklearn.linear_model import LogisticRegression, LinearRegression\n",
    "from sklearn.svm import SVC\n",
    "from sklearn.ensemble import VotingClassifier, BaggingClassifier, AdaBoostClassifier, RandomForestClassifier\n",
    "from sklearn.preprocessing import StandardScaler, LabelEncoder, OneHotEncoder\n",
    "from xgboost.sklearn import XGBClassifier\n",
    "from sklearn.neighbors import KNeighborsClassifier\n",
    "from mlxtend.classifier import StackingClassifier\n",
    "\n",
    "from sklearn import tree\n",
    "from sklearn.tree import export_graphviz\n",
    "\n",
    "import warnings\n",
    "warnings.filterwarnings('ignore')\n",
    "\n",
    "import nltk\n",
    "nltk.download('punkt')\n",
    "nltk.download('stopwords')\n",
    "\n",
    "from mpl_toolkits.mplot3d import Axes3D\n",
    "import matplotlib.pyplot as plt\n",
    "%matplotlib inline\n",
    "from sklearn.manifold import TSNE\n",
    "from nltk.tokenize import word_tokenize, sent_tokenize\n",
    "np.random.seed(0)"
   ]
  },
  {
   "cell_type": "code",
   "execution_count": 2,
   "metadata": {
    "scrolled": true
   },
   "outputs": [
    {
     "data": {
      "text/html": [
       "<div>\n",
       "<style scoped>\n",
       "    .dataframe tbody tr th:only-of-type {\n",
       "        vertical-align: middle;\n",
       "    }\n",
       "\n",
       "    .dataframe tbody tr th {\n",
       "        vertical-align: top;\n",
       "    }\n",
       "\n",
       "    .dataframe thead th {\n",
       "        text-align: right;\n",
       "    }\n",
       "</style>\n",
       "<table border=\"1\" class=\"dataframe\">\n",
       "  <thead>\n",
       "    <tr style=\"text-align: right;\">\n",
       "      <th></th>\n",
       "      <th>train_id</th>\n",
       "      <th>name</th>\n",
       "      <th>item_condition_id</th>\n",
       "      <th>category_name</th>\n",
       "      <th>brand_name</th>\n",
       "      <th>price</th>\n",
       "      <th>shipping</th>\n",
       "      <th>item_description</th>\n",
       "    </tr>\n",
       "  </thead>\n",
       "  <tbody>\n",
       "    <tr>\n",
       "      <td>0</td>\n",
       "      <td>0</td>\n",
       "      <td>MLB Cincinnati Reds T Shirt Size XL</td>\n",
       "      <td>3</td>\n",
       "      <td>Men/Tops/T-shirts</td>\n",
       "      <td>NaN</td>\n",
       "      <td>10.0</td>\n",
       "      <td>1</td>\n",
       "      <td>No description yet</td>\n",
       "    </tr>\n",
       "    <tr>\n",
       "      <td>1</td>\n",
       "      <td>1</td>\n",
       "      <td>Razer BlackWidow Chroma Keyboard</td>\n",
       "      <td>3</td>\n",
       "      <td>Electronics/Computers &amp; Tablets/Components &amp; P...</td>\n",
       "      <td>Razer</td>\n",
       "      <td>52.0</td>\n",
       "      <td>0</td>\n",
       "      <td>This keyboard is in great condition and works ...</td>\n",
       "    </tr>\n",
       "    <tr>\n",
       "      <td>2</td>\n",
       "      <td>2</td>\n",
       "      <td>AVA-VIV Blouse</td>\n",
       "      <td>1</td>\n",
       "      <td>Women/Tops &amp; Blouses/Blouse</td>\n",
       "      <td>Target</td>\n",
       "      <td>10.0</td>\n",
       "      <td>1</td>\n",
       "      <td>Adorable top with a hint of lace and a key hol...</td>\n",
       "    </tr>\n",
       "    <tr>\n",
       "      <td>3</td>\n",
       "      <td>3</td>\n",
       "      <td>Leather Horse Statues</td>\n",
       "      <td>1</td>\n",
       "      <td>Home/Home Décor/Home Décor Accents</td>\n",
       "      <td>NaN</td>\n",
       "      <td>35.0</td>\n",
       "      <td>1</td>\n",
       "      <td>New with tags. Leather horses. Retail for [rm]...</td>\n",
       "    </tr>\n",
       "    <tr>\n",
       "      <td>4</td>\n",
       "      <td>4</td>\n",
       "      <td>24K GOLD plated rose</td>\n",
       "      <td>1</td>\n",
       "      <td>Women/Jewelry/Necklaces</td>\n",
       "      <td>NaN</td>\n",
       "      <td>44.0</td>\n",
       "      <td>0</td>\n",
       "      <td>Complete with certificate of authenticity</td>\n",
       "    </tr>\n",
       "  </tbody>\n",
       "</table>\n",
       "</div>"
      ],
      "text/plain": [
       "   train_id                                 name  item_condition_id  \\\n",
       "0         0  MLB Cincinnati Reds T Shirt Size XL                  3   \n",
       "1         1     Razer BlackWidow Chroma Keyboard                  3   \n",
       "2         2                       AVA-VIV Blouse                  1   \n",
       "3         3                Leather Horse Statues                  1   \n",
       "4         4                 24K GOLD plated rose                  1   \n",
       "\n",
       "                                       category_name brand_name  price  \\\n",
       "0                                  Men/Tops/T-shirts        NaN   10.0   \n",
       "1  Electronics/Computers & Tablets/Components & P...      Razer   52.0   \n",
       "2                        Women/Tops & Blouses/Blouse     Target   10.0   \n",
       "3                 Home/Home Décor/Home Décor Accents        NaN   35.0   \n",
       "4                            Women/Jewelry/Necklaces        NaN   44.0   \n",
       "\n",
       "   shipping                                   item_description  \n",
       "0         1                                 No description yet  \n",
       "1         0  This keyboard is in great condition and works ...  \n",
       "2         1  Adorable top with a hint of lace and a key hol...  \n",
       "3         1  New with tags. Leather horses. Retail for [rm]...  \n",
       "4         0          Complete with certificate of authenticity  "
      ]
     },
     "execution_count": 2,
     "metadata": {},
     "output_type": "execute_result"
    }
   ],
   "source": [
    "mercari_df = pd.read_csv(\"train.tsv\", sep = '\\t')\n",
    "mercari_df.shape\n",
    "mercari_df.head()"
   ]
  },
  {
   "cell_type": "markdown",
   "metadata": {},
   "source": [
    "# Data Cleaning"
   ]
  },
  {
   "cell_type": "code",
   "execution_count": 3,
   "metadata": {
    "scrolled": false
   },
   "outputs": [
    {
     "name": "stdout",
     "output_type": "stream",
     "text": [
      "<class 'pandas.core.frame.DataFrame'>\n",
      "RangeIndex: 1482535 entries, 0 to 1482534\n",
      "Data columns (total 8 columns):\n",
      "train_id             1482535 non-null int64\n",
      "name                 1482535 non-null object\n",
      "item_condition_id    1482535 non-null int64\n",
      "category_name        1476208 non-null object\n",
      "brand_name           849853 non-null object\n",
      "price                1482535 non-null float64\n",
      "shipping             1482535 non-null int64\n",
      "item_description     1482531 non-null object\n",
      "dtypes: float64(1), int64(3), object(4)\n",
      "memory usage: 90.5+ MB\n"
     ]
    }
   ],
   "source": [
    "# Check the Feature Type and Null Value\n",
    "mercari_df.info()"
   ]
  },
  {
   "cell_type": "code",
   "execution_count": 4,
   "metadata": {},
   "outputs": [
    {
     "data": {
      "text/plain": [
       "train_id                  0\n",
       "name                      0\n",
       "item_condition_id         0\n",
       "category_name          6327\n",
       "brand_name           632682\n",
       "price                     0\n",
       "shipping                  0\n",
       "item_description          4\n",
       "dtype: int64"
      ]
     },
     "execution_count": 4,
     "metadata": {},
     "output_type": "execute_result"
    }
   ],
   "source": [
    "mercari_df.isnull().sum()"
   ]
  },
  {
   "cell_type": "code",
   "execution_count": 5,
   "metadata": {},
   "outputs": [],
   "source": [
    "# From the table above\n",
    "# 0) No need to touch [Train_id] and [name] \n",
    "# 1) [item_condition_id] ???\n",
    "# 2) [Category_name] has also roughly 6,300 of null values\n",
    "# 3) [Brand_name] has 632,682 of null values\n",
    "# 4) [Price] is my target-variable\n",
    "# 5) [shipping] ???\n",
    "# 6) 4 of non-value for [Item-description]"
   ]
  },
  {
   "cell_type": "markdown",
   "metadata": {},
   "source": [
    "1) item_condition_id"
   ]
  },
  {
   "cell_type": "code",
   "execution_count": 6,
   "metadata": {
    "scrolled": true
   },
   "outputs": [
    {
     "data": {
      "text/plain": [
       "1    640549\n",
       "3    432161\n",
       "2    375479\n",
       "4     31962\n",
       "5      2384\n",
       "Name: item_condition_id, dtype: int64"
      ]
     },
     "execution_count": 6,
     "metadata": {},
     "output_type": "execute_result"
    }
   ],
   "source": [
    "mercari_df['item_condition_id'].value_counts()"
   ]
  },
  {
   "cell_type": "markdown",
   "metadata": {},
   "source": [
    "2) Category_name: has roughly 6,300 of null values and I need to split catergories."
   ]
  },
  {
   "cell_type": "code",
   "execution_count": 7,
   "metadata": {},
   "outputs": [
    {
     "data": {
      "text/plain": [
       "Women/Athletic Apparel/Pants, Tights, Leggings    60177\n",
       "Women/Tops & Blouses/T-Shirts                     46380\n",
       "Beauty/Makeup/Face                                34335\n",
       "Beauty/Makeup/Lips                                29910\n",
       "Electronics/Video Games & Consoles/Games          26557\n",
       "                                                  ...  \n",
       "Handmade/Pets/Tag                                     1\n",
       "Handmade/Pets/Blanket                                 1\n",
       "Handmade/Patterns/Accessories                         1\n",
       "Handmade/Bags and Purses/Other                        1\n",
       "Handmade/Furniture/Other                              1\n",
       "Name: category_name, Length: 1287, dtype: int64"
      ]
     },
     "execution_count": 7,
     "metadata": {},
     "output_type": "execute_result"
    }
   ],
   "source": [
    "mercari_df[\"category_name\"].value_counts()"
   ]
  },
  {
   "cell_type": "code",
   "execution_count": 8,
   "metadata": {},
   "outputs": [],
   "source": [
    "# Split the Category and remove null-values\n",
    "def split_cat(category_name):\n",
    "    try:\n",
    "        return category_name.split('/')\n",
    "    except:\n",
    "        return ['Other_Null', 'Other_Null', 'Other_Null']"
   ]
  },
  {
   "cell_type": "code",
   "execution_count": 9,
   "metadata": {},
   "outputs": [],
   "source": [
    "mercari_df['cat_Big'], mercari_df['cat_Med'],mercari_df['cat_Small'] = \\\n",
    "                        zip(*mercari_df['category_name'].apply(lambda x : split_cat(x)))"
   ]
  },
  {
   "cell_type": "code",
   "execution_count": 10,
   "metadata": {
    "scrolled": true
   },
   "outputs": [
    {
     "name": "stdout",
     "output_type": "stream",
     "text": [
      "Women                     664385\n",
      "Beauty                    207828\n",
      "Kids                      171689\n",
      "Electronics               122690\n",
      "Men                        93680\n",
      "Home                       67871\n",
      "Vintage & Collectibles     46530\n",
      "Other                      45351\n",
      "Handmade                   30842\n",
      "Sports & Outdoors          25342\n",
      "Other_Null                  6327\n",
      "Name: cat_Big, dtype: int64\n",
      "11\n"
     ]
    }
   ],
   "source": [
    "print(mercari_df['cat_Big'].value_counts())\n",
    "print(mercari_df['cat_Big'].nunique())"
   ]
  },
  {
   "cell_type": "code",
   "execution_count": 11,
   "metadata": {},
   "outputs": [
    {
     "name": "stdout",
     "output_type": "stream",
     "text": [
      "Athletic Apparel        134383\n",
      "Makeup                  124624\n",
      "Tops & Blouses          106960\n",
      "Shoes                   100452\n",
      "Jewelry                  61763\n",
      "                         ...  \n",
      "Candles                     64\n",
      "Ceramics and Pottery        57\n",
      "Dolls and Miniatures        49\n",
      "Books and Zines             46\n",
      "Quilts                      31\n",
      "Name: cat_Med, Length: 114, dtype: int64\n",
      "114\n"
     ]
    }
   ],
   "source": [
    "print(mercari_df['cat_Med'].value_counts())\n",
    "print(mercari_df['cat_Med'].nunique())"
   ]
  },
  {
   "cell_type": "code",
   "execution_count": 12,
   "metadata": {
    "scrolled": true
   },
   "outputs": [
    {
     "name": "stdout",
     "output_type": "stream",
     "text": [
      "Pants, Tights, Leggings    60177\n",
      "Other                      50224\n",
      "Face                       50171\n",
      "T-Shirts                   46380\n",
      "Shoes                      32168\n",
      "                           ...  \n",
      "Seasonal                       1\n",
      "Storage Solutions              1\n",
      "Doorstops                      1\n",
      "Entertainment                  1\n",
      "Bathroom Shelves               1\n",
      "Name: cat_Small, Length: 871, dtype: int64\n",
      "871\n"
     ]
    }
   ],
   "source": [
    "print(mercari_df['cat_Small'].value_counts())\n",
    "print(mercari_df['cat_Small'].nunique())"
   ]
  },
  {
   "cell_type": "code",
   "execution_count": 13,
   "metadata": {},
   "outputs": [],
   "source": [
    "mercari_df['category_name'] = mercari_df['category_name'].fillna(value = 'Other_Null')"
   ]
  },
  {
   "cell_type": "markdown",
   "metadata": {},
   "source": [
    "Now, Category_name is cleaned and removed the null_values."
   ]
  },
  {
   "cell_type": "markdown",
   "metadata": {},
   "source": [
    "3) Brand_name: has almost half of null values"
   ]
  },
  {
   "cell_type": "code",
   "execution_count": 14,
   "metadata": {
    "scrolled": true
   },
   "outputs": [
    {
     "data": {
      "text/plain": [
       "PINK                 54088\n",
       "Nike                 54043\n",
       "Victoria's Secret    48036\n",
       "LuLaRoe              31024\n",
       "Apple                17322\n",
       "                     ...  \n",
       "Silkland                 1\n",
       "Perfection               1\n",
       "Brioni                   1\n",
       "Veronica Beard           1\n",
       "Truly Scrumptious        1\n",
       "Name: brand_name, Length: 4809, dtype: int64"
      ]
     },
     "execution_count": 14,
     "metadata": {},
     "output_type": "execute_result"
    }
   ],
   "source": [
    "mercari_df['brand_name'].value_counts()"
   ]
  },
  {
   "cell_type": "code",
   "execution_count": 15,
   "metadata": {},
   "outputs": [],
   "source": [
    "mercari_df['brand_name'] = mercari_df['brand_name'].fillna(value = 'Other_Null')"
   ]
  },
  {
   "cell_type": "markdown",
   "metadata": {},
   "source": [
    "4) Price : my target-variable"
   ]
  },
  {
   "cell_type": "code",
   "execution_count": 16,
   "metadata": {
    "scrolled": true
   },
   "outputs": [
    {
     "data": {
      "text/plain": [
       "<matplotlib.axes._subplots.AxesSubplot at 0x24881e7ee48>"
      ]
     },
     "execution_count": 16,
     "metadata": {},
     "output_type": "execute_result"
    },
    {
     "data": {
      "image/png": "[encoded data removed]",
      "text/plain": [
       "<Figure size 504x360 with 1 Axes>"
      ]
     },
     "metadata": {
      "needs_background": "light"
     },
     "output_type": "display_data"
    }
   ],
   "source": [
    "y_train_df = mercari_df.price\n",
    "plt.figure(figsize=(7,5))\n",
    "sns.distplot(y_train_df, kde=False)"
   ]
  },
  {
   "cell_type": "code",
   "execution_count": 17,
   "metadata": {},
   "outputs": [
    {
     "data": {
      "text/plain": [
       "<matplotlib.axes._subplots.AxesSubplot at 0x248800a6f60>"
      ]
     },
     "execution_count": 17,
     "metadata": {},
     "output_type": "execute_result"
    },
    {
     "data": {
      "image/png": "[encoded data removed]",
      "text/plain": [
       "<Figure size 432x288 with 1 Axes>"
      ]
     },
     "metadata": {
      "needs_background": "light"
     },
     "output_type": "display_data"
    }
   ],
   "source": [
    "# Now, it looks like normal distribution now\n",
    "y_train_df= np.log1p(y_train_df)\n",
    "sns.distplot(y_train_df, kde=False)"
   ]
  },
  {
   "cell_type": "code",
   "execution_count": 18,
   "metadata": {},
   "outputs": [
    {
     "data": {
      "text/plain": [
       "0    2.397895\n",
       "1    3.970292\n",
       "2    2.397895\n",
       "3    3.583519\n",
       "4    3.806662\n",
       "Name: price, dtype: float64"
      ]
     },
     "execution_count": 18,
     "metadata": {},
     "output_type": "execute_result"
    }
   ],
   "source": [
    "mercari_df.price = np.log1p(mercari_df.price)\n",
    "mercari_df.price.head()"
   ]
  },
  {
   "cell_type": "markdown",
   "metadata": {},
   "source": [
    "5) [shipping] "
   ]
  },
  {
   "cell_type": "code",
   "execution_count": 19,
   "metadata": {
    "scrolled": true
   },
   "outputs": [
    {
     "data": {
      "text/plain": [
       "0    819435\n",
       "1    663100\n",
       "Name: shipping, dtype: int64"
      ]
     },
     "execution_count": 19,
     "metadata": {},
     "output_type": "execute_result"
    }
   ],
   "source": [
    "mercari_df.shipping.value_counts()"
   ]
  },
  {
   "cell_type": "markdown",
   "metadata": {},
   "source": [
    "6) Item-description : Delete 4 of 'non-value' and 'No decription yet'"
   ]
  },
  {
   "cell_type": "code",
   "execution_count": 20,
   "metadata": {},
   "outputs": [
    {
     "data": {
      "text/plain": [
       "No description yet                                                                                                                                                                                                                                                                                                                                    82489\n",
       "New                                                                                                                                                                                                                                                                                                                                                    4099\n",
       "Brand new                                                                                                                                                                                                                                                                                                                                              3058\n",
       "Good condition                                                                                                                                                                                                                                                                                                                                         1274\n",
       "Great condition                                                                                                                                                                                                                                                                                                                                        1158\n",
       "                                                                                                                                                                                                                                                                                                                                                      ...  \n",
       "My daughter wore 1x for 4th of July. Great condition!!                                                                                                                                                                                                                                                                                                    1\n",
       "3 decals that are the perfect size for your Yeti (or any other cup). I can to a wide variety of colors.                                                                                                                                                                                                                                                   1\n",
       "Year old pink iPhone 5c. No water damage. No major scratches or dents. Minor flaws. AT&T is the carrier. Will generously throw in a lot of phone cases with this. If you don't want them please just throw them out. Because I don't need them anymore.                                                                                                   1\n",
       "The BEST KABUKI BRUSH U WILL EVER PURCHASE!                                                                                                                                                                                                                                                                                                               1\n",
       "Victoria's secret beach bag/ Tote bag. Pretty big and cute. The bottom has a few minor stains that im sure can come off. I will wash before shipping! Prices are negotiable. Bundle to save more. I really want to get rid of a lot of my clothes because they are big on me now so check out my closet , make offers, and bundle to save more! (:        1\n",
       "Name: item_description, Length: 1281426, dtype: int64"
      ]
     },
     "execution_count": 20,
     "metadata": {},
     "output_type": "execute_result"
    }
   ],
   "source": [
    "mercari_df[\"item_description\"].value_counts()"
   ]
  },
  {
   "cell_type": "code",
   "execution_count": 21,
   "metadata": {
    "scrolled": true
   },
   "outputs": [
    {
     "data": {
      "text/plain": [
       "No description yet                                                                                                                                                                                                                                                                                                                                    82489\n",
       "New                                                                                                                                                                                                                                                                                                                                                    4099\n",
       "Brand new                                                                                                                                                                                                                                                                                                                                              3058\n",
       "Good condition                                                                                                                                                                                                                                                                                                                                         1274\n",
       "Great condition                                                                                                                                                                                                                                                                                                                                        1158\n",
       "                                                                                                                                                                                                                                                                                                                                                      ...  \n",
       "My daughter wore 1x for 4th of July. Great condition!!                                                                                                                                                                                                                                                                                                    1\n",
       "3 decals that are the perfect size for your Yeti (or any other cup). I can to a wide variety of colors.                                                                                                                                                                                                                                                   1\n",
       "Year old pink iPhone 5c. No water damage. No major scratches or dents. Minor flaws. AT&T is the carrier. Will generously throw in a lot of phone cases with this. If you don't want them please just throw them out. Because I don't need them anymore.                                                                                                   1\n",
       "The BEST KABUKI BRUSH U WILL EVER PURCHASE!                                                                                                                                                                                                                                                                                                               1\n",
       "Victoria's secret beach bag/ Tote bag. Pretty big and cute. The bottom has a few minor stains that im sure can come off. I will wash before shipping! Prices are negotiable. Bundle to save more. I really want to get rid of a lot of my clothes because they are big on me now so check out my closet , make offers, and bundle to save more! (:        1\n",
       "Name: item_description, Length: 1281426, dtype: int64"
      ]
     },
     "execution_count": 21,
     "metadata": {},
     "output_type": "execute_result"
    }
   ],
   "source": [
    "mercari_df[\"item_description\"].value_counts()"
   ]
  },
  {
   "cell_type": "code",
   "execution_count": 22,
   "metadata": {},
   "outputs": [],
   "source": [
    "mercari_df[\"item_description\"] = mercari_df[\"item_description\"].fillna(value = 'Other_Null')"
   ]
  },
  {
   "cell_type": "code",
   "execution_count": 23,
   "metadata": {
    "scrolled": true
   },
   "outputs": [
    {
     "data": {
      "image/png": "[encoded data removed]",
      "text/plain": [
       "<Figure size 1152x1152 with 4 Axes>"
      ]
     },
     "metadata": {
      "needs_background": "light"
     },
     "output_type": "display_data"
    }
   ],
   "source": [
    "mercari_df.hist(bins=30, figsize=(16,16))\n",
    "plt.show()"
   ]
  },
  {
   "cell_type": "code",
   "execution_count": 24,
   "metadata": {
    "scrolled": false
   },
   "outputs": [
    {
     "data": {
      "text/plain": [
       "train_id             0\n",
       "name                 0\n",
       "item_condition_id    0\n",
       "category_name        0\n",
       "brand_name           0\n",
       "price                0\n",
       "shipping             0\n",
       "item_description     0\n",
       "cat_Big              0\n",
       "cat_Med              0\n",
       "cat_Small            0\n",
       "dtype: int64"
      ]
     },
     "execution_count": 24,
     "metadata": {},
     "output_type": "execute_result"
    }
   ],
   "source": [
    "mercari_df.isnull().sum()"
   ]
  },
  {
   "cell_type": "code",
   "execution_count": 25,
   "metadata": {},
   "outputs": [
    {
     "name": "stdout",
     "output_type": "stream",
     "text": [
      "<class 'pandas.core.frame.DataFrame'>\n",
      "RangeIndex: 1482535 entries, 0 to 1482534\n",
      "Data columns (total 11 columns):\n",
      "train_id             1482535 non-null int64\n",
      "name                 1482535 non-null object\n",
      "item_condition_id    1482535 non-null int64\n",
      "category_name        1482535 non-null object\n",
      "brand_name           1482535 non-null object\n",
      "price                1482535 non-null float64\n",
      "shipping             1482535 non-null int64\n",
      "item_description     1482535 non-null object\n",
      "cat_Big              1482535 non-null object\n",
      "cat_Med              1482535 non-null object\n",
      "cat_Small            1482535 non-null object\n",
      "dtypes: float64(1), int64(3), object(7)\n",
      "memory usage: 124.4+ MB\n"
     ]
    }
   ],
   "source": [
    "mercari_df.info()"
   ]
  },
  {
   "cell_type": "code",
   "execution_count": null,
   "metadata": {},
   "outputs": [],
   "source": []
  },
  {
   "cell_type": "markdown",
   "metadata": {},
   "source": [
    "# Feature Encoding/Feature Vectorisation"
   ]
  },
  {
   "cell_type": "code",
   "execution_count": 26,
   "metadata": {},
   "outputs": [],
   "source": [
    "#Token/Stopwords/ Stem or Lemma\n",
    "# One Hot coding / LabelBinarizer\n",
    "# count Vector (Short words: names)\n",
    "# TD-IDF (Long words : Item_description)"
   ]
  },
  {
   "cell_type": "code",
   "execution_count": 27,
   "metadata": {},
   "outputs": [
    {
     "data": {
      "text/plain": [
       "4810"
      ]
     },
     "execution_count": 27,
     "metadata": {},
     "output_type": "execute_result"
    }
   ],
   "source": [
    "mercari_df['brand_name'].nunique()\n"
   ]
  },
  {
   "cell_type": "code",
   "execution_count": 28,
   "metadata": {},
   "outputs": [
    {
     "data": {
      "text/plain": [
       "Other_Null           632682\n",
       "PINK                  54088\n",
       "Nike                  54043\n",
       "Victoria's Secret     48036\n",
       "LuLaRoe               31024\n",
       "Name: brand_name, dtype: int64"
      ]
     },
     "execution_count": 28,
     "metadata": {},
     "output_type": "execute_result"
    }
   ],
   "source": [
    "b1 = mercari_df['brand_name'].value_counts()\n",
    "b1.head()"
   ]
  },
  {
   "cell_type": "markdown",
   "metadata": {},
   "source": [
    "Vectorisation"
   ]
  },
  {
   "cell_type": "code",
   "execution_count": 61,
   "metadata": {},
   "outputs": [],
   "source": [
    "df_item = mercari_df[\"item_description\"]"
   ]
  },
  {
   "cell_type": "code",
   "execution_count": 62,
   "metadata": {
    "scrolled": false
   },
   "outputs": [
    {
     "data": {
      "text/plain": [
       "0                                   No description yet\n",
       "1    This keyboard is in great condition and works ...\n",
       "2    Adorable top with a hint of lace and a key hol...\n",
       "3    New with tags. Leather horses. Retail for [rm]...\n",
       "4            Complete with certificate of authenticity\n",
       "Name: item_description, dtype: object"
      ]
     },
     "execution_count": 62,
     "metadata": {},
     "output_type": "execute_result"
    }
   ],
   "source": [
    "df_item.head()"
   ]
  },
  {
   "cell_type": "code",
   "execution_count": 78,
   "metadata": {},
   "outputs": [
    {
     "name": "stderr",
     "output_type": "stream",
     "text": [
      "[nltk_data] Downloading package stopwords to\n",
      "[nltk_data]     C:\\Users\\jesus\\AppData\\Roaming\\nltk_data...\n",
      "[nltk_data]   Package stopwords is already up-to-date!\n",
      "[nltk_data] Downloading package punkt to\n",
      "[nltk_data]     C:\\Users\\jesus\\AppData\\Roaming\\nltk_data...\n",
      "[nltk_data]   Package punkt is already up-to-date!\n",
      "[nltk_data] Downloading package wordnet to\n",
      "[nltk_data]     C:\\Users\\jesus\\AppData\\Roaming\\nltk_data...\n",
      "[nltk_data]   Package wordnet is already up-to-date!\n"
     ]
    },
    {
     "data": {
      "text/plain": [
       "True"
      ]
     },
     "execution_count": 78,
     "metadata": {},
     "output_type": "execute_result"
    }
   ],
   "source": [
    "from nltk.corpus import stopwords \n",
    "from nltk.tokenize import word_tokenize \n",
    "import nltk\n",
    "import matplotlib.pyplot as plt\n",
    "import pandas as pd\n",
    "from sklearn.feature_extraction.text import CountVectorizer\n",
    "from sklearn.feature_extraction.text import TfidfVectorizer\n",
    "from sklearn.feature_extraction.text import TfidfTransformer\n",
    "from nltk.probability import FreqDist\n",
    "from nltk.corpus import stopwords\n",
    "from nltk.stem import PorterStemmer\n",
    "from sklearn.metrics import confusion_matrix\n",
    "import seaborn as sns\n",
    "from sklearn.naive_bayes import MultinomialNB\n",
    "from sklearn import metrics\n",
    "from sklearn.model_selection import train_test_split\n",
    "from matplotlib import cm\n",
    "import numpy as np\n",
    "from sklearn.ensemble import RandomForestClassifier\n",
    "from sklearn.metrics import accuracy_score\n",
    "from sklearn.metrics import f1_score\n",
    "from sklearn.naive_bayes import GaussianNB\n",
    "\n",
    "nltk.download('stopwords')\n",
    "nltk.download('punkt')\n",
    "nltk.download('wordnet') \n"
   ]
  },
  {
   "cell_type": "code",
   "execution_count": 137,
   "metadata": {
    "scrolled": false
   },
   "outputs": [
    {
     "data": {
      "text/plain": [
       "['no description yet',\n",
       " 'this keyboard is in great condition and works like it came out of the box all of the ports are tested and work perfectly the lights are customizable via the razer synapse app on your pc',\n",
       " 'adorable top with a hint of lace and a key hole in the back the pale pink is a 1x and i also have a 3x available in white',\n",
       " 'complete with certificate of authenticity',\n",
       " 'banana republic bottoms candies skirt with matching blazeramy byers suit loft bottoms and cami top',\n",
       " 'size small but straps slightly shortened to fit xs besides that perfect condition',\n",
       " 'girls size small plus green three shorts total',\n",
       " 'i realized his pants are on backwards after the picture they were very dirty so i hand washed them he has a stuffed body and painted porcelain head hands and feet back before clowns were too scary 9\" tall no chips or cracks but minor paint loss in a few places clown circus doll collectible',\n",
       " '5 new vs pink body mists 25 oz each fresh  clean sun kiss cool and bright total flirt sweet and flirty',\n",
       " 'xl great condition',\n",
       " 'no description yet',\n",
       " 'authentic suede fringe boots great condition size 7 if you are between the sizes 55-7 and love wearing thick socks during the winter theyd be perfect for you as well i did last winter :',\n",
       " 'brand new deluxe travel size products contains: amazonian clay 12 hour blush in paaarty - 05oz/15g tarteist lip paint in birthday suit - 034oz/1ml',\n",
       " '2 glitter eyeshadows; one in brass and one in bleached',\n",
       " 'this authentic pallete by too faced is brand new in mint condition still in original box its part of the christmas 2016 collection it has 12 pretty eye shadow colors and a small sized\"better than sex\" mascara never even swatched impeccable shape price includes 2 day priority shipping with insurance',\n",
       " 'fancy dressy or casual dress it up or down 100% polyester; washed once never dried size: small brand: lush purchased from francescas tags: free people anthropology dry goods francescas',\n",
       " 'size 1 worn once excellent condition',\n",
       " 'nwt victorias secret ultimate sport bra -maximum support size 34ddd',\n",
       " 'reasonable offers welcomed but if you ask \"lowest\" or lowball ill block you - this phone was opened under t-mobile but has now been unlocked after switching to new phone - all of the buttons are functioning like new still - its in perfect used condition - check my reviews for honest feedback - 32gb ; sorry no charger included',\n",
       " 'lanascloset ~~~ description: never worn ✨ i delete/update my listings and relist them so like my “sold” listings to have easier access to my shop later on ~~~ ✨ i normally ship the following day but it happens that i ship a few days after purchase ~~~ forever 21 brandy melville baseball tee',\n",
       " 'they are 100 percent authentic they are beaters but they still have a lot of life in them no original box',\n",
       " 'brand new otterbox defender iphone 6 plus/6s plus',\n",
       " 'worn one time excellent condition',\n",
       " 'beautiful excellent condition zips and ties in the back cream liner top to bottom',\n",
       " '29w x 33l social stretch hollister jeans *** please see picture 4 the leathers tag near the belt loops is tore also ae favorite boyfriend size 8 stretch',\n",
       " 'no description yet',\n",
       " 'pink bra with logo band 36d push up',\n",
       " 'new unused and authentic caudalie beauty elixir mist 1 oz',\n",
       " '2 beanie babies pugsley wrinkles puppy with pumpkin big dog retro pinup doll frilly skirted adorable barbie pinksuper cute fan martini cherry pinup anchor marabou #kitschoure #beasweetlollipopinaworldofsoursuckers from love in sunny san diego cali-fornia us of a absolutely adorable soft genuine real bunny fox foxy loxy fur stunning and gorgeous bambi long eyelashes  sweet cheeks blush pink juicy dollface candy colors girlfriend dance club baby panty present for the girl who has everything cupcake couture resin kawaii lolita dress up gift for lime crime pegasus unicorn flamingo swan princess kitty pinup rockabilly girls jewelry and wild fox lolita kawaii gypsy wedding festival edf electronic dance rave raver coachella party',\n",
       " 'one size fits sizes 2-12 92% polyester 8% spandex super soft capri leggings high waist 1in elastic waist band',\n",
       " 'pre-owned some light scratches on hardware consistent with gentle use real togo leather comes with twilly',\n",
       " 'has some wear to the back and few white spots which i believe can be washed out',\n",
       " '500gb comes with power cord one controller with rechargeable pack and cord comes with downloaded games the top is pretty scratched up but it doesnt affect the gameplay',\n",
       " 'victoria secret 34 c corest top will bundle to save on shipping if you have any questions please feel free to ask',\n",
       " 'kylie happy birthday matte mini lipstick kylie jenner lip kit birthday matte lipstick mini kit 6 pcs all 6 included for the price brand new never opened 6 mini lipstick leo kristen dolce expos price is firm will not be disappointed shipping generally takes 1-3 days via usps i ship within 24 hours 48 hours on week',\n",
       " 'used buh looks brand new and is washed and ready to be shipped supper cute tropical print supper comfy and soft size: 34 aa great quality made by victorias secret pink 100% authentic called \"where every where lightly lined bra\" free ship ships same day price includes shipping and seller fee',\n",
       " 'totally 36 masks will be expired on feb',\n",
       " 'great quality fast free shipping you can find more beautiful items in my listings for a great affordable price everything is sell is new and for free shipping i also make bundles',\n",
       " 'brand new never used smoking bowl just bought 2 days ago cant return these things after you buy pretty christmas colors : too big for my piece',\n",
       " 'black outside medium gray inside authentic super warm and in like new condition size small and runs true to size',\n",
       " 'this slime is approximately 15 ounces very soft it is kind of sticky this item also comes in an air tight container for easy storage this slime was scemted with sparkling blackberry woods by bath and body works',\n",
       " 'brandy melville off shoulder crop top one size fits all euc 3/4 sleeves 100% rayon actual color: navy blue and cream in stripes',\n",
       " 'perfect condition super comfy let me know if you have any questions *let me know if you want any more pictures *please ask for a measurement of you are not sure about your size *bundle discount : * *usually ship in the same day if purchased on monday - saturday post office hours ••any issues after purchase please contact me as soon as you have found the issue your satisfaction is my concern••',\n",
       " 'younique 3d fiber lash mascara will quickly become your favorite mascara it will increase your lashes by 300% brand new in package never been opened or used free shipping ships within 24hrs',\n",
       " 'sz large color black like new 100% authentic',\n",
       " 'led shoes for kids seven colors in one shoes red blue green purple turquaz yellow white and 6 different flashlight options sizes are available unisex sizes boys or girl available sizes are from 10 to 3',\n",
       " 'bundle for \"carls collectibles\" year: 2000 mattel inc bundle: elvis \"favorite cars\" collection and vintage hot rids by hot wheels',\n",
       " 'victorias secret pink white/cream colored lace strapless bandeau size small it doesnt have a specific cup size message me with questions',\n",
       " 'new 2017 rae dunn holiday \"hugs\" mug another great holiday mug keep or give to someone special we pack with care and ship promptly please inspect your order when delivered help complete your order by rating transaction',\n",
       " 'all are made out of wood necklace earrings broachall sold together',\n",
       " 'new pure honey 5oz',\n",
       " 'great condition no stains or tears super easy to use  by infantino brand  purchased at target free shipping:',\n",
       " 'new',\n",
       " 'new hv-900 sports sweatproof wireless bluetooth 40 stereo headsets earphone',\n",
       " 'this is a very beautiful diamond engagement ring size 7 with a thicker band than most solitaires reasonable offers accepted',\n",
       " 'brand new with tag and bag french bulldog leggings hard to find this color background super soft made in vietnam as always free shipping check out my other listings for bundling',\n",
       " 'distressed levi high waist jeans size xs 12 slim in kids size',\n",
       " 'highwaist distressed denim shorts size 3 the shorts i wear in most of my images',\n",
       " 'mens xxl in good condition minor mark on sleeve',\n",
       " 'brand new',\n",
       " 'signed italy and 925 necklace vintage lobster claw closure 16 inches long',\n",
       " 'under armour half zip jacket in awesome like new condition size med',\n",
       " '❕please check size before ordering❕ ❕❕❕if you have no ratings contact me after you purchase or i will cancel❕❕❕ ⏺️provides great protection from scratches and drops ⏺️price is extremely firm all offers will be ignored ⏺️brand new in factory sealed packaging ⏺️will be shipped out asap ⏺️check out my page for different colors and a large variety of cases ⏺️allow 1-2 days for tracking to update',\n",
       " 'overall good condition a few signs of wear',\n",
       " '\"fine or fashion: fashion item type: necklace chain length: 60 + 5 cm \"shipping from chinacompetitive price shipping takes about 15 days~',\n",
       " 'probably best for up to a 2 year old',\n",
       " 'brand new no cracks or chips i package everything with extra care not responsible for item once shipped',\n",
       " 'these are on hold do not buy :',\n",
       " 'both are a chinese size medium which fits a us size xs both are brand new never worn did not come with a sanitary liner black ones are more cheeky then the burgundy ones will sell separately',\n",
       " 'aura fluorite: ⋅ the \"protection stone\" ⋅ grounding ⋅ spiritualizing ⋅ intuition ⋅ the stone to look for when wishing to connect with the spirit details: ⋅ 4 3/4\" ⋅ pure aura fluorite ⋅ cleansed and charged ☆ have a blessed day ~ tags: witchcraft  witch  altar  crystal  wiccan  wicca  pagan  witchcraft artifact  witchcraftartifact  chakra',\n",
       " 'worn once; will be washed before sent',\n",
       " 'great condition sea wees size 0 brown',\n",
       " 'sheer black flowy top with cute flower design ties at the back or front size medium great used condition',\n",
       " 'new without original packaging shade is medium it cosmetics by jamie kern full size container 10 ml shade is medium cc+ eye full coverage cream color corrector correcting cream if you are looking for certain brands or productsand dont have time for meandering through all my productssearch for my products using the search function in the search space above type in plussizemakeup this will bring up all of my listings so you can search my listingsyou can even refine your search by category and brands #plussizemakeup',\n",
       " '5 mascaras loreal covergirl rimmel maybelline',\n",
       " 'eyebrows essential kit \\xa0 everything you need to create perfect eyebrows packed in one convenient package with easy to follow directions it enables you to have the natural looking brows without harsh line that enhance your features brows \\xa0essential kit consists of : 1 eyebrow powder 3 eyebrow stencils in thin natural and thick 1 eyebrow brush applicator used to apply the eyebrow powder precisely to the desired effect',\n",
       " 'extra large shirt with purple beaded flower design size extra large',\n",
       " 'hot pink/reddish sheet set from victorias secret pink store in good condition some fading from washing but fully intact includes flat sheet and two pillow cases no fitted sheet design is white hearts with light pink cheetah print trim fits queen sized bed',\n",
       " 'this boxed set of 12 dvd’s includes the fitness guide meal plan and rotational calendar the dvd’s include: fire up ignite launch rise amplify escalate conquer triumph zenith and apex includes bonus dvd opus and the cast  moves disc original dvds sealed in box ships out within 24 hours ignore: insanity p90x work out workout abs muscles bodyshred',\n",
       " 'used but still a great play item',\n",
       " 'i have 2 available',\n",
       " 'size 6y high tops super light in good condition worn for 1 basketball season dont fit my sin anymore',\n",
       " 'no description yet',\n",
       " 'good used condition ask about bundling to save',\n",
       " 'distressed with holes great shape well taken care of fits a size 11 perfect for spring summer and fall',\n",
       " 'size m 8 cuffs show wear and letters are not peeling off it came like that',\n",
       " 'bnip vhtf hottest toy of the season',\n",
       " 'babygap canvas army green gently loved lots of life left no holes throw in the wash  hang dry or wipe them clean girl or boy my son wore these with khakis to church',\n",
       " 'bought off groupon and they charged me for 2 sent 2 and they wont return one even though it was a system error its still new and completely sealed the second picture shows everything thats in it and the regular cost it also comes with a how-to dvd i ordered the \"medium shade\" as well comes with 4 different shades \"to find your perfect match\" a face primer a brightening color and blush you can buy different shades off their website too',\n",
       " 'bling mickey ear case just used one for a disney trip received many compliments bling ears super cute 3 stones missing to be exact but barely noticeable : comes with strap for neck',\n",
       " 'rose gold bezel and crown engraved logo red and green signature band unisex no box',\n",
       " 'watercolor inspire crop no pilling or stickiness whatsoever some of the pink has bled into the white part of the waistband not noticeable from a distance 22\" inseam rip tag still intact size 6',\n",
       " 'what goes better with summer than tacos  tequila chill out with friends sporting this great beachwear cover or wear as a stand alone with that oh so sexy bralette or bikini top dont forget your cool shades great condition worn once no stains holes rips or treats',\n",
       " 'any questions please ask price is firm',\n",
       " 'size medium in perfect condition',\n",
       " 'everything is in perfect condition tags: heaven family love picture',\n",
       " 'genuine leather good preowned condition does need new zipper pull on back smoke free home',\n",
       " 'cute boutique brand suit floral print  polyester  spandex material under brand for viewing',\n",
       " 'merona short boot new with tag size 65 come just above ankle taupe color',\n",
       " 'new duck boots sz75 stock up on these trendy boots great for fall/winter can be fold down to make shorter boutique forever brand',\n",
       " 'brand new',\n",
       " 'i love these but i got them as a mystery pair and theyre not my size :- i am always happy to combine shipping and make a deal so please feel free to check out my closet and let me know if theres anything else that youd like :-',\n",
       " 'size small nwt bathing suit bottoms',\n",
       " 'huda beauty lashes in samantha',\n",
       " 'roller ball full size unused with no box fun size roller ball unused no box',\n",
       " 'bundle for kesha: sperry top slider shoes womens 8 zebra sequin design never worn smoke free home under armour storm pants womens size small loose fit 100% polyester in excellent condition - no signs of wear no stains no tears smoke free home',\n",
       " 'never worn brown leather strap wedges',\n",
       " 'boys lebron soldier 9s great condition',\n",
       " 'no description yet',\n",
       " 'bombshell  eau so sexy bombshell was used a bit have lots product left',\n",
       " 'sweater like long sleeved shirt glows in the dark purchased from another seller but it didnt fit says size m but would put it as a s',\n",
       " 'tens 3000 have back pain then this would be great for you its new without a box tens use tiny electrical impulses sent through the skin nerves to modify your pain perception how it works/what it does its used to relieve pain the tens unit sends comfortable impulses through the skin that simulate the nerves in many cases it will stimulation will greatly reduced or eliminate the pain sensation',\n",
       " 'sizes and info of clothes can be found on their individual postings',\n",
       " 'white xl dress with built in bra strapless ties around brown  pink flower pattern had never been in the dryer i love this dress but i have become too busty for it : buy it seperately or add others from my closet i pay shipping on bundled item',\n",
       " 'miss me style name skinny size 26 inseam 32 the miss me tag is missing 3 of the buttons and it lifts up a lil bit but buckle can have that fixed  in pic 4 theres ripping by the pocket when you out them on its a lil noticeable but not all the way ripped but can be sewed super cute and comfy',\n",
       " 'black ferragamo belt **will fit sizes= 32-34 you have nothing to loose if you order it if the item is not as described simply return the package as is and you will get your money back',\n",
       " 'size 10 worn but good condition',\n",
       " 'excellent condition black leather and brown leather wristlet straps/ key chain straps gold tone lobster claw clasps the brown is around 7\" long and the black is around 6\" long silver franco sarto key ring with lobster claw clasp perfect for having a big item on your keys  making it easy to find them in your bag about 2\" across',\n",
       " 'brand new tapestry size 88\" by 55\" twin tapestry size : beautiful high quality fabric 100% cotton can be used as beach towel  bed throw  wall hanging etc free shipping on everything happy shopping :',\n",
       " 'no description yet',\n",
       " 'use the microphone pop filter to immediately improve the sound of your vocal recordings plosive sounds such as \"\"p\"\" and \"\"b\"\" create a sudden burst of air pressure that can create a bassy \"\"pop\"\" in your vocal recordings ruining what could have been the perfect take double layer convenient and easy to use clamping bolt with long arm clam to attach to your microphone stand protects your microphone from saliva/spit 360 degree flexible gooseneck holder swivel mount for easy installation adjustable clamp fits securely to any microphone stand gooseneck for precise positioning specifications screen diameter: 15cm neck length: 35cm color: black weight: 297g package contents 1 x double layer studio microphone mic wind screen mask gooseneck shield pop filter',\n",
       " 'brand new still in package black background with orange tigger',\n",
       " 'funko pop skeletor dorbz motu',\n",
       " '5 bbw lip balms and 1 victorias secret sugar scrub',\n",
       " 'beautiful brown leather new fossil purse the outside has a snap/ zipper closure pocket with gold hardware top entry is snap closure with inner divider one large middle zipper pocket with a good size zipper pocket has a fossil keychain 11\" l x 9\" h x 5\" d and strap is 15\"',\n",
       " 'new 100% authentic with box',\n",
       " 'brand new with tags wraps around and ties at the waist includes brandy stickers',\n",
       " 'brand new with all packaging and never worn guaranteed authentic bought from nordstrom womens 95',\n",
       " 'lot of 7 never used some items are expired combine with other items to save on shipping',\n",
       " 'new',\n",
       " 'around 3or 4',\n",
       " 'gray with american flag no flaws or defects thick and warm size 7',\n",
       " 'super cute lauren conrad light pink chiffon polka dotted bouse with a cute bow tie detail in the back',\n",
       " 'great dog toy we got it as a gift but our dog already has it this toy is incredibly durable bounces and floats and is dishwasher safe it is nwt',\n",
       " 'sz 10 never been worn comes with receipt dont sleep these fresh af',\n",
       " 'teal and blue lululemon sucba jacket this jacket is in good condition it does show a little wear around the stiching as pictured #2 it has a hood and collar it is missing the string from the hoodie jacket also has thumb holes size 8',\n",
       " 'authentic price is negotiable',\n",
       " 'hold for katie schunk pyrex speckled lines chip and dip set; no bracket no chips cracks or dwd',\n",
       " 'just upgraded so now finally getting rid of my iphone 5c phone is unlocked and can be with any carrier  i have a perfect score with 100% positive feedback so buy with confidence comes with charger  outter box no cracks or scratches will ship usually the next business day ',\n",
       " 'your ever-faithful companion the kate spade new york® cobble hill mylie shoulder bag embodies form and function like no other made of pebbled leather top zip closure flat shoulder/elbow strap removable and adjustable crossbody strap foil-stamped brand name and hardware spade logo rear exterior zip pocket flat base to provide upright structure custom woven bookstripe print on poly twill interior lining interior features one back-wall zip pocket imported bottom width: 11 1⁄2 \"*depth: 4 1⁄4 \"*height: 9 \" strap length: 41 1⁄2 \" strap drop: 21\" handle length: 21 \" handle drop: 9 \"',\n",
       " 'this is a mens nike dri-fit shirt which is blue all items come from a clean smoke and pet free home',\n",
       " 'nwt 32d victoria secret bling lined demi bra',\n",
       " 'new fall print deep purple background with siamese cats hints of mustard aqua and white tall and curvy new in package',\n",
       " 'iridescent fishbowl slime : beautiful  ***all single slimes are 2 oz unless otherwise stated *** special ** buy 2 get one free** 2 oz slimes ◕‿◕\\xa0 just leave a message after our purchase free slimes will be send randomly 2 oz size  slime floam  fishbowl random color=^_^=\\xa0 ╹◡╹ activator  tiny bottle enough for one slime also will be provided for slime if it get too sticky\\xa0 ** items will be send through usps with tracking  once i shipped item its out of my hands  please dont rate me poor because of post office fault **\\xa0⊙︿⊙',\n",
       " 'for aferg16',\n",
       " 'gold necklace and matching earring set gold mk locket bracelet gold mk round diamond accent bracelet',\n",
       " 'new in box',\n",
       " 'batman: a death in the family all four item issues in one volume 6th printing  1999 excellent condition never read i am not a professional grader so please look closely at the images and judge for yourself safe and sound deliver bagged and boarded',\n",
       " 'four packs of angel soft bathroom tissue 9 big rolls in each pack feel free to bundle other items to save money on shipping thanks',\n",
       " 'new with tags  by self esteem super cute with jeans capris or shorts whatever your attire asks for ',\n",
       " 'various leapster games; does not include the ratatouille  draw  write games',\n",
       " 'maternity swim top size l only used once and is in excellent condition',\n",
       " 'new never worn crystal statement earrings j crew baublebar anthropologie zara',\n",
       " 'bm gen nude matte liquid lip color in swag travel size  nib price is firm',\n",
       " 'this is my price no lower prices lowballers will be ignored thanks please view the pictures because what is in the picture is exactly what you will receive thanks again',\n",
       " 'never been used - i will ship with the perfume box',\n",
       " 'size 6 promise ring  im willing to bargain best offer takes home',\n",
       " 'black yellow white and purple',\n",
       " 'approximately 10\" tall 9\" at widest point',\n",
       " 'awesome but we only had to use it a handful of times great for fussy babies colic this is the size large can be used in car seat stroller crib etcno stains smoke free home',\n",
       " 'no description yet',\n",
       " 'worn only 2 times long and lace like material very comfortable tan colored size medium smoke and pest free home',\n",
       " 'realher eyeshadow pallet never used no box comes with screen on the inside',\n",
       " '2 x usb cable saver usb data charger cable saver protector for iphone 5c 5s 6 6s plus ipad protective features: covers the sensitive area where the charging cable meets the charging plug to preventing the charging cable from easily bending by using the protector the risk of fraying and breaking records duces by 90% the colorful pieces make your cable stand out and easier to find compatible only with the original apple lightning to usb and apple watch want to extend the life of your cables now you can just clip on a cable saver to both ends and prevent the ends from bending and breaking ever again works perfectly with iphone charging cable these are exclusively designed for iphone and ipad chargers other devices might not fit tags: batman superman captain america scrump dale squirrel dog paw stitch sully mike monster inc bow pink hello kitty red teal owl tony tony chopper one piece winnie the pooh bear chis sweet home japanese anime cute thank',\n",
       " 'great scale if you want to wait anything small mail food etc brand new in box i have 2',\n",
       " 'i am a first time seller located in california usa i highly appreciate if i am able to sell his in the us this game has not been used brand new sealed for ps4',\n",
       " 'price firm ‼️ dont ask me for the lowest price pls  you have a free shipping new with tag - size m a true to size but still a loose fit ⚡bundle to save ⚡️ no trades ❗️ no holds no lowballing i ship via usps - first class and priority mail ⚡️ the same day or next day ⚡️ allowed usps to update trnumber 24 to 48 hours after i hit button shipped ‼️ i wont be answering question ⛔️when will you ship ⛔️ when will my package be arriving ⛔️my tracking # does not work ⚡️ needs time to update by usps which takes time  right after you make a purchase feel free to ask if you have any questions about my merchandise i will answer asap thank you ❤️ - patkat',\n",
       " 'for 47\" apple iphone 7 clear shockproof full body tpu soft case cover usps package include: \\xa0 1 x case cover only phone is not included material: soft silicone rubber shock absorbent shatterproof and anti-scratch material \\xa0 easy installation require no tools  \\xa0 access to all ports and functions without taking off the case \\xa0 protection proof - against grease cracks scratches abrasions dust \\xa0 no worry about voiding your cell phones warranty',\n",
       " '2 pair black capri tights',\n",
       " 'brand new from victorias secret pink new boyshort style size large halloween themed panty all over candy corn design pink logo waistband ask any questions you have im here to help ➡ prices are typically firm unless bundled dont ask lowest  dont make a ridiculous offer bundles get a discount ➡ i dont do trades or hold items first come first serve: i need to sell as fast as possible but im not desperate for a sale ➡ if an item is still listed it is still available  for sale ➡ understand that you need to rate after you receive your item thats the only way i receive my funds ➡ please read my bio in my profile for more info thank you so much for looking  purchasing i appreciate it ♡',\n",
       " 'from victorias secret pink plaid and white pajama sleep shirt fits long size medium only worn once',\n",
       " '12 month reebok track suit no stains or tears',\n",
       " 'authentic pandora braceletbox in the picture is not included but will pack securely',\n",
       " 'natural color size 11',\n",
       " 'moodstruck 3d fiber lash : increase your average lash volume by up to 400%* with moodstruck 3d fiber lashes+ with its enhanced formula new brush and fresh look ****firm price**** buy 2 for only 25$ + free shipping',\n",
       " 'jordan 8s size 10c',\n",
       " '33/30',\n",
       " 'in brand new condition just missing the strap',\n",
       " 'for nicole logan',\n",
       " 'there are minor stains on the top  bottoms the top is xxs the bottoms are xxs petite cherokee does run big so these should fit if you wear xs - small in regular clothes the color is closet to the 2nd pic i also have the same pants in xxs regular length',\n",
       " 'os sugar skulls leggings red background with little flowers and skulls brand new',\n",
       " '100% legit and in perfect condition fresh from pack to sleeve',\n",
       " 'no description yet',\n",
       " 'ultra matte lip brand new in box ships in 1-2 days : bundles are welcomed check out my page for more colourpop',\n",
       " 'worn once red with black micro stripe',\n",
       " 'maternity sash with matching headband headband is for baby if you would like to purchase just the sash please message me vintage inspired rosette sash belt sashes a perfect addition to any outfit for everyday wear or a photo shoot the total length of the sash including the flowers is approximately 78\" actual color may be slightly different from pictures due to computer screens resolution brightness contrast etc handmade item photo prop gender revel baby shower',\n",
       " 'selling this hard to find 3 wick candle test scent - it was exclusive to white barn - never been burned -',\n",
       " 'new child one size',\n",
       " 'new unused rae dunn tea teapot please review all photos carefully before purchase as you will receive exact item pictured price is firm no free shipping ships priority insured mail for your purchase protection check out my other listings for more from my large rae dunn inventory all items are packaged with care i am not responsible for any damage that may occur during the shipping process please review my feedback for proof of timely shipping  careful packaging no returns no refunds all sales are final',\n",
       " 'tiny hole at the back barely noticeable',\n",
       " 'new men style this is a great deal for these so if you dont think so please keep it moving',\n",
       " 'nib item removed from box to test and to take photos comes with all parts for working order stainless steal we ship next day we bundle bin#32',\n",
       " 'aqua blue zip up hoodie has pockets under armour small mark on back of elbow have not tried to remove please see pic',\n",
       " '10 eos lip balm',\n",
       " 'some type of samsung hdmi cord or charger',\n",
       " '7/8 good condition smoke free home',\n",
       " 'red flower accented holiday dress',\n",
       " 'disneyland character key chain goofy minnie mickey donald duck pictures on front and their signatures on back',\n",
       " 'thrifted find never worn personally in good shape small deep red velvet patterns plunging back plus caged crop top and velvet dress',\n",
       " 'brand new never been used color is chihuahua',\n",
       " 'no description yet',\n",
       " 'kate spade glitter bug wristlet rose gold multi iphone 5 6 7 case purse bag nwt kate spade new york wristlet in rose gold glitter pvc and logo lettering on the front a snap opens the top flap and the trifold interior holds 4 card slots an id slot a bill pocket a mirror and a wide iphone 6 pocket wrist strap rose gold glitter pvc leather interior fits iphone 5 6 and 7 but not plus sizes measurements width: 375in / 95cm length: 6in / 155cm brand new and 100% authentic shipped immediately from a smoke free home',\n",
       " 'no description yet',\n",
       " 'new hollywood california glamglow youthcleanse 5 flozliq',\n",
       " 'worn only a couple times',\n",
       " 'brown faux leather with back zipper size 7',\n",
       " 'size 4-6 im a 32dd and 125lbs just had a baby do not sure of my size',\n",
       " 'gorgeous new with tags size 10 dress you will have a remarkable look with this dazzling sherri hill 2805 this evening gown is so classy with its sheer long sleeves it is heavily embellished with fine sequin on its shoulders upper arms and fitted bodice the overall dress style is mermaid inspired which makes this gown more special it also features a square neckline fitted waistline and floor-length skirt that trails to the floor',\n",
       " 'great condition worn 3 times just want a different color',\n",
       " 'you get 1 eyeshadow palette with 4 matte shades and 6 glitter/shimmer shades i will ship quickly',\n",
       " 'victorias secret hot pink pj set with tank top and pants size med',\n",
       " 'size 32',\n",
       " 'just got the amazon fire stick but unfortunately it will not connect to my wifi because of where i am located it was taken out of the box to set it up but has never been used',\n",
       " 'bread -new ready for you get three lures one is blue back one is a chameleon pearl one is a sexier shad lrresustible side roll and tail wag slow rise at pause sll three are the same size depth 65 ft wright: 8g length: 2in',\n",
       " 'like new black leather boots from banana republic not quite knee high zips up inside silver buckle detail and low heel great for walking size 9',\n",
       " 'abh brow powder duo - dark brown ❌no trades ❌no lowballing ❌no holds first come first serve feel free to ask me any questions you may have about the product thank you -shyterria',\n",
       " 'never used nx pattern dark brown color with matching wallet',\n",
       " 'brand new factory sealed fast  free shipping price is firm please dont ask includes: • grand theft auto iv complete edition • red dead redemption goty edition',\n",
       " '•bnwt bnip hello kitty hk orizuru geisha kimono plush •new never used •shipped from smoke-free dog-friendly home thanks for looking',\n",
       " 'soft under armor leggings',\n",
       " 'good condition has adjustable shoulder strap black and white very roomy15x105x4 strap drop 22\" for shoulder and 7\" for hand straps',\n",
       " 'lego harry potter years 1-4 wii e10+ warner bros games 2010',\n",
       " 'no description yet',\n",
       " 'zag invisible shield for ipad air',\n",
       " '1998 sp authentic derek jeter #145',\n",
       " 'brand new highly sought after unicorn black background with white birds on a wire these are so pretty will ship within 1-2 days brand new in package only opened for pictures smoke free - pet free home will ship priority with tracing and insurance',\n",
       " 'distressed high waisted shorts from ae size 0',\n",
       " 'deep purple or eggplant color leather super cute big enough for phone and keys please look at photos before purchase thanks',\n",
       " 'price for 3 bottles assorted selection please comment which scent there 3 photos of choices',\n",
       " 'new the bag is smaller for a little girl',\n",
       " 'perfect for spring light blue colored like new womens juniors spaghetti straps with off shoulder and flowing bottom shorts are listed separately will bundle to reduce shipping costs',\n",
       " 'new free shipping',\n",
       " 'no description yet',\n",
       " 'gorgeous teals and blues stretchier knit fabric',\n",
       " 'shade: dark brown has been used tags: liquid lipstick mac morphe colourpop anastasia beverly hills nars makeup forver nyx',\n",
       " 'sample sized never used multi-firming rejuvenating cream and eye rejuvenating serum',\n",
       " 'no description yet',\n",
       " 'good condition *see all my kendra scott listings*',\n",
       " 'new adorable melanie martinez ill cry if i want to vinyl sticker',\n",
       " 'dickies mens socks size 10-13',\n",
       " 'new 3 flavors',\n",
       " 'powers on no screen display no external damage may be used for parts',\n",
       " 'bubblegum pink long sleeved ss pocket tee preppy classy fun soft cotton such a cute shirt for fall new with tags womens size small gorgeous shirt perfect gift we are smoke free perfect gift',\n",
       " 'listing for buyer 2 jackets',\n",
       " 'gray ua straight-leg pants w/turquoise trim like new',\n",
       " 'pop is is great condition minor crease shown in pictures',\n",
       " 'no description yet',\n",
       " 'never used 1 palette 1 lip crayon 1 lip gloss 1 dual ended eye liner black/purple 1 eye primer 1 sample of too faced chocolate soleil bronzer use the 10% coupon',\n",
       " 'great condition comes with box',\n",
       " 'large animal print coach bag',\n",
       " 'new york baseball hat nwt this hat was purchased in new york for my son but he never used it',\n",
       " 'perfecr for giving a gift or for any occassionit is tall and shoe box can fit inside not the boots onedont ask about the item if your not interestedinappropriate comment will be deleted/blocked',\n",
       " 'beautiful scent barely used',\n",
       " 'great speaker comes with the charger',\n",
       " 'gently used womens size large adidas pink with black zip up track type jacket in gently used condition no rips stains or odors from a smoke and pet free environment',\n",
       " 'new with tags  boys size med 8-10 color : grey and red',\n",
       " 'no description yet',\n",
       " 'worn about 3 times still in good condition',\n",
       " 'here i have a nintendo 64 old school everything works comes with games comes with cords 4 remotes with memory blocks would love for someone to rekindle their old childhood memories i ran across other people on mecari selling this item and i have the best bundle for best price',\n",
       " 'no description yet',\n",
       " 'new size large',\n",
       " 'new in box never opened holds a 4x6 photo',\n",
       " 'rocket balloon alien in the window brand new still packaged brand: north star balloons free ship 41\" foil easy self seal - the more you bundle the more you save',\n",
       " 'size medium made by miss daisy worn one time no defects super cute and flattering',\n",
       " 'never opened a bit of tape on the boxes these were christmas presents that i ended up never giving',\n",
       " 'never worn size 7',\n",
       " 'will ship this in morningnewest 2017 trainermessage me your size and you can buy this post 3rd picture is of my waist trainerhigh quality 4/ bone waist trainer cincher corset helps with weight loss * reduces waist size * helps with posture you can use these underneath your clothing discreetly and they will help your figure shape wear the trainer for a few hours a day until your body gets used to them you can wear it for longer periods when your body feels comfortable make sure you have the correct size they have hookseyes front settings for you to adjust as your body shape changesif this is not your size you can comment your size and buy this posti have small medium large extra large 2x3x4x',\n",
       " '*worn once as part of my cat lady costume *will fit size: s  m *stretchy *fuzzy and warm *light pink **will do bundles** *check out my other items*',\n",
       " 'set of dragon balls made of hard plastic great room decoration',\n",
       " 'brand new never worn no tag navy blue background red glasses more pictures available on request',\n",
       " 'great condition just too big for me size small but fits more like a medium or oversized small olive green color',\n",
       " 'nwt lularoe os one size leggings purple background with storks carrying light blue and light pink bundles unicorn great for gender reveals from a smoke free pet friendly home i ship quickly same day if possible',\n",
       " 'new never used',\n",
       " 'grateful thankful blessed wood art box decor white natural and gray colors like new 7\" x 5\" by belle maison',\n",
       " 'nwot lululemon in the present pouch 2 bags in 1',\n",
       " 'no description yet',\n",
       " 'beautiful brand new in box booties with roses on the heel they are a size 9',\n",
       " 'newborn fishing outfit  fish just need stick to attach fish the wooden #l  navy garland any questions please ask will bundle to save on shipping price is firm',\n",
       " 'no description yet',\n",
       " 'selling brand new mini 024 oz glamglow glow starter moisturizer in nude glow brand new and authentic without box which skin type is it good for ✔ normal ✔ oily ✔ combination ✔ dry what it is: a hydrating super-charged cream with iridescent illuminating pearl particles to blur reflect and enhance your complexion for an instant luminous finish solutions for: - dryness - dullness and uneven texture',\n",
       " 'jordan iphone case only for iphone 6 plus iphone 6s plus only',\n",
       " 'lightly lined and underwire dark navy blue color with pink white and tan sparrows on it ship m-f only ♡',\n",
       " 'super comfy crocs the pull tab on right shoe is ripped please see picture',\n",
       " '6 best sellers from house of versailles co cake pop confetti creamy slime lemon gold bar h20 slime pink cotton candy h20 slime glitter bomb h20 slime thai style lavender slime beautuful day butter clay slime 12oz ready to use slime activator included read before purchasing palette measures 4x4 inches round each slot is 1 inch high and holds just a little under 1 full ounce',\n",
       " 'mini safe w/ money slot and pull out tray inside great deal for this ** comes with key **',\n",
       " 'bn purple in color sings two songs never say never and one time',\n",
       " '2 travel size mini prada fragrances one prada candy and one prada candy kiss as shown each 024 fl oz new in box never been used',\n",
       " 'how darling is this beige/taupe 100% silk top in perfect condition for those hot summer days has adjustable straps so no worries about too much/little boobage size is wilfred xxs but fits a true xs or smaller chested small i pay shipping',\n",
       " 'in great condition',\n",
       " 'nwt never worn size 6',\n",
       " '**new harry potter time turner necklace **very beautiful  **silver with white sand * hourglass *hermione granger *wizards *dark magic *fantasy great christmas present',\n",
       " 'some scuffs and creases',\n",
       " 'never worn',\n",
       " 'new never worn or tried on lularoe buttery soft leggings htf os lularoe rudolph the lularoe unicorn red nosed reindeer and his woodland friends made in china os fit 2-12 tags: lularoe one size llr lula nwt bnwt pattern christmas leggings present gift free shipping',\n",
       " 'new fashion pearl earring white gold pleated theyre brand new and high quality price firm unless bundled',\n",
       " 'dark gray size xs nwt',\n",
       " 'brandnew makeup: save 27 dollars with this bundle than buying everything separate: -wet n wild megaglo highlighter in crown of my canopy -wet n wild megaglo illuminating pallete -elf tone correcting pallete powder cream -instant age rewind in 120 creamy ivory -elf foundation serum -cover girl ultra smooth foundation with applicator in color 840 natural beige -maybelline dream liquid mousse foundation in color 20 classic ivory -maybelline highlighter',\n",
       " 'rt-500 professional digital mini scale precision instrument small compact easy to carry w/ little room to stowe 6 weighing modes including oz and grams lcd display brand new with battery',\n",
       " 'vera bradley eyeglass case has zipper brand new any questions please ask',\n",
       " 'travel size',\n",
       " 'no description yet',\n",
       " 'brand new in box',\n",
       " 'brand new',\n",
       " 'good condition has small pocket on back and zippers on bottom great workout leggings',\n",
       " 'never worn just took tags off and hung it in closet stretch material size xl',\n",
       " 'used 2 small holes shown in pic 4 on back of thigh bellow butt minor pilling between legs size m skinny leg black',\n",
       " 'super cute t-shirt',\n",
       " 'no description yet',\n",
       " 'royal blue loafers great condition like new  they dont have the size listed in them  my nephew wore them and he is a size 7-8',\n",
       " 'super cute purple glitter halloween tree with battery operated lights and 4 ornaments and 5 pumpkin light covers the top and base separate for easier storage tree is about 20inches tall and perfect for an office or small table tree is in great shape doesnt come with batteries but i do have the original instruction manual tags: spooky goth witches spiders cobwebs black cats pumpkins fall',\n",
       " 'brand new experienced shipper new here but not new to selling and shipping',\n",
       " 'very cute pencil case that looks like a carton of milk tag: kawaii pen case pencil case school supply cute milk pencil case office supply',\n",
       " 'dri-fit the bottom of the n wore off a little',\n",
       " 'there are a few flaws as seen in 3rd picture bottom of legs and a black spot on front of left leg',\n",
       " 'brand new never opened',\n",
       " 'lhall in great condition hardly used',\n",
       " 'never worn too big on me somewhat thick material',\n",
       " 'one black top one plum top- both size large',\n",
       " 'tory burch gladiator sandals 65 tan suede real zip gladiator type sandal leather sole made in brazil-authentic good used condition',\n",
       " 'item is new and unused i am not responsible for any damages during the shipping process ships via fedex which may take slightly longer than usps',\n",
       " '■▪ hm polka dot nude dress ▪■ cute comfortable has pockets ▪no flaws ▪size small ▪▪▪▪▪▪▪▪▪▪▪▪▪▪▪▪▪▪▪▪▪ similar styles melville express urbanoutfitters free people zara f21 forever 21 modcloth vintage',\n",
       " 'never used new i dont sell lipsense bought and never used',\n",
       " 'no description yet',\n",
       " 'brand new with tags white/burgundy',\n",
       " 'lularoe leggings one size halloween frankenstein print new without tag never worn or washed',\n",
       " '2-mens xxl cruise ship t-shirts grey-royal caribbean on pocket embroidered blank back new with tags white-soverign of the seas graphic on front back blank nwot',\n",
       " 'no damage light aqua flat chest 27\"',\n",
       " 'no description yet',\n",
       " 'solar powered owl bobble',\n",
       " 'never used at all',\n",
       " 'murad skincare lot includes: murad essential c cleanser 15 oz murad instant radiance eye cream 12 oz murad rapid age spot and pigment lightening serum 25 oz murad invisiblur perfecting shield 2x 17 oz foils: 2x murad invisiblur perfecting shield',\n",
       " 'used only a couple of times like new',\n",
       " 'blue and black peplum tank top from express with zipper closure great condition',\n",
       " 'wolverine skeletor superman missing cape captain america',\n",
       " 'zara pumpkin halloween sweater worn for a few mins',\n",
       " 'used twice',\n",
       " 'size 115 they are in verry good conditions verry little wear i love this shoes but they are too small for my baby boy',\n",
       " 'bath and body works cool citrus basil 8oz body splash full and like new from my personal collection price is firm bundle to save on shipping',\n",
       " 'perfect condition',\n",
       " '• free shipping • brand new with tags • size medium',\n",
       " 'adidas mens/boys baseball cleats / spikes / shoes brand new - never worn size 85 mens color: black and white rubber/plastic cleat material from a smoke free pet free home',\n",
       " 'light blue size medium womens light pilling price reflected chest measurement: 22 \" length\" 235 \" coat',\n",
       " 'size small but runs big could easily fit a medium',\n",
       " '3 new pairs pink socks and free ty gift and free shipping',\n",
       " 'selling super cute blue boho top with flared sleeves can be worn with high waisted pants or mid rise super comfortable',\n",
       " 'preowned there are signs of use but there is plenty of life left elastic halter style',\n",
       " 'dark wash',\n",
       " 'brand new tags attached vs pink logo band boyshorts size medium price is firm',\n",
       " 'lululemon run inspire crop skinny womens pants 6 fast ship great measurements taken by hand: waist laying flat across a ruler: 135\" inches inseam: 205\" inches leg opening: 5\" inches',\n",
       " 'nwot rare mystic bazaar pinch bracelet set in rhodium w howlite  clear stones excellent condition i have several of these i will post price is firm',\n",
       " '-camouflage colors -size small -brand new freddy jeggings -100% authentic **if you have any questions feel free to comment**',\n",
       " 'new medical nurse uniform scrubs set healing hands ashley pant large tall style 9022 paired with britney top size large; royal blue',\n",
       " 'two pairs of sandals one born one soft',\n",
       " 'no description yet',\n",
       " 'last one priority shipping included brand new in online packaging sweet dreams guaranteed–this super soft snuggly blanket instantly brightens up your dorm room or bedroom faux fur on one side plush on the other softest blanket ever faux-fur on one side 60\"w x 72\"l imported polyester victorias secret pink',\n",
       " 'good used condition',\n",
       " 'women boots by canyon river blues size 10 used once good conditions',\n",
       " 'loose fitting',\n",
       " 'smoke and pet free home fast shipping',\n",
       " 'comes with both',\n",
       " 'this is a super cute garter skirt from victorias secret it is a bright red color with coral accents it is in perfect condition and comes from a smoke free home :',\n",
       " 'white frame with gold accents and tinted lens',\n",
       " 'brand new in box bb cream daily moisturizer with sunscreen spf 30 light/medium brand new tinted moisturizer acne treatment fair **please only purchase if you plan to rate in 3 days or less after receiving your items ###no holds### follow me- im always adding new things **shipping time dropping at post office is usually 1-2 days monday-saturday purchases on friday may sometimes ship saturday or could possibly be monday **i provide tracking with all purchases please ask me about bundling multiple listings to save on shipping thank you for shopping',\n",
       " 'brand nwot nfl team apparel womens ny giants fitted lace up jersey top red lace-up and bling letter detail mesh panels team jersey material super flattering fit size small removable sticker tag still attached to sleeve but has a bit of wear from storing- see photo no tears or pulls- brand new',\n",
       " 'new with tags victorias secret pink logo tote / beach bag pink and orange',\n",
       " 'lots more where left for these winter snow boots snowmobile boots all purpose warm cozy – cold weather boots fleece lined',\n",
       " 'no description yet',\n",
       " 'smoke free and dog friendly home new and unworn randy',\n",
       " 'neon green ua fitted tank nwt womens m check out my closet for other items like nike shoes lululemon headbands calvin klein jacket magaschoni cashmere khakis vs pink panties leggings etc',\n",
       " 'size small banana republic citronella/gray camo very gently use',\n",
       " 'polka dot tankini top',\n",
       " 'new with tags size small',\n",
       " 'in \"i woke up like this\"',\n",
       " 'both have only been worn and washed once the tags have been cut out tho',\n",
       " 'brand new dvd bought for my sister and couldnt return it',\n",
       " 'kawaii style multi color canvas/faux leather hello kitty tote by loungefly hello kitty is on the front and the back along the sides it also has dangling charms on one strap and features her signature bow in metallic pink and polka dots looks very similar to tokidoki hello kitty bag is new with tags and has never been used come check out my other listings i sell a little bit of everything and lots of well known brands such as lilly pulitzer too faced nike imaginext star wars lularoe and shopkins just to name a few',\n",
       " 'authentic blue and black nike foams size 7c good condition',\n",
       " 'no description yet',\n",
       " 'works with android and ios a lot better than those other smart watches looks like the iwatch very nice',\n",
       " 'new with box michael kors warren thong leather color watermelon 7m',\n",
       " 'new in box box is little damaged on top otherwise all good',\n",
       " 'ruby and diamond flat chain necklace it is 10kt beauty and weighs approximately 35 grams the chain in the above picture number three shows a minor fixable flaw in the chain it is so tiny you would miss it seeing it so i am offering a discounted price incase you want to fix it',\n",
       " 'red cord 9 pin lightning charger 3m 10ft nylon braided lightning cable data sync and charging cable for apple iphone itouch brand new never used perfect as a back up in your purse car or work fast and free shipping',\n",
       " 'free shipping + brand new kylie cosmetics matte lipstick mini kit is the perfect way to take your favorite matte lipstick to go the liquid matte lipstick has high intensity pigment for an instant bold matte lip the extremely long wearing lipstick contains moisturizing ingredients for a comfortable emollient and silky feel that does not dry your lips out',\n",
       " 'two pair mens socks i pay shipping you save bundle and save more do not ask for discount unless buying two or more items smoke pet free home new with tags buy superman socks n and get batman socks for five dollars more',\n",
       " 'select lash eyebrow and bikini line trimmer stainless steel rust free smooth  safe eyebrow trimmers for beautiful eyebrows safety guards to protect your skin from cuts and razor burn for shaving facial hair eyebrows and bikini line stainless steel rust free 3 in each package smooth  safe eyebrow trimmers for beautiful eyebrows fast free shipping tags: eyebrow kit eyebrow razor',\n",
       " 'like new',\n",
       " 'new splash liquid lip-color in spontaneous a rich berry shade these are long lasting matte lip colors',\n",
       " 'gently worn size 11 jeans and or 31\" waist jeans',\n",
       " 'medium vs pink boyfriend pants well loved',\n",
       " 'brand new with seal 0493 oz solid makeup brush cleanser with gentle goat-milk cleansing balm',\n",
       " 'on hold',\n",
       " 'no description yet',\n",
       " 'brand new water bottle  2 touch sensor lamps with hello kitty decals by:maya the water bottle is tritan brand bpa free 25 fl oz  for cold drinks only the water bottle is trimmed in red  has a hello kitty face decal on front  a hello kitty word decal on the back both in burgundy red the lamps have a hello kitty face decals on the front  hello kitty stickers on the back  sides one lamp has a burgundy red h k decal  one lamp has a light pink h k decal the lamps take 2 double a batteries eachnot included buyer will receive all 3 items exactly as pictured this is my only set available thanks for looking ☺ ***price is firm/no lowering ***no splitting ***no free shipping ***no substitutions ***asking=blocked ****you must have 5+ great ratings to buy from my closet no exceptions',\n",
       " 'black velvet skater dress size s ordered off wanelo so i dont know the brand open to offers sorry no free shipping',\n",
       " 'yellowish dress great condition no flaws fits medium/large best ****ask questions before purchasing**** ❗️i ship within 1-2 daysusps delays a lot❗️ ❗️please understand that some packages do get damaged when being shippeddue to being thrown usps fault❗️ ➡️so please dont take it out on me⬅️ -bundle to save -returning customers save ❌holds|❌try ons |❌trades ♡♡♡ first comefirst serve *shipping included in price*',\n",
       " 'brand new hard to find rae dunn is known for its intentional imperfections i ship quick and pack everything with extreme care and extra bubble wrap please see my other items no returns or exchanges',\n",
       " 'super soft oversized grey top with welcome to fabulous las vegas nevada in gold in great lightly worn condition tag the size large lostinbubbles',\n",
       " 'white capris -kids size 16 1/2 about the equivalent of womens size 8 -inside adjustable pulls -never worn no flaws questions read my profile bio most questions should be answered there if not feel free to ask i always reply :',\n",
       " 'black sweatpants by victorias secret \"angel\" loungewear drawstring waist with side pockets only worn once and washed',\n",
       " 'a black tee with white screen print g and garbage lettering size m good condition',\n",
       " 'new with box authentic',\n",
       " 'green and white short sleeved kappa delta t shirt greek letters are white and there are also white bands on each of the sleeves made of cotton/polyester blend never been worn - basically brand new',\n",
       " 'heading to the post office in 20 minutes this sale will be taken down after that the kkw crème liquid lipstick has sheer to medium coverage that can be built based on your desired lip intensity this unique créme formula contains moisturizing and hydrating ingredients that glide on for a luxurious and creamy finish gives a natural sheen while feeling ultra lightweight on the lips kylie',\n",
       " 'silver with cubic zirconia crystals',\n",
       " '3 pairs boot cut',\n",
       " 'not worn too often 9/10 condition lots of life left no scuffs or markings',\n",
       " 'brand new authentic absolutely the most gorgeous color ever will ship the same day',\n",
       " 'brand new one size fits all',\n",
       " 'this item is 100% authentic you should get your item within three days of purchase if you have a question please leave a comment',\n",
       " 'hello kitty collection tried on hand 2x but never used no box',\n",
       " 'free shipping youll receive 7 strips of 5 stickers on each',\n",
       " 'vital brights plum basics never used never opened nothing excellent shape',\n",
       " 'no description yet',\n",
       " 'medium great condition no flaws stretchy  slinky material black v neck open slits on sides of arms below waistslightly flowy matches pants  shirt in other listing',\n",
       " 'new with tag tall and curvy legging from lularoe made in china',\n",
       " 'pre owned',\n",
       " 'new will fit medium',\n",
       " 'brandy bundle',\n",
       " 'apple in basket hanging',\n",
       " 'size 12 1/2 never worn and in great condition',\n",
       " 'champion orlando magic nick anderson jersey overall in great shape for the age minor wear on the numbers see pictures',\n",
       " '21 day fix plus bonus unopened dvd i will also include a set of the containers',\n",
       " 'perfect for spring and summer fun criss cross back detail no flaws cleaning out closet smoke and pet free home',\n",
       " 'no slip cover',\n",
       " '2 old nave shirts and 1 carters all size 4t free shipping',\n",
       " 'brand new brand: uwd size: 5 regular such a cute pair of distressed black denim jeans the material isnt the jegging type it is actual denim the distressing is so cute stretchy and hugs your curves hope this can find space in your wardrobe',\n",
       " 'size xs very goodcondition boot cut sweatpants has pockets on back side',\n",
       " 'black with unique colors around the sides',\n",
       " 'brand new slidewatch rarely used black all around unisex no flaws',\n",
       " 'black with gray stripes',\n",
       " 're decorating vase is 12 inches pic means double happiness a great addition to any room see other pics',\n",
       " 'new last 1',\n",
       " 'cuties',\n",
       " 'kylie jenner pumas very comfortable and cute with a pair of leggings ',\n",
       " 'few snags not noticeable unless you look very closely',\n",
       " 'watermelon colors',\n",
       " '4 items from nyx nyx lingerie lipstick 01 honeymoon nyx lingerie lipstick 05 beauty mark nyx lingerie lipstick 09 corset x2',\n",
       " 'featuring jack skellingtons head bought at hot topic a while ago',\n",
       " 'no stains/no holes great condition from pet and smoke free home',\n",
       " 'vs pink full zip hoodie in xs used but in good condition w/minor flaws please see 3rd  4th pics as i try to take a closeup pics mostly fuzzies as it is normal after u wash  dry them multiple times i traded with someone else on a different app but feels a little tight on me as i like looser fits for sweaters/hoodies priced cheap to reflect on condition of hoodie please ask if u have any questions this item will ship fedex thank u',\n",
       " 'up for sale is an extremely rare and highly sought after cyber pup jrinteractive walking dog the can see hear feel sing and dance buy this now before its gone forever comes with an instruction manual that describes how to program the dog do things like sleep play games do tricks…etc this works perfectly comes in the original box and has the instruction manuel this is from 2000 and is rarely seen on the internet for sale cyber pup has a sensors in the head eyes and mouth it also has an infrared sensor and a light sensor the led eyes have different expressions that tell you what his ‘emotions’ are it is marked “thunder electronics …made in china ” it takes 4 aa batteries',\n",
       " 'used condition tory burch flats black pebbled leather wear is shown in pictures and includes scuffing on toes fixable w a little polish peeling insole wear mark on heel does not go the whole way thru see pic pictures show true condition and wear the nice thing is all these issues are not very not noticeable when wearing i do not have original box but can sent another tb box if you want one please see all pics and ask any questions prior to purchase these are in fair wearable condition if you want new then please dont purchase',\n",
       " 'womens converse all star tennis shoes size: 7 i think they run more like a 75 bottom of shoe is 105\" from very tip to end of heel good condition mild dirty on white sole and a toe scuff on left front',\n",
       " 'brush with bamboo’s 2-pack includes 2 adult toothbrushes every part of this product is plant-based: bristles handle wrapper and box soft bristles are made from a base of 62% castor bean oil bio-based and recyclable but not biodegradable bristles made in usa the handle is made from 100% bamboo organic and wild – no pesticides or fertilizers the wrapper around the toothbrush is plant-based and commercially compostable the box encasing the toothbrush is made from paper – no tape or glue is used your bamboo toothbrushes can be used for just as long as plastic toothbrushes usda certified biobased green american certified vegan bpa-free natural and non-toxic',\n",
       " 'masquerade brand size 15/16 perfect condition only worn once for a few hours',\n",
       " 'very clean  worn maybe once has crease protection pads installed  size 105  mint condition not for sale in the main market anymore',\n",
       " '•ucla sweatshirt• ▪️youth size small ▪️unisex - perfect for boys or girls ▪️super soft pullover sweatshirt with hood ▪️signature ucla blue and yellow ▪️50% cotton 50% polyester ▪️chest measures 19\" straight across laid flat ▪️length is 21\" long',\n",
       " '3 maybelline mascara as pictured new fast free shipping price is for all 3',\n",
       " 'jordan toddler 5c white boy/girl',\n",
       " 'incredibly warm vest its thick but light at the same time i bought it large because that vest style runs small so it truly fits as a medium/large',\n",
       " 'brand new floral camera leggings',\n",
       " 'like new size medium',\n",
       " 'brand new in box lena lashes cosmetics liquid lipstick in jason currently sold out perfect color/vampy color dark red/burgundy red beautiful color on any skin color',\n",
       " 'brand new',\n",
       " '5 disney princess magnetic dress up sleeping beauty - aurora frozen - elsa  anna disney jr - doc mcstuffins cinderella lots of dress up options clothes shoes accessories comes with frozen keepsake box: no free shipping',\n",
       " 'no description yet',\n",
       " 'womens cobalt blue down jacket gently used very warm and snuggly on those cold mornings generous size large',\n",
       " 'free shipping will bundle belt is stretchyone size fits most',\n",
       " 'new t shirt official licensed product size 2xl',\n",
       " 'no description yet',\n",
       " 'brand new price is firm bundle orders to save on shipping :',\n",
       " 'new tarte mini sample set',\n",
       " 'these are 25$ in bell and other stores i got them at a salvage auction where the box they were in was damaged during shipping 15$ each or 2 for 25 shipping is free thanks',\n",
       " 'i ordered this last year but i dont recall where from nor is there a tag on it but it fits like a medium/large fits better on those who have some hips to them somewhat cheeky never wore in water only to try on it was a bit small and i should have gotten and xl i am 54\" and about 180',\n",
       " 'good condition worn maybe twice',\n",
       " 'navy and gray striped polo by banana republic luxury touch line of mens polo shirts size large very nice and soft polo with no signs of ware like new condition made with 100% cotton',\n",
       " 'brandy melville stickers ✨ holo alien sticker ✨ holo smile sticker free shipping || will be shipped in an envelope w/tracking provided',\n",
       " '♡bnib 2 reusable pairs ♡ includes 1 new duo clear eyelash glue ♡unbranded mink fibers ♡check my ratings for feedback ♡prices are •firm• unless bundled ♡check out my other lashes ♡i ship within 2-3 business days mst ♡excludes holidays/weekends tags for views: house of lashes velour mink false lashes false eyelashes wispies huda kiss lashes ardell kylie makeup cruelty free koko lashes',\n",
       " 'green like new nike shorts great condition excellent for a jog or a bum day offers are accepted 3 pairs',\n",
       " 'sunset orange and red good condtion',\n",
       " 'up for sale is a brand new anastasia beverly hills glow kit brings instant luminosity to the complexion with these four metallic powder highlighters just layer the highly blendable shades together or wear them separately on the eyes and body for a radiant look good luck shoppers :',\n",
       " 'nwt victoria secret graywhite shirtw/ iphone 7 plus case',\n",
       " 'never used bath and body works forever red mist 8 fl oz',\n",
       " 'worn a couple of times but is still in brand-new condition please feel free to contact me with any questions or concerns thank you',\n",
       " 'one size fits small-large soft brush knit leggings are amazingly comfortable 92 % polyester 8 % spandex softer than lularoe leggings not sheer or see through perfect for the winter or holidays not lularoe burgundy asymmetrical top also available make it an outfit for 45 white cardigan not included brand- infinity raine',\n",
       " '3 packs of hair 2 straight and 1 wavy the straight is in 12 inch and color is black the wavy hair is 16\" and black contact me before buying ',\n",
       " 'this awesome bundle includes the red and white polka dot dress the black and blue striped skirt the pink speckled cardi the cali jacket the black strapless dress and the plum adidas jacket also for free im including the black and gray cardigan the black strappy bralette perfect for summer and a pair of frameless heart shaped sunnies not pictured if the package wasnt already super full id include more items thank you so much for your business',\n",
       " 'includes: 4 bags tide pods spring meadow 14 pacs each bag total of 56 pacs',\n",
       " '♡36dd victorias secret dream angels with crystals bra ♡baby blue lace with accent neon yellow spaghetti strap with accent bows ♡good used condition',\n",
       " 'i love this print i believe it was called cabbage floral it is red with pinkgreen and hints of yellow',\n",
       " 'black timberland boots size 7 boys/men',\n",
       " 'measures 33×44',\n",
       " 'comes from a smoke free pet friendly home check out my other listings to combined on shipping',\n",
       " 'no description yet',\n",
       " 'brand new never used',\n",
       " 'cute blonde ballerina doll hardly used and very cute there is no imperfections or flaws of any kind i can not place her shoes so item comes with no shoes items comes with outfit and everything you see in photo her eyes close when she is down and open when up american girl doll',\n",
       " 'no description yet',\n",
       " '2016 bowman platinum ice yu darvish #45 card texas rangers in nm condition pack fresh card',\n",
       " 'new black and white converse style cyphe ox men size 9 womens size 11 box not included to save on shipping',\n",
       " 'small white michael kors selma purse gorgeous bright white perfect for traveling going out or just day to day use only used twice no flaws',\n",
       " 'brand new \"bali\" 3pc warmer comes with a bar to get you started : absolutely beautiful warmer',\n",
       " 'pilaten blackhead remover60 ml',\n",
       " '2 pairs free shipping new size large',\n",
       " 'no description yet',\n",
       " 'pick any 5 new disney dvds out of 24 toy story 1 toy story 2 toy story 3 the incredibles the lion king the lion king 2 the lion king 1 1/2 the princess and the frog cars cars 2 hotel transylvania the little mermaid rio ice age beauty  the beast ratatouille aladdin mulan a bugs life inside out the lego movie monsters inc monsters university james and the giant peach moana sold out dvd lot movie lot movies dvds disney movies family movies kids movies disney dvds',\n",
       " 'brand new experienced and quick shipper',\n",
       " 'brand new unopened in perfect conditon all never used color pop ultra satin lip mini bare minerals full size lash domination mascara bare minerals mini lipstick in shade make your move moxie bare minerals deluxe mini original powder foundation in medium beige make up forever hd foundation sample from sephora thebalm blush in shade hot mama it cosmetics superhero mascara elizabeth mott matte bronzer temptu facial primer mini full sized crayon concealer in shade light 2 mannakadar beauty blush in shade paradise blush hm eyeshadow in shade dover hikari full size mascara mini perfumes miss dior chloe and tom ford in orchard soleil two mini jane iredale lip  cheek stain in shade just kissed thebalm mad lash mascara mini 19 pieces total great deal this is a steal plus 4$ shipping all brand name items mix of full size items deluxe mini items and mini items',\n",
       " 'size xs oversized fit worn once great condition',\n",
       " 'this toy is in good conditions might have a little black spots but is very clean is fun to play with and you can do any hairstyle you want she is a unicorn',\n",
       " 'brand new only removed from packaging for photos made in vietnam',\n",
       " 'selling as a set will not seperate unless offer is decent everything pictured is included all are in great condition purchased at the end of last year some has been washed some still need to be i still suggest washing before use included are: blush brush buffing brush expert face brush contour brush detailer brush brow brush deluxe crease brush accent brush base shadow brush fine liner brush',\n",
       " 'new authentic true religion outfit price is firm',\n",
       " 'diamond ring stamped10k weighing approximately 26 grams this is definately a dainty ring and is approximately a little under a size 8 another blow out special snatched it up while you can this has been cut in half dont wait to long there are nine people that have liked it this is a steal just in case you dont know that already',\n",
       " 'no size  feel like l',\n",
       " 'brand new womens 100 tundra full zip fleece in xxl in dramatic plum color price is firm',\n",
       " 'slightly oversized fitting worn 1x no flaws',\n",
       " 'medium in womens ⚡️⚡️i have a lot of nike deals visit my closet ⚡️⚡️',\n",
       " 'i bought this during the fall/winter 2016 collection purchased straight off of the supreme website its only been worn a couple times still super clean looks brand new its a new era brand osfa',\n",
       " 'shirt 0-3 month leggings 6 months old navy and carters',\n",
       " 'wholesale to the public',\n",
       " 'lularoe os leggings made in china vguc i bought used but never wore close up pictures included for condition made in china blue red yellow colors in pattern',\n",
       " 'tommy girl 10fl oz top part missing barely sprayed',\n",
       " 'these are a pair of womens sperry top-sider angel fish slip-on shoes size 75 they are in excellent condition they were only worn once thanks for looking\\xa0 smoke free home make a reasonable offer',\n",
       " 'girls nike shox size 2c eeuc no noticeable flaws',\n",
       " 'two toddle outfits',\n",
       " '3 v-neckd are included in this bundle the 3 colors include light pink light blue and coral 2 of the vnecks are from gap whereas the light pink vneck is from abercrombie fitch',\n",
       " 'size 11 ds receipt is available',\n",
       " 'hoodie',\n",
       " '6 pack bundle 150 sheets \"fat book\"',\n",
       " 'monsters - the wolf man #114 funko pop *toy tokyo exclusive* *glows in the dark*',\n",
       " 'black size us 7 worn 1x',\n",
       " '2 different sizes vintage nambe bowls',\n",
       " 'well loved chanel brush bundle i used these for artisry many years ago there are 9 brushes total and are still in great shape i gurantee authenticity as i purchased these one by one :- #chanel #brushset #authentic #chanelbrushes',\n",
       " 'one pair 2 lenses plano lenses no rx used for color not vision color blue free shipping *ships monday**',\n",
       " 'nwot: high waisted denim shorts with rips in the front',\n",
       " 'brand new inbox adidas nmdr sneakers available in different sizes inbox for your size',\n",
       " 'more than one available to buy/ brand new never opened unused soda stream source starter kit features easy snap - lock bottle insertion limited lifetime warranty home soda maker',\n",
       " 'protect teeth during sports or sleeping',\n",
       " 'nice dark green tshirt size medium',\n",
       " 'swatched full size',\n",
       " 'black riding boots great for the winter only worn a couple of times; still in great condition size 7',\n",
       " 'soft and light black/gray/white summer dress perfect for the beach offers are welcomed',\n",
       " 'no description yet',\n",
       " 'great little game that keeps your mind sharp has lots of things to do while you learn spanish it comes with the instruction book also',\n",
       " '4 iphone 6/6s plus cases',\n",
       " 'size 30',\n",
       " 'nwt has split side detailing and rolled sleeves brand new comes from smoke/pet free home',\n",
       " 'never worn still has original tags comes from a pet free smoke free home',\n",
       " 'purchase off of here for my boyfriend but he cant for them : so im selling them',\n",
       " 'comes with protective slip used nothing has hit pan',\n",
       " 'try a new fall scent of pink zebra sprinkles soft soy wax melts ▪️ sprinkle bag is 2\"x3\" and contains 1 heaping tablespoon size scoop equal to 3/4 oz of scent see pic #2 for size comparison of a pink zebra sprinkles scoop see photos for more information can be used in any brand electric wax warmer these sprinkles are highly concentrated so a little bit goes a long way ▪️️please note - summer is here  the weather is heating up these are made of soft soy wax and extreme heat from the sun can cause these to lose their pebble shape however they will still offer their amazing fragrance in your warmer please check your mail  remove from mailbox as soon as possible',\n",
       " 'brand new with tag made in vietnam',\n",
       " 'brand new with tags small barely noticeable defect on side stitching see last picture',\n",
       " '+ masters visor hat + official masters item + hat is in great condition + adjustable hat ⛳️',\n",
       " 'paperback - they say/ i say: the moves that matter in academic writing 3rd edition bought used for ap english lang summer reading a very good read and a helpful guide throughout the year on writing academically and understanding the techniques you must know for ap lang condition: good edges are slightly folded in pencil writing inside front cover pictured no marks inside - price is negotiable ships usps on following saturday of purchase bundle to save on shipping comment below or message me for questions and concerns ❤',\n",
       " 'mist full sized',\n",
       " 'wildfox couture sweetheart cutie shorts womens sz s rare bbj sleep',\n",
       " 'never worn tags still on fits a size 9/10',\n",
       " 'black and polka dot kate spade wallet authentic small crack in crease as shown in picture 4 clean **no free shipping',\n",
       " 'super cute its long and sexy got online but by the time warm weather came i had lost too much weight its xl fits more like a large medium and stretches',\n",
       " 'brand new its real 18k gold filled mens cross necklace high quality chain length: 22\" pendant length: 2\" stamp 18k',\n",
       " 'never used sample sizes color is medium to deep shipping is firm',\n",
       " 'barbie articulated ken male doll for sale good condition does have a mark on his hand',\n",
       " '3 month to 6 month 3/9 swim set like new free shipping i ship in 1-3 days excluding weekends follow me for more boys clothing newborn 3 month and i have a lot of 12 month to post',\n",
       " 'hyperdunks in red with florescent orange color accent size 9 good condition',\n",
       " '14 set makeup lot wet n wild-coloricon kohl eyeliner/dont leaf me wet n wild-brow  eye liner pencil crayon/dark brown wet n wild-coloricon kohl eyeliner crayon/babys got black wet n wild-coloricon lipliner crayon/brandy wine wet n wild-megaslicks lip gloss/seedless watermelon wet n wild-lipstick/mink brown wet n wild-eyeshadow/panther wet n wild-eyeshadow/brûlée wet n wild-eyeshadow/brass wet n wild-eyeshadow/bleached wet n wild-eyeshadow/groupie wet n wild-eyeshadow/nutty wet n wild-wild shine nail color/ready to propose wet n wild-wild shine nail color/sparked',\n",
       " '2 12 month outfits sold together one with black and white flowers with black and white striped pants the other is multi colored with purple pants with matching design on sides never used',\n",
       " 'package still sealed',\n",
       " 'new with tags 2 pairs nike long socks girls 9c-13c pink black white',\n",
       " 'super cute top white/cream with black stripes nwot perfect condition just didnt look right on me',\n",
       " 'purple gymshark tank top small racerback somewhat see through slits on side never worn',\n",
       " 'like new size s firm pls',\n",
       " 'super cute size 8 womens',\n",
       " 'super cute sports bra bundle- cobalt blue and black- cross back detail too small for me never worn- no tags- some padding',\n",
       " 'pre owned no holes medium womens pull over half zip blue/pink smoke free home',\n",
       " 'on hold for amandac all other buyers will have their order cancelled authentic michael kors purple leather tote with gold tone detachable mk logo key fob and gold tone hardware and gold tone feet 16\" wide x 9\" tall x 6\" deep strap has a 10 1/2\" drop so it sits comfortably on your shoulder full zipper at top khaki colored interior with signature michael kors logo one interior zippered pocket and four interior side wall pockets soft walled has been stuffed to maintain its shape original dust bag included excellent used condition no tears stains or rips all zippers are fully functional this cue bag definitely has a lot of life left in it beautiful rich color for spring',\n",
       " 'no description yet',\n",
       " 'never been worn',\n",
       " 'kids or baby animal wall abc canvas 3 foot 3 by 1 foot 10',\n",
       " 'love spell shimmer 8 oz pure seduction red plum 84 oz never been used',\n",
       " 'black and taupe small wallet leather has a couple of small scratches as shown in photo super cute',\n",
       " 'small round compact mirror good size for purse or pocket',\n",
       " 'one pack 30 day supply of plexus slim and two bottles of pro bio5 all exp 06/18',\n",
       " 'gray shirt with purple roses crocheted neckline and back with hi-lo hem torrid size 2 gently worn and in great condition smoke free home check out my other listings willing to bundle',\n",
       " 'navy boots come to mid calve brown pair is missing a tassel',\n",
       " '❄️ great christmas gift idea ❄️ super cute faux suede choker with bow and bells ❄️ price is firm ❄️ no order cancellations',\n",
       " 'light weight rhinestone hoop earring',\n",
       " 'nice almost new',\n",
       " 'item reserved for kzw',\n",
       " 'nwot blue aeo sateen x jeggings really soft and comfortable ships immediately ✨',\n",
       " 'tan with pretty flowers',\n",
       " 'neon and grey victoria secret pink cage push up bralette never worn but no tags fits 32 and 34 a-c',\n",
       " 'tumblers glasses avon penguin party four 1990 brand new in box brand new in the original box and packaging never used these are avon tumblers from 1990 there are four acrylic 14 oz tumblers they are clear with graphics of penguins at play each tumbler has the same graphic',\n",
       " 'butter bronzer barley used',\n",
       " 'new never worn',\n",
       " 'disc in great shape',\n",
       " 'excellent condition no flaws size small price firm',\n",
       " 'rabbit and fox fur vest with hood gorgeous only thing wrong is tag cut out and zipper part is missing: size xl but runs like a l open to offers:',\n",
       " 'ladies size 2x blue and light beige chevron printed dress tacera brand dress it is a sheer dress with a solid light beige spaghetti strap slip like under it 3/4 sleeve please note it is missing the belt but has no affect in the wear of this pretty dress',\n",
       " 'you will receive everything shown in the picture 1x 16g hollow piercing needle 1x 16g steel stud 1x alcohol prep pad always pierce responsibly *typically with hollow needles you get a needle a size larger than the jewelry youre putting in because in most cases you can put the jewelry inside of the needle so when the needle goes inside your body so does the jewelry so please if you would prefer to do it this way and need a larger needle message me immediately after purchasing so i can accommodate you body jewelry piercing pierced plugs gauges gages guages stretchers tunnels daith rook helix conch ear earrings tragus snug eyebrow bridge lip ring hoop nose nostril labret snakebites angelbites belly button tapers tunnels monroe septum smiley web 16g 14g 12g 10g gauge goth punk makeup fashion cute modification plugspiercingsandbrutality ppab',\n",
       " 'in great condition sizes 3 to 9 months bundle of six onesies no stains',\n",
       " 'good condition no stains rips or holes size is xsmall but fits up to medium no free ship',\n",
       " 'used once glass with silicone sleeve twist off cap',\n",
       " 'neuceutica flash-lash eyelash growth serum: enhances lashes and brows thickens with biotin e hyaluronic acid 7 ml huge 7 ml: #1 proven formula with biotin and peptides scientifically reaserched formula: uses the same blend as the top eyelash enhancers for half the price long term eyelash health: experience stronger lashes with less breaking or falling out efficacy data: 86% experienced 22% thicker lashes and brows and 26% longer lashes neuceutica guarantee: neuceutica wants you to be 100 percent satisfied with this product so they are offering a 6 month money back guarantee must use continuously for sustained results',\n",
       " 'gently worn infant jeans 18/24 months',\n",
       " 'anti-humidity gel oil primer conditioning mousse tried once',\n",
       " 'brand new no tags these are camo joggers very cute with black skull on front they are perfect to wear for any occasion these are unisex men or women they fit small to large nice stretchy waist band army jogging says camo sweats army harem pants harem joggers harem pants with skull skull joggers army joggers camo joggers',\n",
       " 'girl bundle 6-9 months everything is in good condition 2 dresses 10 pants 1 shirt 3 footed pajamas',\n",
       " 'no description yet',\n",
       " 'this dress is a muted blush pink and was worn twice no holestears or stains',\n",
       " 'no description yet',\n",
       " 'new without box 2oz',\n",
       " 'all new in package comes with 10 different embossing folders',\n",
       " 'like new condition quality material staple piece',\n",
       " 'this is such a cute tank from volcom the straps are adjustable by the tie in the front so you will get a perfect fit two tiers of fabric says volcom in white at the hem size small',\n",
       " 'no description yet',\n",
       " 'ugg bailey bow boots size 7 still has a lot of life in them the bottom sole of the boot is a little worn and the boots has some lite stains please look at the pictures',\n",
       " 'brand new ive tried this product before and i know im not going to use it so figured i would sell it to someone who wants it',\n",
       " 'no description yet',\n",
       " 'never worn hot pink zip up super soft and cute',\n",
       " 'no description yet',\n",
       " 'nwot thirty one bag super cute and ready to be used',\n",
       " 'super cute winter vest by old navy zip up and button up fluffy size l land end sweater',\n",
       " 'free shipping 5 mac prep + prime skin base visage primers new',\n",
       " 'usedsize 7',\n",
       " 'free ship thiss a brand new with tag too faced cosmetics x skinny dip london limited edition glitter makeup bag pouch as shown in pictures super cute has too faced makeup printed and clover the dog printed on it item sold as shown in pictures please refer to pics for details all sales are final prices are firm please do not negotiate no hold at this time free shipping is included  thank you for looking',\n",
       " 'smoke free and dog friendly home retired pattern tote has a few snags on strap and discoloring on magnetic snap closure overall good condition faux-leather straps and base trim inside three slip pockets magnetic snap closure vera bradley logo plaque dimensions 11\" w x 13 ¼\" h x 5\" d with 11\" strap drop care tips spot clean',\n",
       " 'no description yet',\n",
       " 'was for prom it fit and looks great still',\n",
       " 'brand new- only taken out of box for photo of color sentimental is a matte fresh orchid looks gorgeous on',\n",
       " 'finding dory fleece knot blanket with pillow: approx size 50\" x 50\" comes from a smoke-free  pet-free home fun  unique',\n",
       " 'mens new with tags flojos sandals size 10 color brown ships without the box',\n",
       " 'blue navy and silver side tie new york  company blouse only worn a few times still in excellent condition size xl 96% polyester 4% spandex',\n",
       " 'full',\n",
       " '2 pair ok sharp color kids s/m leggings colors jump out at you',\n",
       " 'genuine working tippmann cyclone feed system with aftermarket soft pedals for less chance of ball breakage great condition complete assembly with hose and fitting guarenteed working tested and will ship same day clean hopper entire system freshly lubricated no offer please',\n",
       " 'this is an excellent condition only one once and a cartigan his never been worn cute newborn outfit by carters',\n",
       " 'brand new with tags victorias secret pink lime green sandles size med and a pair of knee high socks on size fits all',\n",
       " 'no description yet',\n",
       " 'no description yet',\n",
       " 'brand nwt never worn please give her a loving home super soft flowy maxi dress with a cool tie dye pattern v neck and long sleeve but a light light material',\n",
       " 'affliction shirt size medium worn once no tear stains or piling',\n",
       " 'matte white marble press on nails -20-ct set -oval shape -doesnt come with glue -ready to ship +ships within 24-72 hours **price is firm**all sales are final**no return**',\n",
       " 'in good condition come with box receive offer',\n",
       " 'brand new never used',\n",
       " 'new with box and tags includes storage for your id cards and cash makes a great gift comes with wristlet strap for iphone 6 and 6s',\n",
       " 'converse kids',\n",
       " '100% cotton beautiful embroidery cool and comfortable for going out covering your swimsuit or sleeping',\n",
       " 'cheer bow bundle cheetah and white',\n",
       " 'this is a campus back pack 2013 it has a place for computer',\n",
       " 'new never worn so pretty from a boutique i bought for 40 will take something close to it can be worn with something under or alone as a bikini cover sz xl but this can be work for different sz medium large xl stretchy',\n",
       " 'in love with these jeans but after baby #2 i dont have a chance lol new with tags super cute and blingy',\n",
       " 'new in box aveda triple accent in 136 olive/quince from the petal essence line eye color is a gorgeous smudgeable olive green and the cheek/lip color is a soft coral orange color this has never been used or swatched i purchased an extra and never got around to using it',\n",
       " 'bottle is still full only used once',\n",
       " 'runs great',\n",
       " 'brand new fairy tales lice prevention conditioning spray',\n",
       " 'bare minerals ready face color palette in the good vibes authentic used once what you see is what you get as pictured see photos for usage sprayed with isopropyl alcohol for disinfection purposes shades include: the pick me up the ocean view true',\n",
       " 'size 3 months baby boy navy ralph lauren layette sleeper snap pj cuffed hands to protect baby from scratching face such soft warm cotton new smoke free home',\n",
       " 'no box',\n",
       " 'no description yet',\n",
       " 'victoria secret very sexy push up front close snap adjustable strappy back 36 d bra bra is in like new condition no stains or tears pet free smoke free home price is firm **like something else in my closet ask to bundle to save a few $$**',\n",
       " 'no description yet',\n",
       " 'new with tag s925 sterling silver stamped similar style to pandora',\n",
       " 'brand new never worn just washed came in a package of 5 but i wore one and realized not my size',\n",
       " 'bnwt size medium gorgeous silver from the limited elegant collection',\n",
       " 'wooden country candles with wick these are wooden burgundy is 7\" tall navy is 5\" and beige is 3\" tall',\n",
       " 'brand new call it spring size 8 women',\n",
       " 'auburn',\n",
       " 'bought way too many and would like to get rid of my least favorite ones brand new just took out of the package to take a picture if you purchase before 4pm it will ship the same day',\n",
       " 'size medium',\n",
       " 'baby boy polo shirt buttons on the sleeves so that it can be worn as a shorter sleeve shirt or long-sleeved horse is navy blue and the plaid colors are blue green yellow and pink gently used',\n",
       " '3 - pampers size 3 new  sealed',\n",
       " 'brand new',\n",
       " 'new lularoe cassie houndstooth skirt xl with tags pet free smoke free home black and white with tags',\n",
       " 'small side slits shoulders have a slightly different pattern that is a little sheer the rest is not sheer at all no flaws size xs but fits like a s',\n",
       " 'white men fishnet under wear men white fishnet underwear size 32-34 m',\n",
       " 'bbw showergels and yankee candle plug-ins',\n",
       " 'off the shoulder top floral design soft material like new',\n",
       " 'black and grey athletic shoes only flaws are a few minor seam ends coming loose otherwise they are like new womens size 7',\n",
       " 'zips-up contrast gray/grey/blue detailing silver',\n",
       " 'sperrys worn a couple times fits like a 65-7 excellent condition',\n",
       " 'super cute color womens forever 21 bomber jacket its that pinkish colored with silver zippers size small only wore a few times in great condition',\n",
       " 'only worn about twice no stains or rips',\n",
       " 'ipad pro smart cover in lilac made for ipad pro - 97 inch polyurethane cover magnetically aligns itself open or close to wake or sleep ipad',\n",
       " 'price is included a shipping cost first class mail / 2-7 days brand new with tag or online package victoria secret pink logo boyshorts medium size begonia price firm bundle for discount',\n",
       " 'no description yet',\n",
       " 'brand new in package size large logo low rise hipster panty front is white with hot pink lips and the back is black with hot pink lips 2 pairs-- hot pink lips and white and orange stripped',\n",
       " 'no description yet',\n",
       " 'price is firm set of 6 brand new in package pigma manga comic pro black pen markers + one mechanical pens',\n",
       " 'little people animal friends farm soundssongs and matching play 1-5 year old',\n",
       " '100% authentic see lot numbers full size and authentic used see pictures',\n",
       " 'euc garanimals 2t fleece zip up hoodie and sweat pants in great shape like new free shipping',\n",
       " 'have a 1st birthday boy party bundle including 20 pieces some stuff used like decoations and other stuff unopened 2 happy birthday banners 6 hanging decorations 1 high chair decorating kit 2 pks 8ct thank you cards 1 pk 8ct invitations 1 pk 12ct blue cups birthday confetti 1pk 20ct blue desert plates 2 pks 20ct green leaf plates 1pk 2 ct centerpieces 1 birthday boy party hat and 1 bib',\n",
       " 'wear on the butt shown in picture black with forest flower design tween retail for 25',\n",
       " 'size 12',\n",
       " 'hm padded bra red bikini bottom is a medium and top is a small',\n",
       " 'for sale i have a gopro hero + lcd waterproof action cam hd camera camcorder + bundle of extras below is a listing of everything included: -gopro hero in waterproof housing - 6 different clip mounts -8 different screw nobs with 2 different lengths -wrist mount with strap -extra wrist strap -flotation handle with strap -suction cup mount -8 adhesive mounts -carrying case black -charging cable -miscellaneous mounts** reasonable offers only',\n",
       " 'kylie holiday palette | kyshadow kylie cosmetics holiday edition \\xa0brand new fast and free shipping',\n",
       " 'in perfect working condition one light scratch on the back the front and screen are absolutely flawless comes with original usb cable no wall port or headphones price is firm',\n",
       " 'works great fast shipping with tracking weighs 6 oz so free shipping',\n",
       " 'no description yet',\n",
       " 'brand new sealed tube',\n",
       " 'brand new pandora bracelet signature makings ale 925',\n",
       " '3 pair bundle fine soft mink comfortable lashband',\n",
       " 'shade queen bee not sold anymore 100% authentic purchased at beautylish',\n",
       " 'otter box in decent shape has some scuffs and scratches on it but will do the job',\n",
       " 'not used it was a gift great condition',\n",
       " 'color : blue size : womens medium condition : never been worn very good condition',\n",
       " 'new',\n",
       " 'free shipping authethic coach red purse with brown handle and lining',\n",
       " 'nwt vera bradley kiss lock case and luggage tag and double eye glass case in parisian paisley bundle',\n",
       " 'size 85 womens new without box box no lid ✅firm price no free shipping ⚡️i have a lot of nike deals visit my closet ⚡️',\n",
       " 'new in bag never unrolled',\n",
       " 'sooo cute',\n",
       " 'theater case/ trunk with box',\n",
       " 'very cute very old wildfox zip up with a hood… oversized almost like a mens small',\n",
       " 'black mini with gold zipper detail and never worn',\n",
       " '35 oz endless performance® crème-to-powder foundation is your key to a long-lasting flawless finish stays true and appears fresh for 12 hours* heat- and humidity-resistant glides on as a lightweight cream to hide imperfections evens out skin tone then dries to a soft powdery matte finish transfer-resistant won’t rub off or streak color: beige 4',\n",
       " 'nwt k  c wearable bath towel no rips stains or flaws smoke-free home has velcro closure and adjustable straps 100% polyester #towel #pink #teal krislyn',\n",
       " 'received in like new condition and still havent used it it is to beautiful to just set around kate spade wellesley small rachelle satchel bag mint mojito green',\n",
       " 'black nike acg boots size 5c in great condition price drop and price is firm final price no free shipping tags: nike boots size 5c boys nike 5c black nike baby boy size 5c boys nike size 5c',\n",
       " 'still in box 100% authentic',\n",
       " 'clarks bendables size: 65 heel height: 2\" heel type: wedges light scuffing on the heels does not come with original box',\n",
       " 'brand new authentic price is firm anastasia beverly hills modern renaissance palette',\n",
       " 'aeropostale brand | size: xl | cotton blend | legging style | full length | fold over band is blue and white ombré pic is a little light | live love dream in studs on back of band | zero flaws | tags: #aeropostale #yogaleggings',\n",
       " 'bundle 15 colors contours face cream makeup concealer palette + 1 sponges brand new in package description: material: foundation cream box size: approx 15 x 10 x 13 cm / 591 x 394 x 051 inch made of excellent material safe and soft for your facial skin combines 15 colors in one palette can be mixed to help create different looks used as foundation primer foundation concealer camouflage and eyeshadow base great for shading light weight but wearable its great for highlight and contouring for beginners',\n",
       " 'brand new dolman tops super soft one is black the other is red smoke free home taken out to try on and take pictures they were too big for me i wear a size large lularoe irma and these were just too big they are size 1x-2x',\n",
       " 'used a few times in great condition but need to be cleaned size 12 in womens box not included converse',\n",
       " 'neckless and ear rings brand new never used',\n",
       " 'lilly pulitzer mug and gift box new kate spade mug waterford crystal wine stopper longchamp small handbag',\n",
       " 'new unused rae dunn latte mug please review photos as you will receive exact mug pictured packaged with care',\n",
       " 'relaxed size large namaste in bed tee perfect for lounging around or even put it with a cute sweater and scarf for the fall',\n",
       " 'super cute in used but good condition you can zip it up or button decently thick material good for the spring or fall and you can dress it up or down says size 1x but would fit a large i usually wear a 12-14 and this is over sized on me as pictured',\n",
       " 'these slipper boots have a button missing as seen in photo 2 also there was a small hole that i fixed as seen in photo 3 has bondex on the inside so the stitching doesnt come undone not even noticeable the bottoms are a little dirty as seen in photo 4 says size 7-8 but fits like a 6-7 mukluk like slippers',\n",
       " 'black iphone 4 for verizon comes with charger',\n",
       " 'disney woody outfit 6-9 months new with tags 10 packs note tabs i do bundles let me know so you can save on shipping',\n",
       " 'black turtleneck with subtle sparkly silver thread size medium and easily stretches',\n",
       " 'tried once and didnt like the fit and forgot to return my loss your gain also works as bluetooth phone calls as well as music wireless',\n",
       " 'great condition frames chicken painting id say maybe 9\" x 9\"',\n",
       " 'new with tags from genuine kids by oshkosh… size 3 toddler camel colored short sleeve top with lacy overlay lined from a smoke smoke and pet free home this was received as a christmas gift and my daughter got the same shirt twice super cute and versatile',\n",
       " 'dont wear it anymore minor flaw is stain not really noticeable and can possibly come out in the wash no peeling on thrasher logo color is navy can fit a small shirt is unisex make offers',\n",
       " 'harry potter set damage box',\n",
       " 'white stripper shoes with diamond heels see photos for condition some marks and need to be cleaned but otherwise good condition',\n",
       " 'one deee mug',\n",
       " 'includes chase and normal demogorgon and both eleven with eggos',\n",
       " 'bundle baby clothes 200 dollars worth of clothes brand new with tag for 80 plus socks and baby spoons and plates everything has never been opened brand new with tags',\n",
       " 'straight leg nwot',\n",
       " 'new never used 4 piece set',\n",
       " 'slightly worn',\n",
       " 'gently used leather jacket its similar to the one hayley williams has idk if its the same exact brand i originally bought this for myself but its too small :/',\n",
       " 'i used it for my room door i hung it there for a while but im changing the theme of my room so getting rid of it it has light scratches',\n",
       " 'sample size too faced lip injection',\n",
       " 'new free shipping authentic',\n",
       " 'brand new never worn still in package navy blue off shoulder blouse with cut out lightweight material 3/4 length sleeve size medium tags: hollister daytrip buckle express hm urban outfitters american eagle smoke free home ships same day or next day offers through chat :',\n",
       " 'this is a bundle of two sets of cat stickers very cute decor',\n",
       " 'boys jordan dri-fit shirt with matching jordan shorts with pockets; shirt size 7 shorts size 6/7; great condition',\n",
       " 'fable 2  3 for xbox360 bundle to save more checkout my closet',\n",
       " 'perfect for spring break the best summer gift sea foam green never used',\n",
       " 'brand new with tags ties around neck with low cut back size 14 will fit a medium to xl very stretchy',\n",
       " 'justice brand new size 16',\n",
       " 'girls medium but fits womens small hot pink the north face zip up vest goose down insulation nwot',\n",
       " 'adidas climalite all black sweatpants they are in good condition but have some snags in them the snags are mainly on the butt area and there are some on the front but no major ones that have caused a hole since the pants are all black the snags are barely noticeable message me for more details and offers',\n",
       " 'the nightmare before christmas sally with cat 32 oz teapot is made from ceramic and measures 7 1/2-inches tall the beautiful teapot finds sally from tim burton’s the nightmare before christmas with a small black cat standing atop her head',\n",
       " 'brand new unopened in box never used or swatched authentic check out my ratings i sell tons of too faced all authentic last pic shows serial numbers',\n",
       " 'new shideido white/blue stripes large tote nice to carry to beach gwp from shiseido',\n",
       " 'complete and in excellent overall condition',\n",
       " 'brand new 262 pcs minecraft lego set the box is sealed price is firm no free shipping',\n",
       " 'brand new in unopened box',\n",
       " 'size small nwt detroit tigers fitted tee brand new never worn tags attached is dark gray with orange glitter writing and detroit logo on front is fitted fits true to size',\n",
       " 'only used like twice dont need it anymore',\n",
       " '10 pjs 21 onsies 12 pants 8 outfits 7 tops 1 bathrobe 3 sweaters',\n",
       " 'this shirt is very light and cute with a tank underneath it good condition no flaws bundle and save',\n",
       " 'gorgeous light blue shirt boys xl or womens xs-s only flaw is a slight discoloration on the front of the shirt but it is hardly noticeable',\n",
       " 'great condition apple bottom tag on tshirt was cut off doesnt affect the shirt shirt is not ripped size 18 month',\n",
       " 'selling both together since they both have some issues nothing major both bags can be used',\n",
       " 'shade is medium 015',\n",
       " 'nwot size large lily pulitzer dress never worn',\n",
       " 'brand new never used',\n",
       " 'never played comes straight from pack and into sleeve i only ship via usps first class pokemon charizard rayquaza shaymin mew mewtwo pikachu flash fire break through xy furious fist roaring skies generations break point ancient origins phantom forces full art mega m ex secret rare sr fa reverse holo',\n",
       " 'black and white like new ive only worn this once or twice',\n",
       " 'anastasia beverly hills eyebrow brush number 12 is dual-sided brow brush featuring high-quality synthetic bristles on one end and a spooley brush for grooming and blending on the other\\xa0 what it does: this brush is the essential tool for precision application of brow products the angled cut brush on one end is perfect to fill-in arches with brow powder or for applying liner the spooley end distributes and blends products evenly for a natural look\\xa0 this product is an\\xa0allure\\xa0best of beauty award winner 100% new and authentic',\n",
       " 'electric hair straightener brush best for beauty styling w/ velvet pouch  glove 3in1 40w professional digital straightening comb enjoy anti static anti frizz styling for a natural shiny hair look the brush features a fast heating ceramic plate at 450 degrees auto shut-off for your safety lcd digital display and a non-grip comfort handle 110v-220v design makes it perfect for a road trip vacation destination wedding honeymoon or a romantic getaway 360° swivel power cord makes it ideal for professional salon use travel  at home hair care with negative ionic charge for your healthy vibrant hair and silicone heat-proof tips at 120℉ the brush is ideal for scalp massage the custom adjustable temp settings for fine natural thick long or short hair make the femjolie brush straightener a must in every girls beauty care versatile 3 in 1 design - now you can have a detangling comb hair brush hair straightener and anion hair massager all in one bundle and save ❤❤',\n",
       " 'size xl pink/ navy blue in good condition',\n",
       " 'good condition with very little wear boys 6 youth shoes',\n",
       " 'worn once very pretty and good material message me if you have any questions :',\n",
       " 'belt size 32-36 both are new with boxes',\n",
       " 'women shoes colorful 12 wide',\n",
       " 'bnwt never worn beautiful dress beautiful print just doesnt fit',\n",
       " 'in just one night black and oily toxins throughout your body will be disposed of through your volal which is a port in your body and which toxins go in and out on the bottom of your foot leaves you feeling refreshed detoxed and full of energy the next day can aid in weight loss comes with one pair used overnight free shipping can be done once a week for best results',\n",
       " '100% real authentic brand new too faced cosmetics better than sex waterproof mascara 1944% more volume',\n",
       " 'price is firm the only sign of wear is on the front emblem - it is a bit scratched',\n",
       " 'bundle',\n",
       " 'new- size 4 super soft',\n",
       " 'only used 5 times pretty much new',\n",
       " 'victoria secret bra great conditions',\n",
       " 'mens lucky jeans size 38x32 slim bootleg fading on back lower ankle area as seen in pics in great condition',\n",
       " 'the black onesies are the only ones with a flaw the inside tags arw worn off and they are size 0-3 months and the blue and pink ones are 3-6 months with no flaws',\n",
       " '24pcs professional makeup brush set+black pouch bag cosmetic brushes this item includes almost all brushes for facial makeup: 24 soft and durable goat hair brushes altogether it`s a good choice for makeup artists and all trendsetters features: total 24 brushes for facial makeup: foundation brush concealer brush eyeshadow brush eyebrow brush blush brush lip brush mascara brush adopts natural pure goat hair which provides superb ability to hold powerder soft and pleasing for your skin gorgeous purple soft leather bag easy to collect and carry brushes an essential for not only professionals but also diy users specifications: material: goat hair aluminum wood and pu bag size: 23 * 13 * 4cm folded product weight: 414g item includes: 1 * makeup brush set',\n",
       " 'rae dunn mug: dream/be kind/dance great gift or for your rae dunn collection new item will ship with care bubble wrap each item i always do my best to get the item to you safely i ship as if i am receiving a rae dunn item unfortunately cannot control usps for mishandling i will bundle items to save shipping cost',\n",
       " 'size 8',\n",
       " 'bundle to save',\n",
       " 'ombré crewneck sweatshirt s barely worn at all very soft target brand',\n",
       " 'no description yet',\n",
       " 'size 6',\n",
       " 'metal gear solid v: the phantom pain - xbox one',\n",
       " 'worn a few times great condition unicorn print',\n",
       " 'this is an exact reproduction of the original winnie-the-pooh published in 1926 winnie-the-pooh is perhaps unique in that it is based on real people and historical events christopher robin was a real person as a child he had a teddy bear he named “winnie-the-pooh” the bear was named after a real bear in the london zoo named winnie',\n",
       " 'authentic coach signature monogrammed tye dye hobo purse large size',\n",
       " 'size 10z mens open back slip on black fleece with flame and logo brand new in box',\n",
       " 'real 925 sterling silver 925 stamped real crystal stones will not change color will not turn finger green size 9 please comment the size you want after place order price firm',\n",
       " 'snake print/gold tory burch miller thong sandals are a size 7 1/2m and were made in brazil these sandals have been very well kept',\n",
       " 'laura mercier loose setting translucent powder 100% authentic new sealed',\n",
       " 'these are brand new purchased from the nike outlet small blemish on the swoosh in the inside portion of the right shoe looks like a small glue mark see second picture the box top was ripped off to be put on display at the store i can send it with the remaining part of the box or without it',\n",
       " 'pink the north face girls hoody  size 14-16 brand new never worn purchased not realizing was a large in girls  listed as like new and not new only because the tags were removed from',\n",
       " 'never opened solar system magnet set',\n",
       " 'cant do free shipping',\n",
       " 'never worn no flaws very flattering',\n",
       " 'new reduced price size 1 in juniors wash is a dark to medium wash with vintage whiskering and fading in the thighs slight distressing on the legs barely worn excellent condition low rise tags- brandy melville free people levis',\n",
       " 'pre loved size:9 months brand:carters total of 5pictured sleeveless onesies colors:mint yellow orange whitepink has some staining on orange and yellow onesies ask if you would like more detailed photos otherwiseno tears and all snaps work and not stretched out disney outfit is 18 months : smoke free/pet free sanitary home ask any questions or if you would like more photos potential buyers:please read my about me/profile page for additional important info before purchasing any items',\n",
       " 'this pink crochet long sleeve dress is a size medium from lilly pulitzer it features a scoop neckline slightly flared sleeves at the wrists and pom pom trim this dress is in good preowned condition with normal wear from being washed and worn there is a small snagged area on the bottom of the back near the seam as shown in the bottom of the last photo and reflected in the price approximate measurements lying flat: length-32\"; bust-17\"; waist-145\"; sleeve length-29\"',\n",
       " 'brand new authentic same day shipping please rate once you receive your item thank you',\n",
       " 'small cleveland indians zippered clutch used only a handful of times in extremely clean condition perfect for game days go tribe ⚾️',\n",
       " 'no description yet',\n",
       " 'good used conditionthese have been worn but still have plenty of life left ☺️ all 6 are matching sets one pair has shorts and pants thanks for looking',\n",
       " 'no description yet',\n",
       " 'young adults book  very good read  personal favorite book is in great condition shipping today ',\n",
       " 'no description yet',\n",
       " 'masters of the universe dorbz chase',\n",
       " 'all new fresh product snacks and candy bundle large bag of skittles  4 bags of watermelon sours  4 motts fruit roll ups  3 quaker chewy dips  1 bag of picante corn nuts  5 jif to go natural peanut butter',\n",
       " '20 smiley face 20 heart stickers you will receive 8 strips with 5 on each quarters are used to show size',\n",
       " 'this is a bv inspired large woven soft leather handbag by sondra roberts it is a large bag in very nice condition the close is top zip and the inside has 1 large compartment and about 8 pockets measurements; h; 10\" w 16\" d 5\" the straps fit comfortably over the shoulder with a 11 inch slouchy drop price is firm',\n",
       " 'navy blue in color with elastic waist band and leg holes',\n",
       " 'victorias secret pink quarter zip jacket in awesome like new condition size small',\n",
       " 'selling overstock sealed individually price firm true color #3066 true color #2856 ideal flawless liquid foundation light caramel  caramel lip treatment fired up  pop tart ideal flawless pressed powder mocha ideal flawless invisible porcelain loose powder translucent  toffee',\n",
       " 'bnwt lularoe julia size small floral print on navy blue background free shipping',\n",
       " 'silver tone silver tone glass cabochon with the most memorable quote from the film mesh bag and chain included free shipping',\n",
       " 'cutest reversible dress with fun vintage inspired prints love the heart shaped pockets too no size marked but runs like a 2/3t snap closure daughter was 25 in the picture euc small knick on one of the buttons',\n",
       " 'boston red sox manny ramirez baseball jersey in brand new condition mens size xl and fits true to size',\n",
       " 'iron man 3 figure great shape has been neatly displayed since purchase joints all very tight',\n",
       " 'like new army green and white xs',\n",
       " 'new without tags never worn authentic burberry shirt size xl dark camel color 100% cotton original price is 295$',\n",
       " 'super cute and funny valentines day toilet paper',\n",
       " 'brand new with tags black background with tan/orange polka dots very cute',\n",
       " 'naughty gloss ornament sold out in hand and ready to ship never used and 100% authentic',\n",
       " 'new',\n",
       " 'reposted for buyer on hold',\n",
       " '67oz bottle full to the pen mark recommended shelf life is up in 1 month but it can be use after that and is still good just not the coverage i need all of my items are authentic i do bundle discounts',\n",
       " 'beautiful gold lv style leather wallet case i only used once so its in like new condition brown lv style iphone 6 wallet case i used it twice if you see pic #3 the corner of the inside of case ripped off but still in good condition',\n",
       " 'i got this as a gift and it doesnt quite fit me this is a form fitting new design from llr it is true to size m it is bnwt obviously never been worn or washed',\n",
       " 'purple lululemon crops in really good condition only worn once stretchy material and comfortable',\n",
       " 'lot of lularoe leggings and a small perfect t all os none worn just tried on',\n",
       " 'never worn nwot cool and comfy zip up hoodie inside is fleece lined and sooo soft size is mens xl',\n",
       " 'jesus sandals size 7 in womens like new only worn few times',\n",
       " 'these heels were only worn once otherwise left in my closet they say a size 11 but they fit just like a 10 very cute and simple shoes that go with a lot',\n",
       " 'perfect condition instyler hair styler only used once for a special event just never used it again after that *bundle to save on shipping *open to offers',\n",
       " '1pc oversize turtle neck plaid poncho cape 1pc black textured legging size l/xl',\n",
       " 'newnever worn 2 eye mask',\n",
       " 'victoria secret pink shirt bling size small front is open on the neck line',\n",
       " 'nwot under armour womens storm armour fleece freedom hoodie size medium removed the tag no stains or flaws  note: the white appearance in the third photo left corner is not a stain its the sunlight  100% authentic features a soft heat-trapping inner layer and a loose fuller cut for complete comfort a front kangaroo pocket conveniently stores essential items 100% polyester construction armour® fleece is light breathable  stretches for superior mobility soft inner layer traps heat to keep you warm  comfortable front kangaroo pocket loose fuller cut for complete comfort',\n",
       " 'brand new comfortable and flattering full on luon fabric soft high stretch with added support and coverage high rise and hidden side entry pocket to fit key or card',\n",
       " 'up for sell is a pre-owned tekken advance cartridge for nintendo gameboy advance in good playing condition with normal wear and tear of a used item',\n",
       " 'authentic michael kors bag michael kors bedford crossbody gently used',\n",
       " 'lularoe tc nwot floral leggings very pretty',\n",
       " 'urination device travel outdoor camping *stand up pee *female urine toilet *reusable long lasting *instructions and carrying bag included *one urinal device',\n",
       " 'new womans 925 silver bead bracelet beautiful lightweight and comfortable to wear * length 20cm * weight 10 grams ⭐free shipping⭐',\n",
       " 'no description yet',\n",
       " 'all brand new choose a scent when you purchase -hello beautiful - wild madagascar vanilla -paris amour -twilight woods i do bundles comment with questions/concerns',\n",
       " 'womens size 7 nikes beautiful purple and mint colored does have one flaw two small holes in front of one shoe not noticeable at all',\n",
       " 'soft sole shoes vguc minor discoloring on bottom as shown in last picture worn twice fits like a size 3 baby shoe',\n",
       " 'used victorias secret very sexy touch fragrance mist 84 fl oz 250 ml fragrance is unavailable a little bit is used as shown on picture but still has 95% left',\n",
       " 'available in size medium tag says large but runs way small model is wearing size small reference i am size 32c  0-1 nwot no brand tags: san lorenzo acacia mikoh boutine la midori triangl pink victorias secret',\n",
       " 'no description yet',\n",
       " 'wizard pf oz edition used very little',\n",
       " 'perfect blue jean shorts go right to your belly button cover all of your cheeks perfect condition size 24',\n",
       " 'model : vs247 i got this gift from my friend just opened and used 1 times it is not even a scratch on it',\n",
       " 'condition: very good no tags only worn a few times the stitching is all in perfect condition size: tag says 14/16 but it fits like an adult medium brand: majestic everything is stitched except the logo on the left sleeve i can upload more pictures upon request comment any questions',\n",
       " 'lularoe small joy new with tag grey sweater material brand new',\n",
       " '**** brand new - sealed box **** spot it party game - mlb edition for ages 7 to adult for 2 - 8 players veterans and rookies alike will have a blast playing with mlb logos mascots and other familiar elements of major league baseball',\n",
       " 'no description yet',\n",
       " '*no free shipping but happy to bundle to save on shipping* nike black with blue/white edges elastic waist shorts 100% polyester no stains/tears puma bright blue elastic waist shorts hip pockets size 2t 100% polyester some snags no stains/tears non smoking home',\n",
       " 'new happy easter plates by rae dunn set includes 4 plates 6\" each with different bunny ears and sayings on them they say: happy spring easter fun bunny love happy easter very cute set for rae dunn lovers',\n",
       " 'geneva gold watch - slight scratches still has slot of life in it',\n",
       " 'dork diaries hardcover great condition books 3 4 10 book 4 was stamped and was personalized at one point but erased now shown in picture any questions please feel free to ask thank you',\n",
       " 'size 9 only wore twice a little dirty at the bottom but can clean them',\n",
       " 'new',\n",
       " 'set of nose and face strip ship in envelope',\n",
       " 'need to be cleaned but lots of life left in them',\n",
       " 'nwt lularoe julia size l feather print smoke free home free shipping',\n",
       " 'homemade all natural chakra spray that has been infused with crystal tincture \"environmental mood swing\" chakra body and room spray by loveit♥ i made this spray with the intent to cleanse your surrounding environment and your aura infused with quartz that was energized by the full moon environmental mood swings is a woodsy peppery mysterious grounding scent palo santo: aka holy wood: spiritual grounding oil creates a balance of emotions cleanses the spirit of negative energies sage: uplifts the mood and aids with mental fatigue cleansing and purifying rosewood: associated with the root  crown chakras helps to drive away sadness and/or disappointments arouses and amplifies romantic feelings ♥ * note: if you are pregnant or ultra sensitive to products please check with your physician before using this product is not meant to cure or treat anyone i recommend shaking the spray before each use to distribute the scent more evenly 2oz amber glass bottle',\n",
       " 'worn one time and found that they were just a bit too narrow for my feet only very slight wear on the bottom soles otherwise totally love these shoes go well will so many different outfit options size 9 tags: zara old navy gap banana republic nike steve madden saltwater sun san birkenstock',\n",
       " 'womens size 10 gently used',\n",
       " 'dimmer switch to control light output and let you control the light rechargeable battery and charging cord long lasting battery that works independently of your phone tough impact resistant plastic your phone is snug and safe with the lumee case light at the tip of your fingers perfect lighting is just a click away with an easy on/off switch',\n",
       " 'no description yet',\n",
       " '10 new in package 10 inch charcoal bamboo cloth pads these have very absorbent and stay dry charcoal bamboo with waterproof pul backing',\n",
       " 'super cute and very gently worn in a size 6m fast shipping',\n",
       " 'size 2 excellent condition grey color',\n",
       " 'lululemon black wunder under crops in used condition they have pilling size 4',\n",
       " 'new without tags vineyard vines skirt white pink and orange stripped whales',\n",
       " 'brand new disney leggings',\n",
       " 'worn couple times no stains or imperfections smoke free home',\n",
       " 'perfect condition northface fuzzy and warm columbia patagonia north face nike winter coat nordstrom pink victoria secret',\n",
       " 'no description yet',\n",
       " 'no description yet',\n",
       " 'this is used but still good to use as u can see in picture that it does have some black marks and dont know where it came from more notice on backsee pictureoverall a good bagmake sure u see pictures to see what u will getthanks',\n",
       " 'zipper on the back gray color',\n",
       " 'hollister sweatpants size m 6/10 condition normal wear please make sure you know your size size m but i dont think theyre 8-10',\n",
       " 'no description yet',\n",
       " 'gray  3/4 sleeved top',\n",
       " 'new scented check out my store and bundle for a discount large variety of video games books jewelry and unique novelty items something fun for everyone',\n",
       " 'girls pink polka dot jelly sandals size 9 worn once and got a small stuff on the bow of the right sandal see pic otherwise in great condition purchased at toys r us last summer',\n",
       " '2 pair of scrub pants size sm black pair are sanibel scrubs red pair are urban scrubs  work it style',\n",
       " 'light wash skinny jeans worn only 1x great condition just too long on me and im 52\" : says size 00',\n",
       " 'i am selling a like new lumee phone case it is 100% authentic only used 1 time works perfectly and the lighting is amazing will come with everything in picture i offer bundle discounts if you are interested in multiple items',\n",
       " '8 green 9 pink',\n",
       " 'pick a color white is our standard color if choice is not made * size @ 5\" ** this decal has no background* vinyl decal sticker adheres to most hard surfaces and to outside your car window different colors available if you need more than 1 decal please message me life expectancy is about 4-5 years we use top quality vinyl on our decals order more  well ship together',\n",
       " '4 cute lps',\n",
       " 'gift card for sephora has 25 dollars on it have no use for it got it as a christmas gift and i dont like that store tbh when purchased i can either ship you the card or just give you the information if you want to use it online buyers choice',\n",
       " 'new cloth diapering pants maxaloones',\n",
       " 'like new lululemon herringbone think fast pullover sz 12 tag is removed but def a size 12 quarter zip at the top with one zipped pocket on the side pullover sleeve caps and finger holes awesome top - super warm but made with a very light material herringbone print is hard to find price is firm check out my other lulu and ask for a bundle ask any questions before purchase',\n",
       " 'stomach slimming weight loss patch 5 pcs',\n",
       " 'extra large joggers from under armour too big for me and i got them as a gift the tag has been cut off',\n",
       " '~~~store closing soon final price ~~~ ❤if its listed its available❤ tarte tartelette amazonía clay matte palette all my makeup is 100% authentic guaranteed serial code #: check last image please ❌ you will get block if you ask whats the lowest or if you set your own price to my merchandise or ask for free shipping i have the lowest price for authentic makeup and price is very firm❌ ❌ im not responsible for broken item i protect very well everything and add fragile sticker and tape to remind usps to handle with care ❌',\n",
       " '1 kerastase fondant fluidealiste 200ml provides shine  anti frizz new never used',\n",
       " 'this glucose meter is so small that you can put it in your pocket and test your blood sugar discreetly no code needed to use',\n",
       " 'toy story bugs life ninja turtles strawberry shortcake care bears pokemon',\n",
       " '3/4th sleeve has normal wear',\n",
       " 'warm for playing in snowgood conditiongreat value here compared to the retail pricethis has no flaws enjoy',\n",
       " 'call of the wild complete series',\n",
       " 'affliction top red and black with \"dirty\" effect shirt is like new slits down back size medium i mark my items low for quick movement not because they are not quality •|•|• check out my other listings save on shipping :',\n",
       " 'harley davidson dog tags necklace and keychain authentic harley davidson',\n",
       " 'xbox 360 elite with 120 gb includes power adapter headset hdmi connector cable works no issues two controllers two extra battery packs game sold not included wireless adapter sold not included',\n",
       " 'mens burgundy vans tank top good condition no visible flaws size medium',\n",
       " 'boho design halter top dress cute brown belt',\n",
       " '100% silk size large no stains holes or missing buttons dark blue',\n",
       " 'product never used body lotion 65 fl oz sugar scrub 13oz hand soap 8 fl oz',\n",
       " '-retractable pencil -waterproof -built-in shaper: helps you line the way you like -treated pigments: help color last -antioxidants: help fight free radicals color: black',\n",
       " 'large jockey scrub pants',\n",
       " 'color : black description : 64 gb galaxy note 5 with a lose lcd not cracked it still sometimes flashes and turns on but will flash and turn off all of the buttons all work lcd can be fixed or replaced no cracks in screen and the phone is basically perfect besides the phone screen flashing it is unlocked and clean brother got anew phone instead of fixing this one lol comes with an otter box case and a wood case and the box it came it and charger ~~~~~~~~~~~~~~~~~~~~~~~~~~~~~~~~~~~~~~~~~~ no free ship but i am willing to negotiate any of my prices ~~~~~~~~~~~~~~~~~~~~~~~~~~~~~~~~~~~~~~~~~~ ✴️i do bundles you can save money on shipping and sometimes items by bundling just let me know which items and ill give you a price ✴️i do holds but i will hold an item for up to a couple of days ✴️give me an offer on any item and i will do my best to negotiate the price',\n",
       " 'very cute ralph lauren scarf never worn  still has tags its perfect for the fall weather coming up warm material and good colors :',\n",
       " 'never used brand new as seen in photos helps with scars and stretch marks',\n",
       " 'used once to test',\n",
       " 'size small bnwot never worn',\n",
       " '10k gold 18\" chain broken at clasp',\n",
       " 'brand new brand- top moda sizes- 9',\n",
       " 'im selling this white mini projector selling because i bought a bigger one it works perfectly it can project up to 60\" the items seen in the pictures will be included also the dimensions are 5\" x 475 \" x 23\"',\n",
       " '20 unites on each box perfume make up wherever you want you can safe',\n",
       " 'black zip up jacket by adidas has pockets and a hood hoodie strings intact no flaws - i just have like three black zip ups like new condition size medium',\n",
       " 'maurices size 9 dark brown',\n",
       " 'size large good condition',\n",
       " 'brand new never used i accidentally bought the wrong color retail price: 32$ feel free to ask questions :',\n",
       " 'comes with little mermaid and thomas the train',\n",
       " 'formulated to shade define and showcase the lips hundreds of hues high-fashion textures the iconic product that made m·a·c famous this product is brand new and in its original packaging all mac lipsticks prices are firm and top quality is guaranteed serious buyers only please :',\n",
       " 'great backpack with a laptop compartment used for years leather is tearing off still fully functioning',\n",
       " 'no damages i accept offers i really need to get rid of this',\n",
       " 'no description yet',\n",
       " 'brand new without tag never worn gold authentic rare',\n",
       " 'never worn og all size 3c yes it has box and hat',\n",
       " 'great condition 3-in-1 jacket from the childrens place and scarf blue',\n",
       " 'this is a reserved listing do not buy',\n",
       " 'in really really good condition very durable',\n",
       " 'guc royal blue pants by white house black market slim ankle size 2 short; silver accents',\n",
       " 'no description yet',\n",
       " 'minor play scratches played with condition thanks :',\n",
       " 'this large versatile black leather jacket is preloved but in excellent condition no tears on the inside or the pockets great to wear with a dress and converse or with a cool pair of jeans',\n",
       " 'custom made 1st birthday day',\n",
       " 'rocketeer 58 disney funko pop mint condition comes in a pop protector and with free shipping only 480 made',\n",
       " 'good condition',\n",
       " 'never worn  in great condition very long train',\n",
       " 'buttery soft black white gray aztec leggings \\u2028 size: plus size similar to tall  curvy numeric size: 10-20 brand: not lularoe fabric blend: 92% polyester 8% spandex same blend as lularoe \\u2028 brand new - hard to find limited edition print super soft  comfy leggings ~ just like other brands \\u2028 these are not lularoe leggings but fit  feel just like them\\u2028 \\u2028 free shipping *ships within 24 hours* *smoke free home*\\u2028 ~all prints are limited edition~ ~if you love it buy it~ **buy 4 get a mystery pair free**',\n",
       " '-no flaws -size 4 fits a small -black circle midi skirt with sheer panel -zipper and clasp closure',\n",
       " 'this is a brand new bed head control freak never been open',\n",
       " 'new 3 iphone 6-6s tempered glass screen protectors and 1 iphone cord free shipping',\n",
       " 'large lace tank top with tan undershirt attached',\n",
       " 'this is such a neat and unique shirtits a baby hot pink with skulls and side pink stitchinggot sum bling on it as wellsinful runs small so this could fit size small to large depending on how u like ur shirts to fitgrab it while u can i do bundle discounts as well',\n",
       " 'bnwot vans sneakers dont fit',\n",
       " 'worn once body by victoria lined demi not negotiable',\n",
       " 'has been opened and swatched on my hand not my color',\n",
       " 'brand new boscia makeup-breakup cool cleansing oil 5oz and exfoliating peel gel 17oz neither one of these products have been used',\n",
       " 'like new rare spearmint coach poppy tote 3 poppy tags no wear no stains silver hardware',\n",
       " 'long flair mink lashes  about a size of a quarter  @lash addict/kim no lid / comes with tray only 3 pack mink + full volume xtreme ryk lashes ❤️price is firm ❤️offers will be ignored ❤️free shipping with tracking flutter wispies •100% real mink fur strip lashes •handcrafted high quality lashes •will last up to 25 applications handle with care •all pictures are mine @lash addict/kim • 3 pairs mink eyelashes lashes + 1 pair ryk no glue ~ all orders placed after 3pm est time will be shipped out the next day all orders are processed within 1 business day exception on sundays ~ check my other listings for silk lashes eyelashes and more mink 3d lashes',\n",
       " 'new never used',\n",
       " 'these are brand new i got another color way and love those more so im going to sell these to you',\n",
       " 'pet and smoke free black and brown trim',\n",
       " 'pink tank top size medium',\n",
       " 'cute gold necklace crescent moon shape never worn not totally my style not even taken off original packaging',\n",
       " 'lightweight hooded shirt excellent shape like new condition',\n",
       " 'victorias secret pink bling campus tee shirt size large pink/gold super cute  : new with tags price is firm ',\n",
       " 'new and sealed cleanser deep clean pores and eliminates make up build up great for sensitive skin',\n",
       " 'new with tag one size leggings from lularoe you will receive the legging on the picture',\n",
       " 'hype pink retro handset for mobile phone brand new in packaging never used',\n",
       " 'benefit highlighters travel size high beam sun beam watts up new in box never used',\n",
       " 'first photo is stock the rest are mine this blanket is plush soft  oh so cozy excellent quality  durable stitching nwot',\n",
       " '6 8oz shea moisture soap lot as pictured new price is for all 6',\n",
       " 'size large 12/14 circo brand',\n",
       " 'red and pink flowers on this white beige blouse it has a half split white sheer on the back',\n",
       " '17 piece baby girls summer lot this bundle contains 7 onesies 2 tops 2 shorts 3 rompers and 1 pajama set all items are 9 months in size and in great used condition most items are carters brand blue jean romper has little white stars perfect for the 4th of july chevron romper has a sheer overlay/nice for a dressy outing pet friendly home smoke free home no free shipping',\n",
       " 'no rips no stains in great condition bundle and save',\n",
       " 'condition: used once',\n",
       " 'dark brown lace up boots with chunky heel size 7 never worn best offer',\n",
       " 'mens size 13 in good shape',\n",
       " 'victorias secret beach blanket towel 60\" round last one new vs beach blanket / towel',\n",
       " 'minor run in fabric',\n",
       " 'a set of 2 scrub plus size scrub tops both black size 3xl 2 pockets in front one top does not have any noticeable flaws the other had to be sewn on the side as pictured in photo 2 small bleach stain in photo 3 sorry for the wrinkles price as marked',\n",
       " 'excellent condition works great clean smoke free home like new in box everything that came with it is included',\n",
       " 'brand new in box golf shoes athletic shoes new balance',\n",
       " 'zaful one piece palm leaf swimsuit its a size small but can also fit a size xs only worn once to try on so its basically brand new i love the cute palm tree print and that the suit is double lined but unfortunately it just didnt fit right',\n",
       " 'drawstring backpack great for traveling',\n",
       " 'tested guaranteed real gold all of my items are tested 100% refund\\xa0 with shippng cost if misrepresented hallmarked: 14k 585 weight: 24 thin small necklace yellow gold 24\" for more of my necklaces\\xa0 filter search: j3 neck',\n",
       " 'authentic used max 2 times still full of product color was to dark for me more suited for medium tan-to tan skin tones will clean/sanitize need gone asap',\n",
       " ...]"
      ]
     },
     "execution_count": 137,
     "metadata": {},
     "output_type": "execute_result"
    }
   ],
   "source": [
    "def clean_item(item):\n",
    "    cleaned_item = []\n",
    "    for line in item:\n",
    "        if not '[' in line and  not ']' in line:\n",
    "            for symbol in \",\"''\"&.?!)''(\\n\":\n",
    "                line = line.replace(symbol, '').lower()\n",
    "            cleaned_item.append(line)\n",
    "\n",
    "    return cleaned_item\n",
    "\n",
    "item_without_brackets = clean_item(mercari_df[\"item_description\"])\n",
    "item_without_brackets"
   ]
  },
  {
   "cell_type": "code",
   "execution_count": 138,
   "metadata": {
    "scrolled": true
   },
   "outputs": [
    {
     "name": "stderr",
     "output_type": "stream",
     "text": [
      "IOPub data rate exceeded.\n",
      "The notebook server will temporarily stop sending output\n",
      "to the client in order to avoid crashing it.\n",
      "To change this limit, set the config variable\n",
      "`--NotebookApp.iopub_data_rate_limit`.\n",
      "\n",
      "Current values:\n",
      "NotebookApp.iopub_data_rate_limit=1000000.0 (bytes/sec)\n",
      "NotebookApp.rate_limit_window=3.0 (secs)\n",
      "\n"
     ]
    }
   ],
   "source": [
    "def tokenize(item):\n",
    "    joined_item = ' '.join(item)\n",
    "    tokenized_item = word_tokenize(joined_item)\n",
    "    \n",
    "    return tokenized_item\n",
    "\n",
    "tokenized_test_item = tokenize(item_without_brackets)\n",
    "print(tokenized_test_item)"
   ]
  },
  {
   "cell_type": "code",
   "execution_count": 108,
   "metadata": {},
   "outputs": [
    {
     "name": "stdout",
     "output_type": "stream",
     "text": [
      "<FreqDist with 142 samples and 189 outcomes>\n"
     ]
    }
   ],
   "source": [
    "fdist = FreqDist(tokenized_test_item)\n",
    "print(fdist)"
   ]
  },
  {
   "cell_type": "code",
   "execution_count": 109,
   "metadata": {
    "scrolled": true
   },
   "outputs": [
    {
     "data": {
      "image/png": "[encoded data removed]",
      "text/plain": [
       "<Figure size 720x720 with 1 Axes>"
      ]
     },
     "metadata": {
      "needs_background": "light"
     },
     "output_type": "display_data"
    },
    {
     "data": {
      "text/plain": [
       "<matplotlib.axes._subplots.AxesSubplot at 0x24900b7a4a8>"
      ]
     },
     "execution_count": 109,
     "metadata": {},
     "output_type": "execute_result"
    }
   ],
   "source": [
    "plt.figure(figsize=(10,10))\n",
    "fdist.plot(30)"
   ]
  },
  {
   "cell_type": "code",
   "execution_count": 110,
   "metadata": {},
   "outputs": [
    {
     "name": "stdout",
     "output_type": "stream",
     "text": [
      "{'now', 'are', 'our', 'aren', 're', 'hasn', 'ours', 'shan', 'll', 'which', \"weren't\", 'were', 'all', 'from', 'yourself', 'theirs', \"that'll\", 'wouldn', 'further', 'out', 'he', 'few', 'mustn', 'because', 'hadn', 'no', \"you've\", 'isn', 'than', 's', 'd', 'how', 'o', 'don', 'it', 'then', 'haven', 'with', 'each', \"wasn't\", 'should', 'shouldn', 'when', 'was', 'we', 'she', \"it's\", 'did', 'while', 'a', 'above', 'there', 'why', \"doesn't\", \"hasn't\", 'his', 'other', \"won't\", 'these', 'only', 'your', 'up', 'been', 'or', 'm', 'again', 'here', 'i', 'where', 'can', 'an', 'be', 'during', 'below', 'do', 'to', 'some', 'its', 'before', 'so', 'himself', 'very', 'my', \"you'll\", 'weren', 'those', 'their', 't', 'couldn', 'wasn', 'her', 'into', 'ourselves', 'hers', 'that', 'who', \"couldn't\", \"isn't\", 'themselves', 'under', 'through', 'mightn', \"should've\", 'yours', 'doing', 'by', 'between', 'same', \"mightn't\", 'after', \"shouldn't\", \"you'd\", \"haven't\", 'herself', 'y', \"aren't\", \"mustn't\", 'him', 'both', 'having', 'them', 'will', 'down', 'being', 'once', 'but', 'doesn', 'such', 'ain', 'of', 'more', 'you', 'does', 'this', 've', 'on', 'and', \"shan't\", \"needn't\", 'myself', 'they', 'too', 'as', 'until', 'most', 'whom', 'off', \"wouldn't\", 'over', \"hadn't\", 'yourselves', 'for', 'any', 'didn', 'won', 'am', 'what', 'is', 'just', 'against', 'ma', 'itself', 'needn', 'the', 'had', 'has', 'if', 'me', 'not', 'own', \"didn't\", 'nor', 'have', 'in', \"don't\", \"she's\", 'about', \"you're\", 'at'}\n"
     ]
    }
   ],
   "source": [
    "stop_words=set(stopwords.words(\"english\"))\n",
    "print(stop_words)"
   ]
  },
  {
   "cell_type": "code",
   "execution_count": 111,
   "metadata": {},
   "outputs": [
    {
     "name": "stdout",
     "output_type": "stream",
     "text": [
      "Filterd Sentence: ['description', 'yet', 'keyboard', 'great', 'condition', 'works', 'like', 'came', 'box', 'ports', 'tested', 'work', 'perfectly', 'lights', 'customizable', 'via', 'razer', 'synapse', 'app', 'pc', 'adorable', 'top', 'hint', 'lace', 'key', 'hole', 'back', 'pale', 'pink', '1x', 'also', '3x', 'available', 'white', 'complete', 'certificate', 'authenticity', 'banana', 'republic', 'bottoms', 'candies', 'skirt', 'matching', 'blazeramy', 'byers', 'suit', 'loft', 'bottoms', 'cami', 'top', 'size', 'small', 'straps', 'slightly', 'shortened', 'fit', 'xs', 'besides', 'perfect', 'condition', 'girls', 'size', 'small', 'plus', 'green', 'three', 'shorts', 'total', 'realized', 'pants', 'backwards', 'picture', 'dirty', 'hand', 'washed', 'stuffed', 'body', 'painted', 'porcelain', 'head', 'hands', 'feet', 'back', 'clowns', 'scary', '9', \"''\", 'tall', 'chips', 'cracks', 'minor', 'paint', 'loss', 'places', 'clown', 'circus', 'doll', 'collectible', '5', 'new', 'vs', 'pink', 'body', 'mists', '25', 'oz', 'fresh', 'clean', 'sun', 'kiss', 'cool', 'bright', 'total', 'flirt', 'sweet', 'flirty', 'xl', 'great', 'condition']\n"
     ]
    }
   ],
   "source": [
    "filtered_review=[]\n",
    "for w in tokenized_test_item:\n",
    "    if w not in stop_words:\n",
    "        filtered_review.append(w)\n",
    "print(\"Filterd Sentence:\",filtered_review)"
   ]
  },
  {
   "cell_type": "code",
   "execution_count": 112,
   "metadata": {},
   "outputs": [
    {
     "name": "stdout",
     "output_type": "stream",
     "text": [
      "189\n",
      "119\n"
     ]
    }
   ],
   "source": [
    "print(len(tokenized_test_item))\n",
    "print(len(filtered_review))"
   ]
  },
  {
   "cell_type": "code",
   "execution_count": 113,
   "metadata": {
    "scrolled": true
   },
   "outputs": [
    {
     "data": {
      "image/png": "[encoded data removed]",
      "text/plain": [
       "<Figure size 720x720 with 1 Axes>"
      ]
     },
     "metadata": {
      "needs_background": "light"
     },
     "output_type": "display_data"
    },
    {
     "data": {
      "text/plain": [
       "<matplotlib.axes._subplots.AxesSubplot at 0x24900bb73c8>"
      ]
     },
     "execution_count": 113,
     "metadata": {},
     "output_type": "execute_result"
    }
   ],
   "source": [
    "fdist = FreqDist(filtered_review)\n",
    "plt.figure(figsize=(10,10))\n",
    "fdist.plot(10)"
   ]
  },
  {
   "cell_type": "code",
   "execution_count": 114,
   "metadata": {},
   "outputs": [],
   "source": [
    "#Stemming\n",
    "from nltk.stem import PorterStemmer"
   ]
  },
  {
   "cell_type": "code",
   "execution_count": 115,
   "metadata": {},
   "outputs": [
    {
     "name": "stdout",
     "output_type": "stream",
     "text": [
      "['descript', 'yet', 'keyboard', 'great', 'condit', 'work', 'like', 'came', 'box', 'port', 'test', 'work', 'perfectli', 'light', 'customiz', 'via', 'razer', 'synaps', 'app', 'pc', 'ador', 'top', 'hint', 'lace', 'key', 'hole', 'back', 'pale', 'pink', '1x', 'also', '3x', 'avail', 'white', 'complet', 'certif', 'authent', 'banana', 'republ', 'bottom', 'candi', 'skirt', 'match', 'blazerami', 'byer', 'suit', 'loft', 'bottom', 'cami', 'top', 'size', 'small', 'strap', 'slightli', 'shorten', 'fit', 'xs', 'besid', 'perfect', 'condit', 'girl', 'size', 'small', 'plu', 'green', 'three', 'short', 'total', 'realiz', 'pant', 'backward', 'pictur', 'dirti', 'hand', 'wash', 'stuf', 'bodi', 'paint', 'porcelain', 'head', 'hand', 'feet', 'back', 'clown', 'scari', '9', \"''\", 'tall', 'chip', 'crack', 'minor', 'paint', 'loss', 'place', 'clown', 'circu', 'doll', 'collect', '5', 'new', 'vs', 'pink', 'bodi', 'mist', '25', 'oz', 'fresh', 'clean', 'sun', 'kiss', 'cool', 'bright', 'total', 'flirt', 'sweet', 'flirti', 'xl', 'great', 'condit']\n"
     ]
    }
   ],
   "source": [
    "ps = PorterStemmer()\n",
    "\n",
    "stemmed_review=[]\n",
    "for w in filtered_review:\n",
    "    stemmed_review.append(ps.stem(w))\n",
    "\n",
    "print(stemmed_review)"
   ]
  },
  {
   "cell_type": "code",
   "execution_count": 116,
   "metadata": {},
   "outputs": [
    {
     "data": {
      "image/png": "[encoded data removed]",
      "text/plain": [
       "<Figure size 432x288 with 1 Axes>"
      ]
     },
     "metadata": {
      "needs_background": "light"
     },
     "output_type": "display_data"
    },
    {
     "data": {
      "text/plain": [
       "<matplotlib.axes._subplots.AxesSubplot at 0x2490419dc18>"
      ]
     },
     "execution_count": 116,
     "metadata": {},
     "output_type": "execute_result"
    }
   ],
   "source": [
    "fdist = FreqDist(stemmed_review)\n",
    "fdist.plot(30)"
   ]
  },
  {
   "cell_type": "code",
   "execution_count": 117,
   "metadata": {},
   "outputs": [],
   "source": [
    "#Lemmatization\n",
    "from nltk.stem import WordNetLemmatizer \n",
    "  \n",
    "lemmatizer = WordNetLemmatizer() "
   ]
  },
  {
   "cell_type": "code",
   "execution_count": 118,
   "metadata": {},
   "outputs": [
    {
     "name": "stdout",
     "output_type": "stream",
     "text": [
      "['description', 'yet', 'keyboard', 'great', 'condition', 'work', 'like', 'came', 'box', 'port', 'tested', 'work', 'perfectly', 'light', 'customizable', 'via', 'razer', 'synapse', 'app', 'pc', 'adorable', 'top', 'hint', 'lace', 'key', 'hole', 'back', 'pale', 'pink', '1x', 'also', '3x', 'available', 'white', 'complete', 'certificate', 'authenticity', 'banana', 'republic', 'bottom', 'candy', 'skirt', 'matching', 'blazeramy', 'byers', 'suit', 'loft', 'bottom', 'cami', 'top', 'size', 'small', 'strap', 'slightly', 'shortened', 'fit', 'x', 'besides', 'perfect', 'condition', 'girl', 'size', 'small', 'plus', 'green', 'three', 'short', 'total', 'realized', 'pant', 'backwards', 'picture', 'dirty', 'hand', 'washed', 'stuffed', 'body', 'painted', 'porcelain', 'head', 'hand', 'foot', 'back', 'clown', 'scary', '9', \"''\", 'tall', 'chip', 'crack', 'minor', 'paint', 'loss', 'place', 'clown', 'circus', 'doll', 'collectible', '5', 'new', 'v', 'pink', 'body', 'mist', '25', 'oz', 'fresh', 'clean', 'sun', 'kiss', 'cool', 'bright', 'total', 'flirt', 'sweet', 'flirty', 'xl', 'great', 'condition']\n"
     ]
    }
   ],
   "source": [
    "# we can also lemmatize our original reviews\n",
    "lemmatized_review=[]\n",
    "for w in filtered_review:\n",
    "    lemmatized_review.append(lemmatizer.lemmatize(w))\n",
    "\n",
    "print(lemmatized_review)"
   ]
  },
  {
   "cell_type": "code",
   "execution_count": 119,
   "metadata": {},
   "outputs": [
    {
     "data": {
      "image/png": "[encoded data removed]",
      "text/plain": [
       "<Figure size 432x288 with 1 Axes>"
      ]
     },
     "metadata": {
      "needs_background": "light"
     },
     "output_type": "display_data"
    },
    {
     "data": {
      "text/plain": [
       "<matplotlib.axes._subplots.AxesSubplot at 0x249040ea6a0>"
      ]
     },
     "execution_count": 119,
     "metadata": {},
     "output_type": "execute_result"
    }
   ],
   "source": [
    "fdist = FreqDist(lemmatized_review)\n",
    "fdist.plot(30)"
   ]
  },
  {
   "cell_type": "code",
   "execution_count": null,
   "metadata": {},
   "outputs": [],
   "source": []
  },
  {
   "cell_type": "code",
   "execution_count": null,
   "metadata": {},
   "outputs": [],
   "source": []
  },
  {
   "cell_type": "markdown",
   "metadata": {},
   "source": [
    "# Feature Vectorisation (Name: Countvector, Item_Desc : TfidfVector)"
   ]
  },
  {
   "cell_type": "code",
   "execution_count": 123,
   "metadata": {},
   "outputs": [],
   "source": [
    "from sklearn.feature_extraction.text import CountVectorizer\n",
    "cnt_vec = CountVectorizer()\n",
    "x_name = cnt_vec.fit_transform(mercari_df.name)"
   ]
  },
  {
   "cell_type": "code",
   "execution_count": 124,
   "metadata": {},
   "outputs": [],
   "source": [
    "from sklearn.feature_extraction.text import TfidfTransformer\n",
    "from sklearn.feature_extraction.text import TfidfVectorizer\n",
    "\n",
    "tfidf_descp = TfidfVectorizer(max_features = 50000, ngram_range = (1,3), stop_words ='english')\n",
    "x_descp = tfidf_descp.fit_transform(lemmatized_review)"
   ]
  },
  {
   "cell_type": "code",
   "execution_count": 130,
   "metadata": {},
   "outputs": [
    {
     "data": {
      "text/plain": [
       "(119, 92)"
      ]
     },
     "execution_count": 130,
     "metadata": {},
     "output_type": "execute_result"
    }
   ],
   "source": [
    "type(x_descp)\n",
    "x_descp.shape"
   ]
  },
  {
   "cell_type": "code",
   "execution_count": 131,
   "metadata": {},
   "outputs": [
    {
     "data": {
      "text/plain": [
       "(1482535, 105757)"
      ]
     },
     "execution_count": 131,
     "metadata": {},
     "output_type": "execute_result"
    }
   ],
   "source": [
    "type(x_name)\n",
    "x_name.shape"
   ]
  },
  {
   "cell_type": "code",
   "execution_count": 132,
   "metadata": {},
   "outputs": [],
   "source": [
    "from sklearn.preprocessing import LabelBinarizer\n",
    "\n",
    "#onehotencoding for brand_name, item_condtion, shipping\n",
    "\n",
    "lb_brandname=LabelBinarizer(sparse_output=True)\n",
    "x_brand=lb_brandname.fit_transform(mercari_df['brand_name'])\n",
    "lb_itemcond=LabelBinarizer(sparse_output=True)\n",
    "x_itemcond=lb_itemcond.fit_transform(mercari_df['item_condition_id'])\n",
    "lb_shipping=LabelBinarizer(sparse_output=True)\n",
    "x_shipping=lb_shipping.fit_transform(mercari_df['shipping'])"
   ]
  },
  {
   "cell_type": "code",
   "execution_count": 134,
   "metadata": {},
   "outputs": [],
   "source": [
    "lb_cat_Big=LabelBinarizer(sparse_output=True)\n",
    "x_cat_Big=lb_cat_Big.fit_transform(mercari_df['cat_Big'])\n",
    "lb_cat_Medium=LabelBinarizer(sparse_output=True)\n",
    "x_cat_Medium=lb_cat_Medium.fit_transform(mercari_df['cat_Med'])\n",
    "lb_cat_Small=LabelBinarizer(sparse_output=True)\n",
    "x_cat_Small=lb_cat_Small.fit_transform(mercari_df['cat_Small'])"
   ]
  },
  {
   "cell_type": "code",
   "execution_count": 136,
   "metadata": {},
   "outputs": [
    {
     "ename": "ValueError",
     "evalue": "blocks[0,:] has incompatible row dimensions. Got blocks[0,1].shape[0] == 119, expected 1482535.",
     "output_type": "error",
     "traceback": [
      "\u001b[1;31m---------------------------------------------------------------------------\u001b[0m",
      "\u001b[1;31mValueError\u001b[0m                                Traceback (most recent call last)",
      "\u001b[1;32m<ipython-input-136-e0d5a18ffa89>\u001b[0m in \u001b[0;36m<module>\u001b[1;34m\u001b[0m\n\u001b[0;32m      2\u001b[0m \u001b[0msparse_matrix_list\u001b[0m \u001b[1;33m=\u001b[0m \u001b[1;33m(\u001b[0m\u001b[0mx_name\u001b[0m\u001b[1;33m,\u001b[0m \u001b[0mx_descp\u001b[0m\u001b[1;33m,\u001b[0m\u001b[0mx_brand\u001b[0m\u001b[1;33m,\u001b[0m\u001b[0mx_itemcond\u001b[0m\u001b[1;33m,\u001b[0m\u001b[0mx_shipping\u001b[0m\u001b[1;33m,\u001b[0m \u001b[0mlb_cat_Big\u001b[0m\u001b[1;33m,\u001b[0m \u001b[0mlb_cat_Medium\u001b[0m\u001b[1;33m,\u001b[0m \u001b[0mlb_cat_Small\u001b[0m\u001b[1;33m)\u001b[0m\u001b[1;33m\u001b[0m\u001b[1;33m\u001b[0m\u001b[0m\n\u001b[0;32m      3\u001b[0m \u001b[1;33m\u001b[0m\u001b[0m\n\u001b[1;32m----> 4\u001b[1;33m \u001b[0mx_features_sparse\u001b[0m \u001b[1;33m=\u001b[0m\u001b[0mhstack\u001b[0m\u001b[1;33m(\u001b[0m\u001b[0msparse_matrix_list\u001b[0m\u001b[1;33m)\u001b[0m\u001b[1;33m.\u001b[0m\u001b[0mtoscr\u001b[0m\u001b[1;33m(\u001b[0m\u001b[1;33m)\u001b[0m\u001b[1;33m\u001b[0m\u001b[1;33m\u001b[0m\u001b[0m\n\u001b[0m",
      "\u001b[1;32m~\\anaconda3\\envs\\learn-env\\lib\\site-packages\\scipy\\sparse\\construct.py\u001b[0m in \u001b[0;36mhstack\u001b[1;34m(blocks, format, dtype)\u001b[0m\n\u001b[0;32m    463\u001b[0m \u001b[1;33m\u001b[0m\u001b[0m\n\u001b[0;32m    464\u001b[0m     \"\"\"\n\u001b[1;32m--> 465\u001b[1;33m     \u001b[1;32mreturn\u001b[0m \u001b[0mbmat\u001b[0m\u001b[1;33m(\u001b[0m\u001b[1;33m[\u001b[0m\u001b[0mblocks\u001b[0m\u001b[1;33m]\u001b[0m\u001b[1;33m,\u001b[0m \u001b[0mformat\u001b[0m\u001b[1;33m=\u001b[0m\u001b[0mformat\u001b[0m\u001b[1;33m,\u001b[0m \u001b[0mdtype\u001b[0m\u001b[1;33m=\u001b[0m\u001b[0mdtype\u001b[0m\u001b[1;33m)\u001b[0m\u001b[1;33m\u001b[0m\u001b[1;33m\u001b[0m\u001b[0m\n\u001b[0m\u001b[0;32m    466\u001b[0m \u001b[1;33m\u001b[0m\u001b[0m\n\u001b[0;32m    467\u001b[0m \u001b[1;33m\u001b[0m\u001b[0m\n",
      "\u001b[1;32m~\\anaconda3\\envs\\learn-env\\lib\\site-packages\\scipy\\sparse\\construct.py\u001b[0m in \u001b[0;36mbmat\u001b[1;34m(blocks, format, dtype)\u001b[0m\n\u001b[0;32m    584\u001b[0m                                                     \u001b[0mexp\u001b[0m\u001b[1;33m=\u001b[0m\u001b[0mbrow_lengths\u001b[0m\u001b[1;33m[\u001b[0m\u001b[0mi\u001b[0m\u001b[1;33m]\u001b[0m\u001b[1;33m,\u001b[0m\u001b[1;33m\u001b[0m\u001b[1;33m\u001b[0m\u001b[0m\n\u001b[0;32m    585\u001b[0m                                                     got=A.shape[0]))\n\u001b[1;32m--> 586\u001b[1;33m                     \u001b[1;32mraise\u001b[0m \u001b[0mValueError\u001b[0m\u001b[1;33m(\u001b[0m\u001b[0mmsg\u001b[0m\u001b[1;33m)\u001b[0m\u001b[1;33m\u001b[0m\u001b[1;33m\u001b[0m\u001b[0m\n\u001b[0m\u001b[0;32m    587\u001b[0m \u001b[1;33m\u001b[0m\u001b[0m\n\u001b[0;32m    588\u001b[0m                 \u001b[1;32mif\u001b[0m \u001b[0mbcol_lengths\u001b[0m\u001b[1;33m[\u001b[0m\u001b[0mj\u001b[0m\u001b[1;33m]\u001b[0m \u001b[1;33m==\u001b[0m \u001b[1;36m0\u001b[0m\u001b[1;33m:\u001b[0m\u001b[1;33m\u001b[0m\u001b[1;33m\u001b[0m\u001b[0m\n",
      "\u001b[1;31mValueError\u001b[0m: blocks[0,:] has incompatible row dimensions. Got blocks[0,1].shape[0] == 119, expected 1482535."
     ]
    }
   ],
   "source": [
    "from scipy.sparse import hstack\n",
    "sparse_matrix_list = (x_name, x_descp,x_brand,x_itemcond,x_shipping, lb_cat_Big, lb_cat_Medium, lb_cat_Small)\n",
    "\n",
    "x_features_sparse =hstack(sparse_matrix_list).toscr()\n"
   ]
  },
  {
   "cell_type": "code",
   "execution_count": null,
   "metadata": {},
   "outputs": [],
   "source": [
    "print(types(x_features_sparse),x_features_sparse.shape)"
   ]
  }
 ],
 "metadata": {
  "kernelspec": {
   "display_name": "Python 3",
   "language": "python",
   "name": "python3"
  },
  "language_info": {
   "codemirror_mode": {
    "name": "ipython",
    "version": 3
   },
   "file_extension": ".py",
   "mimetype": "text/x-python",
   "name": "python",
   "nbconvert_exporter": "python",
   "pygments_lexer": "ipython3",
   "version": "3.6.9"
  }
 },
 "nbformat": 4,
 "nbformat_minor": 2
}
