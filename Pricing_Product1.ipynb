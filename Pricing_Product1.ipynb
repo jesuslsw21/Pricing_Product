{
 "cells": [
  {
   "cell_type": "code",
   "execution_count": 1,
   "metadata": {},
   "outputs": [
    {
     "name": "stderr",
     "output_type": "stream",
     "text": [
      "C:\\Users\\jesus\\anaconda3\\envs\\learn-env\\lib\\site-packages\\sklearn\\externals\\six.py:31: DeprecationWarning: The module is deprecated in version 0.21 and will be removed in version 0.23 since we've dropped support for Python 2.7. Please rely on the official version of six (https://pypi.org/project/six/).\n",
      "  \"(https://pypi.org/project/six/).\", DeprecationWarning)\n",
      "[nltk_data] Downloading package punkt to\n",
      "[nltk_data]     C:\\Users\\jesus\\AppData\\Roaming\\nltk_data...\n",
      "[nltk_data]   Package punkt is already up-to-date!\n",
      "[nltk_data] Downloading package stopwords to\n",
      "[nltk_data]     C:\\Users\\jesus\\AppData\\Roaming\\nltk_data...\n",
      "[nltk_data]   Package stopwords is already up-to-date!\n"
     ]
    }
   ],
   "source": [
    "from IPython.display import display\n",
    "from IPython.display import Image\n",
    "import pydotplus\n",
    "from sklearn.externals.six import StringIO \n",
    "from subprocess import call\n",
    "\n",
    "import numpy as np\n",
    "import pandas as pd\n",
    "import itertools\n",
    "\n",
    "import matplotlib.pyplot as plt\n",
    "import matplotlib.image as mpimg\n",
    "%matplotlib inline\n",
    "import seaborn as sns\n",
    "\n",
    "from sklearn.model_selection import train_test_split, GridSearchCV, StratifiedKFold\n",
    "from sklearn.metrics import confusion_matrix, roc_curve, roc_auc_score, classification_report \n",
    "from sklearn.tree import DecisionTreeClassifier\n",
    "from sklearn.linear_model import LogisticRegression, LinearRegression\n",
    "from sklearn.svm import SVC\n",
    "from sklearn.ensemble import VotingClassifier, BaggingClassifier, AdaBoostClassifier, RandomForestClassifier\n",
    "from sklearn.preprocessing import StandardScaler, LabelEncoder, OneHotEncoder\n",
    "from xgboost.sklearn import XGBClassifier\n",
    "from sklearn.neighbors import KNeighborsClassifier\n",
    "from mlxtend.classifier import StackingClassifier\n",
    "\n",
    "from sklearn import tree\n",
    "from sklearn.tree import export_graphviz\n",
    "\n",
    "import warnings\n",
    "warnings.filterwarnings('ignore')\n",
    "\n",
    "import nltk\n",
    "nltk.download('punkt')\n",
    "nltk.download('stopwords')\n",
    "\n",
    "from mpl_toolkits.mplot3d import Axes3D\n",
    "import matplotlib.pyplot as plt\n",
    "%matplotlib inline\n",
    "from sklearn.manifold import TSNE\n",
    "from nltk.tokenize import word_tokenize, sent_tokenize\n",
    "np.random.seed(0)"
   ]
  },
  {
   "cell_type": "code",
   "execution_count": 2,
   "metadata": {
    "scrolled": true
   },
   "outputs": [
    {
     "data": {
      "text/html": [
       "<div>\n",
       "<style scoped>\n",
       "    .dataframe tbody tr th:only-of-type {\n",
       "        vertical-align: middle;\n",
       "    }\n",
       "\n",
       "    .dataframe tbody tr th {\n",
       "        vertical-align: top;\n",
       "    }\n",
       "\n",
       "    .dataframe thead th {\n",
       "        text-align: right;\n",
       "    }\n",
       "</style>\n",
       "<table border=\"1\" class=\"dataframe\">\n",
       "  <thead>\n",
       "    <tr style=\"text-align: right;\">\n",
       "      <th></th>\n",
       "      <th>train_id</th>\n",
       "      <th>name</th>\n",
       "      <th>item_condition_id</th>\n",
       "      <th>category_name</th>\n",
       "      <th>brand_name</th>\n",
       "      <th>price</th>\n",
       "      <th>shipping</th>\n",
       "      <th>item_description</th>\n",
       "    </tr>\n",
       "  </thead>\n",
       "  <tbody>\n",
       "    <tr>\n",
       "      <td>0</td>\n",
       "      <td>0</td>\n",
       "      <td>MLB Cincinnati Reds T Shirt Size XL</td>\n",
       "      <td>3</td>\n",
       "      <td>Men/Tops/T-shirts</td>\n",
       "      <td>NaN</td>\n",
       "      <td>10.0</td>\n",
       "      <td>1</td>\n",
       "      <td>No description yet</td>\n",
       "    </tr>\n",
       "    <tr>\n",
       "      <td>1</td>\n",
       "      <td>1</td>\n",
       "      <td>Razer BlackWidow Chroma Keyboard</td>\n",
       "      <td>3</td>\n",
       "      <td>Electronics/Computers &amp; Tablets/Components &amp; P...</td>\n",
       "      <td>Razer</td>\n",
       "      <td>52.0</td>\n",
       "      <td>0</td>\n",
       "      <td>This keyboard is in great condition and works ...</td>\n",
       "    </tr>\n",
       "    <tr>\n",
       "      <td>2</td>\n",
       "      <td>2</td>\n",
       "      <td>AVA-VIV Blouse</td>\n",
       "      <td>1</td>\n",
       "      <td>Women/Tops &amp; Blouses/Blouse</td>\n",
       "      <td>Target</td>\n",
       "      <td>10.0</td>\n",
       "      <td>1</td>\n",
       "      <td>Adorable top with a hint of lace and a key hol...</td>\n",
       "    </tr>\n",
       "    <tr>\n",
       "      <td>3</td>\n",
       "      <td>3</td>\n",
       "      <td>Leather Horse Statues</td>\n",
       "      <td>1</td>\n",
       "      <td>Home/Home Décor/Home Décor Accents</td>\n",
       "      <td>NaN</td>\n",
       "      <td>35.0</td>\n",
       "      <td>1</td>\n",
       "      <td>New with tags. Leather horses. Retail for [rm]...</td>\n",
       "    </tr>\n",
       "    <tr>\n",
       "      <td>4</td>\n",
       "      <td>4</td>\n",
       "      <td>24K GOLD plated rose</td>\n",
       "      <td>1</td>\n",
       "      <td>Women/Jewelry/Necklaces</td>\n",
       "      <td>NaN</td>\n",
       "      <td>44.0</td>\n",
       "      <td>0</td>\n",
       "      <td>Complete with certificate of authenticity</td>\n",
       "    </tr>\n",
       "  </tbody>\n",
       "</table>\n",
       "</div>"
      ],
      "text/plain": [
       "   train_id                                 name  item_condition_id  \\\n",
       "0         0  MLB Cincinnati Reds T Shirt Size XL                  3   \n",
       "1         1     Razer BlackWidow Chroma Keyboard                  3   \n",
       "2         2                       AVA-VIV Blouse                  1   \n",
       "3         3                Leather Horse Statues                  1   \n",
       "4         4                 24K GOLD plated rose                  1   \n",
       "\n",
       "                                       category_name brand_name  price  \\\n",
       "0                                  Men/Tops/T-shirts        NaN   10.0   \n",
       "1  Electronics/Computers & Tablets/Components & P...      Razer   52.0   \n",
       "2                        Women/Tops & Blouses/Blouse     Target   10.0   \n",
       "3                 Home/Home Décor/Home Décor Accents        NaN   35.0   \n",
       "4                            Women/Jewelry/Necklaces        NaN   44.0   \n",
       "\n",
       "   shipping                                   item_description  \n",
       "0         1                                 No description yet  \n",
       "1         0  This keyboard is in great condition and works ...  \n",
       "2         1  Adorable top with a hint of lace and a key hol...  \n",
       "3         1  New with tags. Leather horses. Retail for [rm]...  \n",
       "4         0          Complete with certificate of authenticity  "
      ]
     },
     "execution_count": 2,
     "metadata": {},
     "output_type": "execute_result"
    }
   ],
   "source": [
    "mercari_df = pd.read_csv(\"train.tsv\", sep = '\\t')\n",
    "mercari_df.shape\n",
    "mercari_df.head()"
   ]
  },
  {
   "cell_type": "markdown",
   "metadata": {},
   "source": [
    "# Data Cleaning"
   ]
  },
  {
   "cell_type": "code",
   "execution_count": 3,
   "metadata": {
    "scrolled": false
   },
   "outputs": [
    {
     "name": "stdout",
     "output_type": "stream",
     "text": [
      "<class 'pandas.core.frame.DataFrame'>\n",
      "RangeIndex: 1482535 entries, 0 to 1482534\n",
      "Data columns (total 8 columns):\n",
      "train_id             1482535 non-null int64\n",
      "name                 1482535 non-null object\n",
      "item_condition_id    1482535 non-null int64\n",
      "category_name        1476208 non-null object\n",
      "brand_name           849853 non-null object\n",
      "price                1482535 non-null float64\n",
      "shipping             1482535 non-null int64\n",
      "item_description     1482531 non-null object\n",
      "dtypes: float64(1), int64(3), object(4)\n",
      "memory usage: 90.5+ MB\n"
     ]
    }
   ],
   "source": [
    "# Check the Feature Type and Null Value\n",
    "mercari_df.info()"
   ]
  },
  {
   "cell_type": "code",
   "execution_count": 4,
   "metadata": {},
   "outputs": [
    {
     "data": {
      "text/plain": [
       "train_id                  0\n",
       "name                      0\n",
       "item_condition_id         0\n",
       "category_name          6327\n",
       "brand_name           632682\n",
       "price                     0\n",
       "shipping                  0\n",
       "item_description          4\n",
       "dtype: int64"
      ]
     },
     "execution_count": 4,
     "metadata": {},
     "output_type": "execute_result"
    }
   ],
   "source": [
    "mercari_df.isnull().sum()"
   ]
  },
  {
   "cell_type": "code",
   "execution_count": 5,
   "metadata": {},
   "outputs": [],
   "source": [
    "# From the table above\n",
    "# 0) No need to touch [Train_id] and [name] \n",
    "# 1) [item_condition_id] ???\n",
    "# 2) [Category_name] has also roughly 6,300 of null values\n",
    "# 3) [Brand_name] has 632,682 of null values\n",
    "# 4) [Price] is my target-variable\n",
    "# 5) [shipping] ???\n",
    "# 6) 4 of non-value for [Item-description]"
   ]
  },
  {
   "cell_type": "markdown",
   "metadata": {},
   "source": [
    "1) item_condition_id"
   ]
  },
  {
   "cell_type": "code",
   "execution_count": 6,
   "metadata": {
    "scrolled": true
   },
   "outputs": [
    {
     "data": {
      "text/plain": [
       "1    640549\n",
       "3    432161\n",
       "2    375479\n",
       "4     31962\n",
       "5      2384\n",
       "Name: item_condition_id, dtype: int64"
      ]
     },
     "execution_count": 6,
     "metadata": {},
     "output_type": "execute_result"
    }
   ],
   "source": [
    "mercari_df['item_condition_id'].value_counts()"
   ]
  },
  {
   "cell_type": "markdown",
   "metadata": {},
   "source": [
    "2) Category_name: has roughly 6,300 of null values and I need to split catergories."
   ]
  },
  {
   "cell_type": "code",
   "execution_count": 7,
   "metadata": {},
   "outputs": [
    {
     "data": {
      "text/plain": [
       "Women/Athletic Apparel/Pants, Tights, Leggings    60177\n",
       "Women/Tops & Blouses/T-Shirts                     46380\n",
       "Beauty/Makeup/Face                                34335\n",
       "Beauty/Makeup/Lips                                29910\n",
       "Electronics/Video Games & Consoles/Games          26557\n",
       "                                                  ...  \n",
       "Handmade/Pets/Tag                                     1\n",
       "Handmade/Pets/Blanket                                 1\n",
       "Handmade/Patterns/Accessories                         1\n",
       "Handmade/Bags and Purses/Other                        1\n",
       "Handmade/Furniture/Other                              1\n",
       "Name: category_name, Length: 1287, dtype: int64"
      ]
     },
     "execution_count": 7,
     "metadata": {},
     "output_type": "execute_result"
    }
   ],
   "source": [
    "mercari_df[\"category_name\"].value_counts()"
   ]
  },
  {
   "cell_type": "code",
   "execution_count": 8,
   "metadata": {},
   "outputs": [],
   "source": [
    "# Split the Category and remove null-values\n",
    "def split_cat(category_name):\n",
    "    try:\n",
    "        return category_name.split('/')\n",
    "    except:\n",
    "        return ['Other_Null', 'Other_Null', 'Other_Null']"
   ]
  },
  {
   "cell_type": "code",
   "execution_count": 9,
   "metadata": {},
   "outputs": [],
   "source": [
    "mercari_df['cat_Big'], mercari_df['cat_Med'],mercari_df['cat_Small'] = \\\n",
    "                        zip(*mercari_df['category_name'].apply(lambda x : split_cat(x)))"
   ]
  },
  {
   "cell_type": "code",
   "execution_count": 10,
   "metadata": {
    "scrolled": true
   },
   "outputs": [
    {
     "name": "stdout",
     "output_type": "stream",
     "text": [
      "Women                     664385\n",
      "Beauty                    207828\n",
      "Kids                      171689\n",
      "Electronics               122690\n",
      "Men                        93680\n",
      "Home                       67871\n",
      "Vintage & Collectibles     46530\n",
      "Other                      45351\n",
      "Handmade                   30842\n",
      "Sports & Outdoors          25342\n",
      "Other_Null                  6327\n",
      "Name: cat_Big, dtype: int64\n",
      "11\n"
     ]
    }
   ],
   "source": [
    "print(mercari_df['cat_Big'].value_counts())\n",
    "print(mercari_df['cat_Big'].nunique())"
   ]
  },
  {
   "cell_type": "code",
   "execution_count": 11,
   "metadata": {},
   "outputs": [
    {
     "name": "stdout",
     "output_type": "stream",
     "text": [
      "Athletic Apparel        134383\n",
      "Makeup                  124624\n",
      "Tops & Blouses          106960\n",
      "Shoes                   100452\n",
      "Jewelry                  61763\n",
      "                         ...  \n",
      "Candles                     64\n",
      "Ceramics and Pottery        57\n",
      "Dolls and Miniatures        49\n",
      "Books and Zines             46\n",
      "Quilts                      31\n",
      "Name: cat_Med, Length: 114, dtype: int64\n",
      "114\n"
     ]
    }
   ],
   "source": [
    "print(mercari_df['cat_Med'].value_counts())\n",
    "print(mercari_df['cat_Med'].nunique())"
   ]
  },
  {
   "cell_type": "code",
   "execution_count": 12,
   "metadata": {
    "scrolled": true
   },
   "outputs": [
    {
     "name": "stdout",
     "output_type": "stream",
     "text": [
      "Pants, Tights, Leggings    60177\n",
      "Other                      50224\n",
      "Face                       50171\n",
      "T-Shirts                   46380\n",
      "Shoes                      32168\n",
      "                           ...  \n",
      "Seasonal                       1\n",
      "Storage Solutions              1\n",
      "Doorstops                      1\n",
      "Entertainment                  1\n",
      "Bathroom Shelves               1\n",
      "Name: cat_Small, Length: 871, dtype: int64\n",
      "871\n"
     ]
    }
   ],
   "source": [
    "print(mercari_df['cat_Small'].value_counts())\n",
    "print(mercari_df['cat_Small'].nunique())"
   ]
  },
  {
   "cell_type": "code",
   "execution_count": 13,
   "metadata": {},
   "outputs": [],
   "source": [
    "mercari_df['category_name'] = mercari_df['category_name'].fillna(value = 'Other_Null')"
   ]
  },
  {
   "cell_type": "markdown",
   "metadata": {},
   "source": [
    "Now, Category_name is cleaned and removed the null_values."
   ]
  },
  {
   "cell_type": "markdown",
   "metadata": {},
   "source": [
    "3) Brand_name: has almost half of null values"
   ]
  },
  {
   "cell_type": "code",
   "execution_count": 14,
   "metadata": {
    "scrolled": true
   },
   "outputs": [
    {
     "data": {
      "text/plain": [
       "PINK                 54088\n",
       "Nike                 54043\n",
       "Victoria's Secret    48036\n",
       "LuLaRoe              31024\n",
       "Apple                17322\n",
       "                     ...  \n",
       "Silkland                 1\n",
       "Perfection               1\n",
       "Brioni                   1\n",
       "Veronica Beard           1\n",
       "Truly Scrumptious        1\n",
       "Name: brand_name, Length: 4809, dtype: int64"
      ]
     },
     "execution_count": 14,
     "metadata": {},
     "output_type": "execute_result"
    }
   ],
   "source": [
    "mercari_df['brand_name'].value_counts()"
   ]
  },
  {
   "cell_type": "code",
   "execution_count": 15,
   "metadata": {},
   "outputs": [],
   "source": [
    "mercari_df['brand_name'] = mercari_df['brand_name'].fillna(value = 'Other_Null')"
   ]
  },
  {
   "cell_type": "markdown",
   "metadata": {},
   "source": [
    "4) Price : my target-variable"
   ]
  },
  {
   "cell_type": "code",
   "execution_count": 16,
   "metadata": {
    "scrolled": true
   },
   "outputs": [
    {
     "data": {
      "text/plain": [
       "<matplotlib.axes._subplots.AxesSubplot at 0x24881e7ee48>"
      ]
     },
     "execution_count": 16,
     "metadata": {},
     "output_type": "execute_result"
    },
    {
     "data": {
      "image/png": "[encoded data removed]",
      "text/plain": [
       "<Figure size 504x360 with 1 Axes>"
      ]
     },
     "metadata": {
      "needs_background": "light"
     },
     "output_type": "display_data"
    }
   ],
   "source": [
    "y_train_df = mercari_df.price\n",
    "plt.figure(figsize=(7,5))\n",
    "sns.distplot(y_train_df, kde=False)"
   ]
  },
  {
   "cell_type": "code",
   "execution_count": 17,
   "metadata": {},
   "outputs": [
    {
     "data": {
      "text/plain": [
       "<matplotlib.axes._subplots.AxesSubplot at 0x248800a6f60>"
      ]
     },
     "execution_count": 17,
     "metadata": {},
     "output_type": "execute_result"
    },
    {
     "data": {
      "image/png": "[encoded data removed]",
      "text/plain": [
       "<Figure size 432x288 with 1 Axes>"
      ]
     },
     "metadata": {
      "needs_background": "light"
     },
     "output_type": "display_data"
    }
   ],
   "source": [
    "# Now, it looks like normal distribution now\n",
    "y_train_df= np.log1p(y_train_df)\n",
    "sns.distplot(y_train_df, kde=False)"
   ]
  },
  {
   "cell_type": "code",
   "execution_count": 18,
   "metadata": {},
   "outputs": [
    {
     "data": {
      "text/plain": [
       "0    2.397895\n",
       "1    3.970292\n",
       "2    2.397895\n",
       "3    3.583519\n",
       "4    3.806662\n",
       "Name: price, dtype: float64"
      ]
     },
     "execution_count": 18,
     "metadata": {},
     "output_type": "execute_result"
    }
   ],
   "source": [
    "mercari_df.price = np.log1p(mercari_df.price)\n",
    "mercari_df.price.head()"
   ]
  },
  {
   "cell_type": "markdown",
   "metadata": {},
   "source": [
    "5) [shipping] "
   ]
  },
  {
   "cell_type": "code",
   "execution_count": 19,
   "metadata": {
    "scrolled": true
   },
   "outputs": [
    {
     "data": {
      "text/plain": [
       "0    819435\n",
       "1    663100\n",
       "Name: shipping, dtype: int64"
      ]
     },
     "execution_count": 19,
     "metadata": {},
     "output_type": "execute_result"
    }
   ],
   "source": [
    "mercari_df.shipping.value_counts()"
   ]
  },
  {
   "cell_type": "markdown",
   "metadata": {},
   "source": [
    "6) Item-description : Delete 4 of 'non-value' and 'No decription yet'"
   ]
  },
  {
   "cell_type": "code",
   "execution_count": 20,
   "metadata": {},
   "outputs": [
    {
     "data": {
      "text/plain": [
       "No description yet                                                                                                                                                                                                                                                                                                                                    82489\n",
       "New                                                                                                                                                                                                                                                                                                                                                    4099\n",
       "Brand new                                                                                                                                                                                                                                                                                                                                              3058\n",
       "Good condition                                                                                                                                                                                                                                                                                                                                         1274\n",
       "Great condition                                                                                                                                                                                                                                                                                                                                        1158\n",
       "                                                                                                                                                                                                                                                                                                                                                      ...  \n",
       "My daughter wore 1x for 4th of July. Great condition!!                                                                                                                                                                                                                                                                                                    1\n",
       "3 decals that are the perfect size for your Yeti (or any other cup). I can to a wide variety of colors.                                                                                                                                                                                                                                                   1\n",
       "Year old pink iPhone 5c. No water damage. No major scratches or dents. Minor flaws. AT&T is the carrier. Will generously throw in a lot of phone cases with this. If you don't want them please just throw them out. Because I don't need them anymore.                                                                                                   1\n",
       "The BEST KABUKI BRUSH U WILL EVER PURCHASE!                                                                                                                                                                                                                                                                                                               1\n",
       "Victoria's secret beach bag/ Tote bag. Pretty big and cute. The bottom has a few minor stains that im sure can come off. I will wash before shipping! Prices are negotiable. Bundle to save more. I really want to get rid of a lot of my clothes because they are big on me now so check out my closet , make offers, and bundle to save more! (:        1\n",
       "Name: item_description, Length: 1281426, dtype: int64"
      ]
     },
     "execution_count": 20,
     "metadata": {},
     "output_type": "execute_result"
    }
   ],
   "source": [
    "mercari_df[\"item_description\"].value_counts()"
   ]
  },
  {
   "cell_type": "code",
   "execution_count": 21,
   "metadata": {
    "scrolled": true
   },
   "outputs": [
    {
     "data": {
      "text/plain": [
       "No description yet                                                                                                                                                                                                                                                                                                                                    82489\n",
       "New                                                                                                                                                                                                                                                                                                                                                    4099\n",
       "Brand new                                                                                                                                                                                                                                                                                                                                              3058\n",
       "Good condition                                                                                                                                                                                                                                                                                                                                         1274\n",
       "Great condition                                                                                                                                                                                                                                                                                                                                        1158\n",
       "                                                                                                                                                                                                                                                                                                                                                      ...  \n",
       "My daughter wore 1x for 4th of July. Great condition!!                                                                                                                                                                                                                                                                                                    1\n",
       "3 decals that are the perfect size for your Yeti (or any other cup). I can to a wide variety of colors.                                                                                                                                                                                                                                                   1\n",
       "Year old pink iPhone 5c. No water damage. No major scratches or dents. Minor flaws. AT&T is the carrier. Will generously throw in a lot of phone cases with this. If you don't want them please just throw them out. Because I don't need them anymore.                                                                                                   1\n",
       "The BEST KABUKI BRUSH U WILL EVER PURCHASE!                                                                                                                                                                                                                                                                                                               1\n",
       "Victoria's secret beach bag/ Tote bag. Pretty big and cute. The bottom has a few minor stains that im sure can come off. I will wash before shipping! Prices are negotiable. Bundle to save more. I really want to get rid of a lot of my clothes because they are big on me now so check out my closet , make offers, and bundle to save more! (:        1\n",
       "Name: item_description, Length: 1281426, dtype: int64"
      ]
     },
     "execution_count": 21,
     "metadata": {},
     "output_type": "execute_result"
    }
   ],
   "source": [
    "mercari_df[\"item_description\"].value_counts()"
   ]
  },
  {
   "cell_type": "code",
   "execution_count": 22,
   "metadata": {},
   "outputs": [],
   "source": [
    "mercari_df[\"item_description\"] = mercari_df[\"item_description\"].fillna(value = 'Other_Null')"
   ]
  },
  {
   "cell_type": "code",
   "execution_count": 23,
   "metadata": {
    "scrolled": true
   },
   "outputs": [
    {
     "data": {
      "image/png": "[encoded data removed]",
      "text/plain": [
       "<Figure size 1152x1152 with 4 Axes>"
      ]
     },
     "metadata": {
      "needs_background": "light"
     },
     "output_type": "display_data"
    }
   ],
   "source": [
    "mercari_df.hist(bins=30, figsize=(16,16))\n",
    "plt.show()"
   ]
  },
  {
   "cell_type": "code",
   "execution_count": 24,
   "metadata": {
    "scrolled": false
   },
   "outputs": [
    {
     "data": {
      "text/plain": [
       "train_id             0\n",
       "name                 0\n",
       "item_condition_id    0\n",
       "category_name        0\n",
       "brand_name           0\n",
       "price                0\n",
       "shipping             0\n",
       "item_description     0\n",
       "cat_Big              0\n",
       "cat_Med              0\n",
       "cat_Small            0\n",
       "dtype: int64"
      ]
     },
     "execution_count": 24,
     "metadata": {},
     "output_type": "execute_result"
    }
   ],
   "source": [
    "mercari_df.isnull().sum()"
   ]
  },
  {
   "cell_type": "code",
   "execution_count": 25,
   "metadata": {},
   "outputs": [
    {
     "name": "stdout",
     "output_type": "stream",
     "text": [
      "<class 'pandas.core.frame.DataFrame'>\n",
      "RangeIndex: 1482535 entries, 0 to 1482534\n",
      "Data columns (total 11 columns):\n",
      "train_id             1482535 non-null int64\n",
      "name                 1482535 non-null object\n",
      "item_condition_id    1482535 non-null int64\n",
      "category_name        1482535 non-null object\n",
      "brand_name           1482535 non-null object\n",
      "price                1482535 non-null float64\n",
      "shipping             1482535 non-null int64\n",
      "item_description     1482535 non-null object\n",
      "cat_Big              1482535 non-null object\n",
      "cat_Med              1482535 non-null object\n",
      "cat_Small            1482535 non-null object\n",
      "dtypes: float64(1), int64(3), object(7)\n",
      "memory usage: 124.4+ MB\n"
     ]
    }
   ],
   "source": [
    "mercari_df.info()"
   ]
  },
  {
   "cell_type": "code",
   "execution_count": null,
   "metadata": {},
   "outputs": [],
   "source": []
  },
  {
   "cell_type": "markdown",
   "metadata": {},
   "source": [
    "# Feature Encoding/Feature Vectorisation"
   ]
  },
  {
   "cell_type": "code",
   "execution_count": 26,
   "metadata": {},
   "outputs": [],
   "source": [
    "#Token/Stopwords/ Stem or Lemma\n",
    "# One Hot coding / LabelBinarizer\n",
    "# count Vector (Short words: names)\n",
    "# TD-IDF (Long words : Item_description)"
   ]
  },
  {
   "cell_type": "code",
   "execution_count": 27,
   "metadata": {},
   "outputs": [
    {
     "data": {
      "text/plain": [
       "4810"
      ]
     },
     "execution_count": 27,
     "metadata": {},
     "output_type": "execute_result"
    }
   ],
   "source": [
    "mercari_df['brand_name'].nunique()\n"
   ]
  },
  {
   "cell_type": "code",
   "execution_count": 28,
   "metadata": {},
   "outputs": [
    {
     "data": {
      "text/plain": [
       "Other_Null           632682\n",
       "PINK                  54088\n",
       "Nike                  54043\n",
       "Victoria's Secret     48036\n",
       "LuLaRoe               31024\n",
       "Name: brand_name, dtype: int64"
      ]
     },
     "execution_count": 28,
     "metadata": {},
     "output_type": "execute_result"
    }
   ],
   "source": [
    "b1 = mercari_df['brand_name'].value_counts()\n",
    "b1.head()"
   ]
  },
  {
   "cell_type": "markdown",
   "metadata": {},
   "source": [
    "Vectorisation"
   ]
  },
  {
   "cell_type": "code",
   "execution_count": 61,
   "metadata": {},
   "outputs": [],
   "source": [
    "df_item = mercari_df[\"item_description\"]"
   ]
  },
  {
   "cell_type": "code",
   "execution_count": 62,
   "metadata": {
    "scrolled": false
   },
   "outputs": [
    {
     "data": {
      "text/plain": [
       "0                                   No description yet\n",
       "1    This keyboard is in great condition and works ...\n",
       "2    Adorable top with a hint of lace and a key hol...\n",
       "3    New with tags. Leather horses. Retail for [rm]...\n",
       "4            Complete with certificate of authenticity\n",
       "Name: item_description, dtype: object"
      ]
     },
     "execution_count": 62,
     "metadata": {},
     "output_type": "execute_result"
    }
   ],
   "source": [
    "df_item.head()"
   ]
  },
  {
   "cell_type": "code",
   "execution_count": 78,
   "metadata": {},
   "outputs": [
    {
     "name": "stderr",
     "output_type": "stream",
     "text": [
      "[nltk_data] Downloading package stopwords to\n",
      "[nltk_data]     C:\\Users\\jesus\\AppData\\Roaming\\nltk_data...\n",
      "[nltk_data]   Package stopwords is already up-to-date!\n",
      "[nltk_data] Downloading package punkt to\n",
      "[nltk_data]     C:\\Users\\jesus\\AppData\\Roaming\\nltk_data...\n",
      "[nltk_data]   Package punkt is already up-to-date!\n",
      "[nltk_data] Downloading package wordnet to\n",
      "[nltk_data]     C:\\Users\\jesus\\AppData\\Roaming\\nltk_data...\n",
      "[nltk_data]   Package wordnet is already up-to-date!\n"
     ]
    },
    {
     "data": {
      "text/plain": [
       "True"
      ]
     },
     "execution_count": 78,
     "metadata": {},
     "output_type": "execute_result"
    }
   ],
   "source": [
    "from nltk.corpus import stopwords \n",
    "from nltk.tokenize import word_tokenize \n",
    "import nltk\n",
    "import matplotlib.pyplot as plt\n",
    "import pandas as pd\n",
    "from sklearn.feature_extraction.text import CountVectorizer\n",
    "from sklearn.feature_extraction.text import TfidfVectorizer\n",
    "from sklearn.feature_extraction.text import TfidfTransformer\n",
    "from nltk.probability import FreqDist\n",
    "from nltk.corpus import stopwords\n",
    "from nltk.stem import PorterStemmer\n",
    "from sklearn.metrics import confusion_matrix\n",
    "import seaborn as sns\n",
    "from sklearn.naive_bayes import MultinomialNB\n",
    "from sklearn import metrics\n",
    "from sklearn.model_selection import train_test_split\n",
    "from matplotlib import cm\n",
    "import numpy as np\n",
    "from sklearn.ensemble import RandomForestClassifier\n",
    "from sklearn.metrics import accuracy_score\n",
    "from sklearn.metrics import f1_score\n",
    "from sklearn.naive_bayes import GaussianNB\n",
    "\n",
    "nltk.download('stopwords')\n",
    "nltk.download('punkt')\n",
    "nltk.download('wordnet') \n"
   ]
  },
  {
   "cell_type": "code",
   "execution_count": 106,
   "metadata": {
    "scrolled": false
   },
   "outputs": [
    {
     "data": {
      "text/plain": [
       "['no description yet',\n",
       " 'this keyboard is in great condition and works like it came out of the box all of the ports are tested and work perfectly the lights are customizable via the razer synapse app on your pc',\n",
       " 'adorable top with a hint of lace and a key hole in the back the pale pink is a 1x and i also have a 3x available in white',\n",
       " 'complete with certificate of authenticity',\n",
       " 'banana republic bottoms candies skirt with matching blazeramy byers suit loft bottoms and cami top',\n",
       " 'size small but straps slightly shortened to fit xs besides that perfect condition',\n",
       " 'girls size small plus green three shorts total',\n",
       " 'i realized his pants are on backwards after the picture they were very dirty so i hand washed them he has a stuffed body and painted porcelain head hands and feet back before clowns were too scary 9\" tall no chips or cracks but minor paint loss in a few places clown circus doll collectible',\n",
       " '5 new vs pink body mists 25 oz each fresh  clean sun kiss cool and bright total flirt sweet and flirty',\n",
       " 'xl great condition']"
      ]
     },
     "execution_count": 106,
     "metadata": {},
     "output_type": "execute_result"
    }
   ],
   "source": [
    "def clean_item(item):\n",
    "    cleaned_item = []\n",
    "    for line in item:\n",
    "        if not '[' in line and  not ']' in line:\n",
    "            for symbol in \",\"''\"&.?!)''(\\n\":\n",
    "                line = line.replace(symbol, '').lower()\n",
    "            cleaned_item.append(line)\n",
    "\n",
    "    return cleaned_item\n",
    "\n",
    "item_without_brackets = clean_item(mercari_df[\"item_description\"])[:10]\n",
    "item_without_brackets"
   ]
  },
  {
   "cell_type": "code",
   "execution_count": 107,
   "metadata": {
    "scrolled": true
   },
   "outputs": [
    {
     "name": "stdout",
     "output_type": "stream",
     "text": [
      "['no', 'description', 'yet', 'this', 'keyboard', 'is', 'in', 'great', 'condition', 'and', 'works', 'like', 'it', 'came', 'out', 'of', 'the', 'box', 'all', 'of', 'the', 'ports', 'are', 'tested', 'and', 'work', 'perfectly', 'the', 'lights', 'are', 'customizable', 'via', 'the', 'razer', 'synapse', 'app', 'on', 'your', 'pc', 'adorable', 'top', 'with', 'a', 'hint', 'of', 'lace', 'and', 'a', 'key', 'hole', 'in', 'the', 'back', 'the', 'pale', 'pink', 'is', 'a', '1x', 'and', 'i', 'also', 'have', 'a', '3x', 'available', 'in', 'white', 'complete', 'with', 'certificate', 'of', 'authenticity', 'banana', 'republic', 'bottoms', 'candies', 'skirt', 'with', 'matching', 'blazeramy', 'byers', 'suit', 'loft', 'bottoms', 'and', 'cami', 'top', 'size', 'small', 'but', 'straps', 'slightly', 'shortened', 'to', 'fit', 'xs', 'besides', 'that', 'perfect', 'condition', 'girls', 'size', 'small', 'plus', 'green', 'three', 'shorts', 'total', 'i', 'realized', 'his', 'pants', 'are', 'on', 'backwards', 'after', 'the', 'picture', 'they', 'were', 'very', 'dirty', 'so', 'i', 'hand', 'washed', 'them', 'he', 'has', 'a', 'stuffed', 'body', 'and', 'painted', 'porcelain', 'head', 'hands', 'and', 'feet', 'back', 'before', 'clowns', 'were', 'too', 'scary', '9', \"''\", 'tall', 'no', 'chips', 'or', 'cracks', 'but', 'minor', 'paint', 'loss', 'in', 'a', 'few', 'places', 'clown', 'circus', 'doll', 'collectible', '5', 'new', 'vs', 'pink', 'body', 'mists', '25', 'oz', 'each', 'fresh', 'clean', 'sun', 'kiss', 'cool', 'and', 'bright', 'total', 'flirt', 'sweet', 'and', 'flirty', 'xl', 'great', 'condition']\n"
     ]
    }
   ],
   "source": [
    "def tokenize(item):\n",
    "    joined_item = ' '.join(item)\n",
    "    tokenized_item = word_tokenize(joined_item)\n",
    "    \n",
    "    return tokenized_item\n",
    "\n",
    "tokenized_test_item = tokenize(item_without_brackets)\n",
    "print(tokenized_test_item)"
   ]
  },
  {
   "cell_type": "code",
   "execution_count": 108,
   "metadata": {},
   "outputs": [
    {
     "name": "stdout",
     "output_type": "stream",
     "text": [
      "<FreqDist with 142 samples and 189 outcomes>\n"
     ]
    }
   ],
   "source": [
    "fdist = FreqDist(tokenized_test_item)\n",
    "print(fdist)"
   ]
  },
  {
   "cell_type": "code",
   "execution_count": 109,
   "metadata": {
    "scrolled": true
   },
   "outputs": [
    {
     "data": {
      "image/png": "[encoded data removed]",
      "text/plain": [
       "<Figure size 720x720 with 1 Axes>"
      ]
     },
     "metadata": {
      "needs_background": "light"
     },
     "output_type": "display_data"
    },
    {
     "data": {
      "text/plain": [
       "<matplotlib.axes._subplots.AxesSubplot at 0x24900b7a4a8>"
      ]
     },
     "execution_count": 109,
     "metadata": {},
     "output_type": "execute_result"
    }
   ],
   "source": [
    "plt.figure(figsize=(10,10))\n",
    "fdist.plot(30)"
   ]
  },
  {
   "cell_type": "code",
   "execution_count": 110,
   "metadata": {},
   "outputs": [
    {
     "name": "stdout",
     "output_type": "stream",
     "text": [
      "{'now', 'are', 'our', 'aren', 're', 'hasn', 'ours', 'shan', 'll', 'which', \"weren't\", 'were', 'all', 'from', 'yourself', 'theirs', \"that'll\", 'wouldn', 'further', 'out', 'he', 'few', 'mustn', 'because', 'hadn', 'no', \"you've\", 'isn', 'than', 's', 'd', 'how', 'o', 'don', 'it', 'then', 'haven', 'with', 'each', \"wasn't\", 'should', 'shouldn', 'when', 'was', 'we', 'she', \"it's\", 'did', 'while', 'a', 'above', 'there', 'why', \"doesn't\", \"hasn't\", 'his', 'other', \"won't\", 'these', 'only', 'your', 'up', 'been', 'or', 'm', 'again', 'here', 'i', 'where', 'can', 'an', 'be', 'during', 'below', 'do', 'to', 'some', 'its', 'before', 'so', 'himself', 'very', 'my', \"you'll\", 'weren', 'those', 'their', 't', 'couldn', 'wasn', 'her', 'into', 'ourselves', 'hers', 'that', 'who', \"couldn't\", \"isn't\", 'themselves', 'under', 'through', 'mightn', \"should've\", 'yours', 'doing', 'by', 'between', 'same', \"mightn't\", 'after', \"shouldn't\", \"you'd\", \"haven't\", 'herself', 'y', \"aren't\", \"mustn't\", 'him', 'both', 'having', 'them', 'will', 'down', 'being', 'once', 'but', 'doesn', 'such', 'ain', 'of', 'more', 'you', 'does', 'this', 've', 'on', 'and', \"shan't\", \"needn't\", 'myself', 'they', 'too', 'as', 'until', 'most', 'whom', 'off', \"wouldn't\", 'over', \"hadn't\", 'yourselves', 'for', 'any', 'didn', 'won', 'am', 'what', 'is', 'just', 'against', 'ma', 'itself', 'needn', 'the', 'had', 'has', 'if', 'me', 'not', 'own', \"didn't\", 'nor', 'have', 'in', \"don't\", \"she's\", 'about', \"you're\", 'at'}\n"
     ]
    }
   ],
   "source": [
    "stop_words=set(stopwords.words(\"english\"))\n",
    "print(stop_words)"
   ]
  },
  {
   "cell_type": "code",
   "execution_count": 111,
   "metadata": {},
   "outputs": [
    {
     "name": "stdout",
     "output_type": "stream",
     "text": [
      "Filterd Sentence: ['description', 'yet', 'keyboard', 'great', 'condition', 'works', 'like', 'came', 'box', 'ports', 'tested', 'work', 'perfectly', 'lights', 'customizable', 'via', 'razer', 'synapse', 'app', 'pc', 'adorable', 'top', 'hint', 'lace', 'key', 'hole', 'back', 'pale', 'pink', '1x', 'also', '3x', 'available', 'white', 'complete', 'certificate', 'authenticity', 'banana', 'republic', 'bottoms', 'candies', 'skirt', 'matching', 'blazeramy', 'byers', 'suit', 'loft', 'bottoms', 'cami', 'top', 'size', 'small', 'straps', 'slightly', 'shortened', 'fit', 'xs', 'besides', 'perfect', 'condition', 'girls', 'size', 'small', 'plus', 'green', 'three', 'shorts', 'total', 'realized', 'pants', 'backwards', 'picture', 'dirty', 'hand', 'washed', 'stuffed', 'body', 'painted', 'porcelain', 'head', 'hands', 'feet', 'back', 'clowns', 'scary', '9', \"''\", 'tall', 'chips', 'cracks', 'minor', 'paint', 'loss', 'places', 'clown', 'circus', 'doll', 'collectible', '5', 'new', 'vs', 'pink', 'body', 'mists', '25', 'oz', 'fresh', 'clean', 'sun', 'kiss', 'cool', 'bright', 'total', 'flirt', 'sweet', 'flirty', 'xl', 'great', 'condition']\n"
     ]
    }
   ],
   "source": [
    "filtered_review=[]\n",
    "for w in tokenized_test_item:\n",
    "    if w not in stop_words:\n",
    "        filtered_review.append(w)\n",
    "print(\"Filterd Sentence:\",filtered_review)"
   ]
  },
  {
   "cell_type": "code",
   "execution_count": 112,
   "metadata": {},
   "outputs": [
    {
     "name": "stdout",
     "output_type": "stream",
     "text": [
      "189\n",
      "119\n"
     ]
    }
   ],
   "source": [
    "print(len(tokenized_test_item))\n",
    "print(len(filtered_review))"
   ]
  },
  {
   "cell_type": "code",
   "execution_count": 113,
   "metadata": {
    "scrolled": true
   },
   "outputs": [
    {
     "data": {
      "image/png": "[encoded data removed]",
      "text/plain": [
       "<Figure size 720x720 with 1 Axes>"
      ]
     },
     "metadata": {
      "needs_background": "light"
     },
     "output_type": "display_data"
    },
    {
     "data": {
      "text/plain": [
       "<matplotlib.axes._subplots.AxesSubplot at 0x24900bb73c8>"
      ]
     },
     "execution_count": 113,
     "metadata": {},
     "output_type": "execute_result"
    }
   ],
   "source": [
    "fdist = FreqDist(filtered_review)\n",
    "plt.figure(figsize=(10,10))\n",
    "fdist.plot(10)"
   ]
  },
  {
   "cell_type": "code",
   "execution_count": 114,
   "metadata": {},
   "outputs": [],
   "source": [
    "#Stemming\n",
    "from nltk.stem import PorterStemmer"
   ]
  },
  {
   "cell_type": "code",
   "execution_count": 115,
   "metadata": {},
   "outputs": [
    {
     "name": "stdout",
     "output_type": "stream",
     "text": [
      "['descript', 'yet', 'keyboard', 'great', 'condit', 'work', 'like', 'came', 'box', 'port', 'test', 'work', 'perfectli', 'light', 'customiz', 'via', 'razer', 'synaps', 'app', 'pc', 'ador', 'top', 'hint', 'lace', 'key', 'hole', 'back', 'pale', 'pink', '1x', 'also', '3x', 'avail', 'white', 'complet', 'certif', 'authent', 'banana', 'republ', 'bottom', 'candi', 'skirt', 'match', 'blazerami', 'byer', 'suit', 'loft', 'bottom', 'cami', 'top', 'size', 'small', 'strap', 'slightli', 'shorten', 'fit', 'xs', 'besid', 'perfect', 'condit', 'girl', 'size', 'small', 'plu', 'green', 'three', 'short', 'total', 'realiz', 'pant', 'backward', 'pictur', 'dirti', 'hand', 'wash', 'stuf', 'bodi', 'paint', 'porcelain', 'head', 'hand', 'feet', 'back', 'clown', 'scari', '9', \"''\", 'tall', 'chip', 'crack', 'minor', 'paint', 'loss', 'place', 'clown', 'circu', 'doll', 'collect', '5', 'new', 'vs', 'pink', 'bodi', 'mist', '25', 'oz', 'fresh', 'clean', 'sun', 'kiss', 'cool', 'bright', 'total', 'flirt', 'sweet', 'flirti', 'xl', 'great', 'condit']\n"
     ]
    }
   ],
   "source": [
    "ps = PorterStemmer()\n",
    "\n",
    "stemmed_review=[]\n",
    "for w in filtered_review:\n",
    "    stemmed_review.append(ps.stem(w))\n",
    "\n",
    "print(stemmed_review)"
   ]
  },
  {
   "cell_type": "code",
   "execution_count": 116,
   "metadata": {},
   "outputs": [
    {
     "data": {
      "image/png": "[encoded data removed]",
      "text/plain": [
       "<Figure size 432x288 with 1 Axes>"
      ]
     },
     "metadata": {
      "needs_background": "light"
     },
     "output_type": "display_data"
    },
    {
     "data": {
      "text/plain": [
       "<matplotlib.axes._subplots.AxesSubplot at 0x2490419dc18>"
      ]
     },
     "execution_count": 116,
     "metadata": {},
     "output_type": "execute_result"
    }
   ],
   "source": [
    "fdist = FreqDist(stemmed_review)\n",
    "fdist.plot(30)"
   ]
  },
  {
   "cell_type": "code",
   "execution_count": 117,
   "metadata": {},
   "outputs": [],
   "source": [
    "#Lemmatization\n",
    "from nltk.stem import WordNetLemmatizer \n",
    "  \n",
    "lemmatizer = WordNetLemmatizer() "
   ]
  },
  {
   "cell_type": "code",
   "execution_count": 118,
   "metadata": {},
   "outputs": [
    {
     "name": "stdout",
     "output_type": "stream",
     "text": [
      "['description', 'yet', 'keyboard', 'great', 'condition', 'work', 'like', 'came', 'box', 'port', 'tested', 'work', 'perfectly', 'light', 'customizable', 'via', 'razer', 'synapse', 'app', 'pc', 'adorable', 'top', 'hint', 'lace', 'key', 'hole', 'back', 'pale', 'pink', '1x', 'also', '3x', 'available', 'white', 'complete', 'certificate', 'authenticity', 'banana', 'republic', 'bottom', 'candy', 'skirt', 'matching', 'blazeramy', 'byers', 'suit', 'loft', 'bottom', 'cami', 'top', 'size', 'small', 'strap', 'slightly', 'shortened', 'fit', 'x', 'besides', 'perfect', 'condition', 'girl', 'size', 'small', 'plus', 'green', 'three', 'short', 'total', 'realized', 'pant', 'backwards', 'picture', 'dirty', 'hand', 'washed', 'stuffed', 'body', 'painted', 'porcelain', 'head', 'hand', 'foot', 'back', 'clown', 'scary', '9', \"''\", 'tall', 'chip', 'crack', 'minor', 'paint', 'loss', 'place', 'clown', 'circus', 'doll', 'collectible', '5', 'new', 'v', 'pink', 'body', 'mist', '25', 'oz', 'fresh', 'clean', 'sun', 'kiss', 'cool', 'bright', 'total', 'flirt', 'sweet', 'flirty', 'xl', 'great', 'condition']\n"
     ]
    }
   ],
   "source": [
    "# we can also lemmatize our original reviews\n",
    "lemmatized_review=[]\n",
    "for w in filtered_review:\n",
    "    lemmatized_review.append(lemmatizer.lemmatize(w))\n",
    "\n",
    "print(lemmatized_review)"
   ]
  },
  {
   "cell_type": "code",
   "execution_count": 119,
   "metadata": {},
   "outputs": [
    {
     "data": {
      "image/png": "[encoded data removed]",
      "text/plain": [
       "<Figure size 432x288 with 1 Axes>"
      ]
     },
     "metadata": {
      "needs_background": "light"
     },
     "output_type": "display_data"
    },
    {
     "data": {
      "text/plain": [
       "<matplotlib.axes._subplots.AxesSubplot at 0x249040ea6a0>"
      ]
     },
     "execution_count": 119,
     "metadata": {},
     "output_type": "execute_result"
    }
   ],
   "source": [
    "fdist = FreqDist(lemmatized_review)\n",
    "fdist.plot(30)"
   ]
  },
  {
   "cell_type": "code",
   "execution_count": null,
   "metadata": {},
   "outputs": [],
   "source": []
  },
  {
   "cell_type": "code",
   "execution_count": null,
   "metadata": {},
   "outputs": [],
   "source": []
  },
  {
   "cell_type": "markdown",
   "metadata": {},
   "source": [
    "# Feature Vectorisation (Name: Countvector, Item_Desc : TfidfVector)"
   ]
  },
  {
   "cell_type": "code",
   "execution_count": 123,
   "metadata": {},
   "outputs": [],
   "source": [
    "from sklearn.feature_extraction.text import CountVectorizer\n",
    "cnt_vec = CountVectorizer()\n",
    "x_name = cnt_vec.fit_transform(mercari_df.name)"
   ]
  },
  {
   "cell_type": "code",
   "execution_count": 124,
   "metadata": {},
   "outputs": [],
   "source": [
    "from sklearn.feature_extraction.text import TfidfTransformer\n",
    "from sklearn.feature_extraction.text import TfidfVectorizer\n",
    "\n",
    "tfidf_descp = TfidfVectorizer(max_features = 50000, ngram_range = (1,3), stop_words ='english')\n",
    "x_descp = tfidf_descp.fit_transform(lemmatized_review)"
   ]
  },
  {
   "cell_type": "code",
   "execution_count": 130,
   "metadata": {},
   "outputs": [
    {
     "data": {
      "text/plain": [
       "(119, 92)"
      ]
     },
     "execution_count": 130,
     "metadata": {},
     "output_type": "execute_result"
    }
   ],
   "source": [
    "type(x_descp)\n",
    "x_descp.shape"
   ]
  },
  {
   "cell_type": "code",
   "execution_count": 131,
   "metadata": {},
   "outputs": [
    {
     "data": {
      "text/plain": [
       "(1482535, 105757)"
      ]
     },
     "execution_count": 131,
     "metadata": {},
     "output_type": "execute_result"
    }
   ],
   "source": [
    "type(x_name)\n",
    "x_name.shape"
   ]
  },
  {
   "cell_type": "code",
   "execution_count": 132,
   "metadata": {},
   "outputs": [],
   "source": [
    "from sklearn.preprocessing import LabelBinarizer\n",
    "\n",
    "#onehotencoding for brand_name, item_condtion, shipping\n",
    "\n",
    "lb_brandname=LabelBinarizer(sparse_output=True)\n",
    "x_brand=lb_brandname.fit_transform(mercari_df['brand_name'])\n",
    "lb_itemcond=LabelBinarizer(sparse_output=True)\n",
    "x_itemcond=lb_itemcond.fit_transform(mercari_df['item_condition_id'])\n",
    "lb_shipping=LabelBinarizer(sparse_output=True)\n",
    "x_shipping=lb_shipping.fit_transform(mercari_df['shipping'])"
   ]
  },
  {
   "cell_type": "code",
   "execution_count": 134,
   "metadata": {},
   "outputs": [],
   "source": [
    "lb_cat_Big=LabelBinarizer(sparse_output=True)\n",
    "x_cat_Big=lb_cat_Big.fit_transform(mercari_df['cat_Big'])\n",
    "lb_cat_Medium=LabelBinarizer(sparse_output=True)\n",
    "x_cat_Medium=lb_cat_Medium.fit_transform(mercari_df['cat_Med'])\n",
    "lb_cat_Small=LabelBinarizer(sparse_output=True)\n",
    "x_cat_Small=lb_cat_Small.fit_transform(mercari_df['cat_Small'])"
   ]
  },
  {
   "cell_type": "code",
   "execution_count": 136,
   "metadata": {},
   "outputs": [
    {
     "ename": "ValueError",
     "evalue": "blocks[0,:] has incompatible row dimensions. Got blocks[0,1].shape[0] == 119, expected 1482535.",
     "output_type": "error",
     "traceback": [
      "\u001b[1;31m---------------------------------------------------------------------------\u001b[0m",
      "\u001b[1;31mValueError\u001b[0m                                Traceback (most recent call last)",
      "\u001b[1;32m<ipython-input-136-e0d5a18ffa89>\u001b[0m in \u001b[0;36m<module>\u001b[1;34m\u001b[0m\n\u001b[0;32m      2\u001b[0m \u001b[0msparse_matrix_list\u001b[0m \u001b[1;33m=\u001b[0m \u001b[1;33m(\u001b[0m\u001b[0mx_name\u001b[0m\u001b[1;33m,\u001b[0m \u001b[0mx_descp\u001b[0m\u001b[1;33m,\u001b[0m\u001b[0mx_brand\u001b[0m\u001b[1;33m,\u001b[0m\u001b[0mx_itemcond\u001b[0m\u001b[1;33m,\u001b[0m\u001b[0mx_shipping\u001b[0m\u001b[1;33m,\u001b[0m \u001b[0mlb_cat_Big\u001b[0m\u001b[1;33m,\u001b[0m \u001b[0mlb_cat_Medium\u001b[0m\u001b[1;33m,\u001b[0m \u001b[0mlb_cat_Small\u001b[0m\u001b[1;33m)\u001b[0m\u001b[1;33m\u001b[0m\u001b[1;33m\u001b[0m\u001b[0m\n\u001b[0;32m      3\u001b[0m \u001b[1;33m\u001b[0m\u001b[0m\n\u001b[1;32m----> 4\u001b[1;33m \u001b[0mx_features_sparse\u001b[0m \u001b[1;33m=\u001b[0m\u001b[0mhstack\u001b[0m\u001b[1;33m(\u001b[0m\u001b[0msparse_matrix_list\u001b[0m\u001b[1;33m)\u001b[0m\u001b[1;33m.\u001b[0m\u001b[0mtoscr\u001b[0m\u001b[1;33m(\u001b[0m\u001b[1;33m)\u001b[0m\u001b[1;33m\u001b[0m\u001b[1;33m\u001b[0m\u001b[0m\n\u001b[0m",
      "\u001b[1;32m~\\anaconda3\\envs\\learn-env\\lib\\site-packages\\scipy\\sparse\\construct.py\u001b[0m in \u001b[0;36mhstack\u001b[1;34m(blocks, format, dtype)\u001b[0m\n\u001b[0;32m    463\u001b[0m \u001b[1;33m\u001b[0m\u001b[0m\n\u001b[0;32m    464\u001b[0m     \"\"\"\n\u001b[1;32m--> 465\u001b[1;33m     \u001b[1;32mreturn\u001b[0m \u001b[0mbmat\u001b[0m\u001b[1;33m(\u001b[0m\u001b[1;33m[\u001b[0m\u001b[0mblocks\u001b[0m\u001b[1;33m]\u001b[0m\u001b[1;33m,\u001b[0m \u001b[0mformat\u001b[0m\u001b[1;33m=\u001b[0m\u001b[0mformat\u001b[0m\u001b[1;33m,\u001b[0m \u001b[0mdtype\u001b[0m\u001b[1;33m=\u001b[0m\u001b[0mdtype\u001b[0m\u001b[1;33m)\u001b[0m\u001b[1;33m\u001b[0m\u001b[1;33m\u001b[0m\u001b[0m\n\u001b[0m\u001b[0;32m    466\u001b[0m \u001b[1;33m\u001b[0m\u001b[0m\n\u001b[0;32m    467\u001b[0m \u001b[1;33m\u001b[0m\u001b[0m\n",
      "\u001b[1;32m~\\anaconda3\\envs\\learn-env\\lib\\site-packages\\scipy\\sparse\\construct.py\u001b[0m in \u001b[0;36mbmat\u001b[1;34m(blocks, format, dtype)\u001b[0m\n\u001b[0;32m    584\u001b[0m                                                     \u001b[0mexp\u001b[0m\u001b[1;33m=\u001b[0m\u001b[0mbrow_lengths\u001b[0m\u001b[1;33m[\u001b[0m\u001b[0mi\u001b[0m\u001b[1;33m]\u001b[0m\u001b[1;33m,\u001b[0m\u001b[1;33m\u001b[0m\u001b[1;33m\u001b[0m\u001b[0m\n\u001b[0;32m    585\u001b[0m                                                     got=A.shape[0]))\n\u001b[1;32m--> 586\u001b[1;33m                     \u001b[1;32mraise\u001b[0m \u001b[0mValueError\u001b[0m\u001b[1;33m(\u001b[0m\u001b[0mmsg\u001b[0m\u001b[1;33m)\u001b[0m\u001b[1;33m\u001b[0m\u001b[1;33m\u001b[0m\u001b[0m\n\u001b[0m\u001b[0;32m    587\u001b[0m \u001b[1;33m\u001b[0m\u001b[0m\n\u001b[0;32m    588\u001b[0m                 \u001b[1;32mif\u001b[0m \u001b[0mbcol_lengths\u001b[0m\u001b[1;33m[\u001b[0m\u001b[0mj\u001b[0m\u001b[1;33m]\u001b[0m \u001b[1;33m==\u001b[0m \u001b[1;36m0\u001b[0m\u001b[1;33m:\u001b[0m\u001b[1;33m\u001b[0m\u001b[1;33m\u001b[0m\u001b[0m\n",
      "\u001b[1;31mValueError\u001b[0m: blocks[0,:] has incompatible row dimensions. Got blocks[0,1].shape[0] == 119, expected 1482535."
     ]
    }
   ],
   "source": [
    "from scipy.sparse import hstack\n",
    "sparse_matrix_list = (x_name, x_descp,x_brand,x_itemcond,x_shipping, lb_cat_Big, lb_cat_Medium, lb_cat_Small)\n",
    "\n",
    "x_features_sparse =hstack(sparse_matrix_list).toscr()\n"
   ]
  },
  {
   "cell_type": "code",
   "execution_count": null,
   "metadata": {},
   "outputs": [],
   "source": [
    "print(types(x_features_sparse),x_features_sparse.shape)"
   ]
  }
 ],
 "metadata": {
  "kernelspec": {
   "display_name": "Python 3",
   "language": "python",
   "name": "python3"
  },
  "language_info": {
   "codemirror_mode": {
    "name": "ipython",
    "version": 3
   },
   "file_extension": ".py",
   "mimetype": "text/x-python",
   "name": "python",
   "nbconvert_exporter": "python",
   "pygments_lexer": "ipython3",
   "version": "3.6.9"
  }
 },
 "nbformat": 4,
 "nbformat_minor": 2
}
