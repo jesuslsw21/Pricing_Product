{
 "cells": [
  {
   "cell_type": "code",
   "execution_count": 13,
   "metadata": {
    "scrolled": false
   },
   "outputs": [
    {
     "name": "stderr",
     "output_type": "stream",
     "text": [
      "C:\\Users\\jesus\\anaconda3\\envs\\learn-env\\lib\\site-packages\\sklearn\\externals\\six.py:31: DeprecationWarning: The module is deprecated in version 0.21 and will be removed in version 0.23 since we've dropped support for Python 2.7. Please rely on the official version of six (https://pypi.org/project/six/).\n",
      "  \"(https://pypi.org/project/six/).\", DeprecationWarning)\n",
      "[nltk_data] Downloading package punkt to\n",
      "[nltk_data]     C:\\Users\\jesus\\AppData\\Roaming\\nltk_data...\n",
      "[nltk_data]   Package punkt is already up-to-date!\n",
      "[nltk_data] Downloading package stopwords to\n",
      "[nltk_data]     C:\\Users\\jesus\\AppData\\Roaming\\nltk_data...\n",
      "[nltk_data]   Package stopwords is already up-to-date!\n",
      "[nltk_data] Downloading package stopwords to\n",
      "[nltk_data]     C:\\Users\\jesus\\AppData\\Roaming\\nltk_data...\n",
      "[nltk_data]   Package stopwords is already up-to-date!\n",
      "[nltk_data] Downloading package punkt to\n",
      "[nltk_data]     C:\\Users\\jesus\\AppData\\Roaming\\nltk_data...\n",
      "[nltk_data]   Package punkt is already up-to-date!\n",
      "[nltk_data] Downloading package wordnet to\n",
      "[nltk_data]     C:\\Users\\jesus\\AppData\\Roaming\\nltk_data...\n",
      "[nltk_data]   Package wordnet is already up-to-date!\n"
     ]
    },
    {
     "name": "stdout",
     "output_type": "stream",
     "text": [
      "Requirement already satisfied: yellowbrick in c:\\users\\jesus\\anaconda3\\envs\\learn-env\\lib\\site-packages (1.1)\n",
      "Requirement already satisfied: matplotlib!=3.0.0,>=2.0.2 in c:\\users\\jesus\\anaconda3\\envs\\learn-env\\lib\\site-packages (from yellowbrick) (3.1.1)\n",
      "Requirement already satisfied: cycler>=0.10.0 in c:\\users\\jesus\\anaconda3\\envs\\learn-env\\lib\\site-packages (from yellowbrick) (0.10.0)\n",
      "Requirement already satisfied: numpy>=1.13.0 in c:\\users\\jesus\\anaconda3\\envs\\learn-env\\lib\\site-packages (from yellowbrick) (1.16.5)\n",
      "Requirement already satisfied: scipy>=1.0.0 in c:\\users\\jesus\\anaconda3\\envs\\learn-env\\lib\\site-packages (from yellowbrick) (1.4.1)\n",
      "Requirement already satisfied: scikit-learn>=0.20 in c:\\users\\jesus\\anaconda3\\envs\\learn-env\\lib\\site-packages (from yellowbrick) (0.21.3)\n",
      "Requirement already satisfied: kiwisolver>=1.0.1 in c:\\users\\jesus\\anaconda3\\envs\\learn-env\\lib\\site-packages (from matplotlib!=3.0.0,>=2.0.2->yellowbrick) (1.1.0)\n",
      "Requirement already satisfied: pyparsing!=2.0.4,!=2.1.2,!=2.1.6,>=2.0.1 in c:\\users\\jesus\\anaconda3\\envs\\learn-env\\lib\\site-packages (from matplotlib!=3.0.0,>=2.0.2->yellowbrick) (2.4.2)\n",
      "Requirement already satisfied: python-dateutil>=2.1 in c:\\users\\jesus\\anaconda3\\envs\\learn-env\\lib\\site-packages (from matplotlib!=3.0.0,>=2.0.2->yellowbrick) (2.8.0)\n",
      "Requirement already satisfied: six in c:\\users\\jesus\\anaconda3\\envs\\learn-env\\lib\\site-packages (from cycler>=0.10.0->yellowbrick) (1.12.0)\n",
      "Requirement already satisfied: joblib>=0.11 in c:\\users\\jesus\\anaconda3\\envs\\learn-env\\lib\\site-packages (from scikit-learn>=0.20->yellowbrick) (0.13.2)\n",
      "Requirement already satisfied: setuptools in c:\\users\\jesus\\anaconda3\\envs\\learn-env\\lib\\site-packages (from kiwisolver>=1.0.1->matplotlib!=3.0.0,>=2.0.2->yellowbrick) (41.4.0)\n"
     ]
    }
   ],
   "source": [
    "from IPython.display import display\n",
    "from IPython.display import Image\n",
    "import pydotplus\n",
    "from sklearn.externals.six import StringIO \n",
    "from subprocess import call\n",
    "\n",
    "import numpy as np\n",
    "import pandas as pd\n",
    "import itertools\n",
    "\n",
    "import matplotlib.pyplot as plt\n",
    "import matplotlib.image as mpimg\n",
    "%matplotlib inline\n",
    "import seaborn as sns\n",
    "\n",
    "from sklearn.model_selection import train_test_split, GridSearchCV, StratifiedKFold\n",
    "from sklearn.metrics import confusion_matrix, roc_curve, roc_auc_score, classification_report,accuracy_score, f1_score \n",
    "from sklearn.linear_model import LogisticRegression, LinearRegression\n",
    "from sklearn.svm import SVC\n",
    "from sklearn.ensemble import VotingClassifier, BaggingClassifier, AdaBoostClassifier, RandomForestClassifier\n",
    "from sklearn.preprocessing import StandardScaler, LabelEncoder, OneHotEncoder\n",
    "from xgboost.sklearn import XGBClassifier\n",
    "from sklearn.neighbors import KNeighborsClassifier\n",
    "from mlxtend.classifier import StackingClassifier\n",
    "\n",
    "from sklearn import tree\n",
    "from sklearn.tree import export_graphviz\n",
    "\n",
    "import warnings\n",
    "warnings.filterwarnings('ignore')\n",
    "\n",
    "import nltk\n",
    "nltk.download('punkt')\n",
    "nltk.download('stopwords')\n",
    "\n",
    "from mpl_toolkits.mplot3d import Axes3D\n",
    "\n",
    "from sklearn.manifold import TSNE\n",
    "from nltk.tokenize import word_tokenize, sent_tokenize\n",
    "np.random.seed(0)\n",
    "warnings.filterwarnings('ignore')\n",
    "from sklearn.utils.testing import all_estimators\n",
    "\n",
    "from nltk.corpus import stopwords \n",
    "from nltk.tokenize import word_tokenize \n",
    "\n",
    "from sklearn.feature_extraction.text import CountVectorizer,TfidfVectorizer, TfidfTransformer\n",
    "\n",
    "from nltk.probability import FreqDist\n",
    "from nltk.stem import PorterStemmer\n",
    "\n",
    "\n",
    "from sklearn.naive_bayes import MultinomialNB,GaussianNB\n",
    "\n",
    "\n",
    "from matplotlib import cm\n",
    "\n",
    "nltk.download('stopwords')\n",
    "nltk.download('punkt')\n",
    "nltk.download('wordnet') \n",
    "\n",
    "\n",
    "from itertools import combinations, product\n",
    "\n",
    "\n",
    "\n",
    "import statsmodels.api as sm\n",
    "from statsmodels.formula.api import ols\n",
    "!pip install yellowbrick\n",
    "from yellowbrick.datasets import load_concrete\n",
    "from yellowbrick.regressor import ResidualsPlot\n",
    "\n",
    "from sklearn.model_selection import KFold,cross_val_predict,cross_val_score, cross_validate\n",
    "from sklearn.linear_model import LinearRegression,RidgeCV, LassoCV\n",
    "from sklearn.linear_model import LinearRegression\n",
    "from sklearn.preprocessing import MinMaxScaler\n",
    "from sklearn.linear_model import Lasso, Ridge, LinearRegression, ElasticNet\n",
    "from sklearn.preprocessing import StandardScaler\n",
    "from sklearn.preprocessing import PolynomialFeatures\n",
    "from sklearn import preprocessing\n",
    "from sklearn.model_selection import train_test_split\n",
    "from sklearn.metrics import mean_squared_error, r2_score\n",
    "\n"
   ]
  },
  {
   "cell_type": "code",
   "execution_count": 60,
   "metadata": {
    "scrolled": false
   },
   "outputs": [
    {
     "data": {
      "text/html": [
       "<div>\n",
       "<style scoped>\n",
       "    .dataframe tbody tr th:only-of-type {\n",
       "        vertical-align: middle;\n",
       "    }\n",
       "\n",
       "    .dataframe tbody tr th {\n",
       "        vertical-align: top;\n",
       "    }\n",
       "\n",
       "    .dataframe thead th {\n",
       "        text-align: right;\n",
       "    }\n",
       "</style>\n",
       "<table border=\"1\" class=\"dataframe\">\n",
       "  <thead>\n",
       "    <tr style=\"text-align: right;\">\n",
       "      <th></th>\n",
       "      <th>train_id</th>\n",
       "      <th>name</th>\n",
       "      <th>item_condition_id</th>\n",
       "      <th>category_name</th>\n",
       "      <th>brand_name</th>\n",
       "      <th>price</th>\n",
       "      <th>shipping</th>\n",
       "      <th>item_description</th>\n",
       "    </tr>\n",
       "  </thead>\n",
       "  <tbody>\n",
       "    <tr>\n",
       "      <td>0</td>\n",
       "      <td>0</td>\n",
       "      <td>MLB Cincinnati Reds T Shirt Size XL</td>\n",
       "      <td>3</td>\n",
       "      <td>Men/Tops/T-shirts</td>\n",
       "      <td>NaN</td>\n",
       "      <td>10.0</td>\n",
       "      <td>1</td>\n",
       "      <td>No description yet</td>\n",
       "    </tr>\n",
       "    <tr>\n",
       "      <td>1</td>\n",
       "      <td>1</td>\n",
       "      <td>Razer BlackWidow Chroma Keyboard</td>\n",
       "      <td>3</td>\n",
       "      <td>Electronics/Computers &amp; Tablets/Components &amp; P...</td>\n",
       "      <td>Razer</td>\n",
       "      <td>52.0</td>\n",
       "      <td>0</td>\n",
       "      <td>This keyboard is in great condition and works ...</td>\n",
       "    </tr>\n",
       "    <tr>\n",
       "      <td>2</td>\n",
       "      <td>2</td>\n",
       "      <td>AVA-VIV Blouse</td>\n",
       "      <td>1</td>\n",
       "      <td>Women/Tops &amp; Blouses/Blouse</td>\n",
       "      <td>Target</td>\n",
       "      <td>10.0</td>\n",
       "      <td>1</td>\n",
       "      <td>Adorable top with a hint of lace and a key hol...</td>\n",
       "    </tr>\n",
       "    <tr>\n",
       "      <td>3</td>\n",
       "      <td>3</td>\n",
       "      <td>Leather Horse Statues</td>\n",
       "      <td>1</td>\n",
       "      <td>Home/Home Décor/Home Décor Accents</td>\n",
       "      <td>NaN</td>\n",
       "      <td>35.0</td>\n",
       "      <td>1</td>\n",
       "      <td>New with tags. Leather horses. Retail for [rm]...</td>\n",
       "    </tr>\n",
       "    <tr>\n",
       "      <td>4</td>\n",
       "      <td>4</td>\n",
       "      <td>24K GOLD plated rose</td>\n",
       "      <td>1</td>\n",
       "      <td>Women/Jewelry/Necklaces</td>\n",
       "      <td>NaN</td>\n",
       "      <td>44.0</td>\n",
       "      <td>0</td>\n",
       "      <td>Complete with certificate of authenticity</td>\n",
       "    </tr>\n",
       "  </tbody>\n",
       "</table>\n",
       "</div>"
      ],
      "text/plain": [
       "   train_id                                 name  item_condition_id  \\\n",
       "0         0  MLB Cincinnati Reds T Shirt Size XL                  3   \n",
       "1         1     Razer BlackWidow Chroma Keyboard                  3   \n",
       "2         2                       AVA-VIV Blouse                  1   \n",
       "3         3                Leather Horse Statues                  1   \n",
       "4         4                 24K GOLD plated rose                  1   \n",
       "\n",
       "                                       category_name brand_name  price  \\\n",
       "0                                  Men/Tops/T-shirts        NaN   10.0   \n",
       "1  Electronics/Computers & Tablets/Components & P...      Razer   52.0   \n",
       "2                        Women/Tops & Blouses/Blouse     Target   10.0   \n",
       "3                 Home/Home Décor/Home Décor Accents        NaN   35.0   \n",
       "4                            Women/Jewelry/Necklaces        NaN   44.0   \n",
       "\n",
       "   shipping                                   item_description  \n",
       "0         1                                 No description yet  \n",
       "1         0  This keyboard is in great condition and works ...  \n",
       "2         1  Adorable top with a hint of lace and a key hol...  \n",
       "3         1  New with tags. Leather horses. Retail for [rm]...  \n",
       "4         0          Complete with certificate of authenticity  "
      ]
     },
     "execution_count": 60,
     "metadata": {},
     "output_type": "execute_result"
    }
   ],
   "source": [
    "mercari_df = pd.read_csv(\"train.tsv\", sep = '\\t')\n",
    "y_test = pd.read_csv(\"train.tsv\", sep = '\\t')\n",
    "x_test = pd.read_csv(\"test.tsv\", sep = '\\t')\n",
    "mercari_df.shape\n",
    "mercari_df.head()"
   ]
  },
  {
   "cell_type": "markdown",
   "metadata": {},
   "source": []
  },
  {
   "cell_type": "markdown",
   "metadata": {},
   "source": [
    "# Data Cleaning"
   ]
  },
  {
   "cell_type": "code",
   "execution_count": 15,
   "metadata": {
    "scrolled": false
   },
   "outputs": [
    {
     "name": "stdout",
     "output_type": "stream",
     "text": [
      "<class 'pandas.core.frame.DataFrame'>\n",
      "RangeIndex: 1482535 entries, 0 to 1482534\n",
      "Data columns (total 8 columns):\n",
      "train_id             1482535 non-null int64\n",
      "name                 1482535 non-null object\n",
      "item_condition_id    1482535 non-null int64\n",
      "category_name        1476208 non-null object\n",
      "brand_name           849853 non-null object\n",
      "price                1482535 non-null float64\n",
      "shipping             1482535 non-null int64\n",
      "item_description     1482531 non-null object\n",
      "dtypes: float64(1), int64(3), object(4)\n",
      "memory usage: 90.5+ MB\n"
     ]
    }
   ],
   "source": [
    "# Check the Feature Type and Null Value\n",
    "mercari_df.info()"
   ]
  },
  {
   "cell_type": "code",
   "execution_count": 16,
   "metadata": {},
   "outputs": [
    {
     "data": {
      "text/plain": [
       "train_id                  0\n",
       "name                      0\n",
       "item_condition_id         0\n",
       "category_name          6327\n",
       "brand_name           632682\n",
       "price                     0\n",
       "shipping                  0\n",
       "item_description          4\n",
       "dtype: int64"
      ]
     },
     "execution_count": 16,
     "metadata": {},
     "output_type": "execute_result"
    }
   ],
   "source": [
    "mercari_df.isnull().sum()"
   ]
  },
  {
   "cell_type": "code",
   "execution_count": 17,
   "metadata": {},
   "outputs": [],
   "source": [
    "# From the table above\n",
    "# 0) No need to touch [Train_id] and [name] \n",
    "# 1) [item_condition_id] ???\n",
    "# 2) [Category_name] has also roughly 6,300 of null values\n",
    "# 3) [Brand_name] has 632,682 of null values\n",
    "# 4) [Price] is my target-variable\n",
    "# 5) [shipping] ???\n",
    "# 6) 4 of non-value for [Item-description]"
   ]
  },
  {
   "cell_type": "markdown",
   "metadata": {},
   "source": [
    "0) Price : my target-variable"
   ]
  },
  {
   "cell_type": "code",
   "execution_count": 18,
   "metadata": {},
   "outputs": [
    {
     "data": {
      "image/png": "[encoded data removed]",
      "text/plain": [
       "<Figure size 1080x720 with 2 Axes>"
      ]
     },
     "metadata": {
      "needs_background": "light"
     },
     "output_type": "display_data"
    }
   ],
   "source": [
    "fig, ax = plt.subplots(2, 1, figsize = (15, 10))\n",
    "sns.boxplot(mercari_df.price, showfliers = False, ax = ax[0])\n",
    "ax[1].hist(mercari_df.price, bins = 300, range = [0, 300], label = \"price\")\n",
    "ax[1].set_title(\"Price Distribution (Training)\", fontsize = 20)\n",
    "ax[1].set_xlabel(\"Price\", fontsize = 15)\n",
    "ax[1].set_ylabel(\"Samples\", fontsize = 15)\n",
    "plt.show()"
   ]
  },
  {
   "cell_type": "code",
   "execution_count": 19,
   "metadata": {},
   "outputs": [
    {
     "data": {
      "text/plain": [
       "<matplotlib.axes._subplots.AxesSubplot at 0x242be21d7b8>"
      ]
     },
     "execution_count": 19,
     "metadata": {},
     "output_type": "execute_result"
    },
    {
     "data": {
      "image/png": "[encoded data removed]",
      "text/plain": [
       "<Figure size 432x288 with 1 Axes>"
      ]
     },
     "metadata": {
      "needs_background": "light"
     },
     "output_type": "display_data"
    }
   ],
   "source": [
    "# Now, it looks like normal distribution now\n",
    "mercari_df.price= np.log1p(mercari_df.price)\n",
    "sns.distplot(mercari_df.price, kde=False)"
   ]
  },
  {
   "cell_type": "code",
   "execution_count": 20,
   "metadata": {},
   "outputs": [
    {
     "data": {
      "text/plain": [
       "0    1.223156\n",
       "1    1.603479\n",
       "2    1.223156\n",
       "3    1.522467\n",
       "4    1.570003\n",
       "Name: price, dtype: float64"
      ]
     },
     "execution_count": 20,
     "metadata": {},
     "output_type": "execute_result"
    }
   ],
   "source": [
    "mercari_df.price = np.log1p(mercari_df.price)\n",
    "mercari_df.price.head()"
   ]
  },
  {
   "cell_type": "markdown",
   "metadata": {},
   "source": [
    "1) item_condition_id"
   ]
  },
  {
   "cell_type": "code",
   "execution_count": 21,
   "metadata": {
    "scrolled": false
   },
   "outputs": [
    {
     "data": {
      "text/plain": [
       "1    640549\n",
       "3    432161\n",
       "2    375479\n",
       "4     31962\n",
       "5      2384\n",
       "Name: item_condition_id, dtype: int64"
      ]
     },
     "execution_count": 21,
     "metadata": {},
     "output_type": "execute_result"
    }
   ],
   "source": [
    "mercari_df['item_condition_id'].value_counts()"
   ]
  },
  {
   "cell_type": "code",
   "execution_count": 22,
   "metadata": {},
   "outputs": [
    {
     "data": {
      "image/png": "[encoded data removed]",
      "text/plain": [
       "<Figure size 1080x864 with 2 Axes>"
      ]
     },
     "metadata": {
      "needs_background": "light"
     },
     "output_type": "display_data"
    }
   ],
   "source": [
    "fig, ax = plt.subplots(2, 1, figsize = (15, 12))\n",
    "sns.countplot(mercari_df['item_condition_id'], ax = ax[0])\n",
    "rects = ax[0].patches\n",
    "labels = mercari_df['item_condition_id'].value_counts().values\n",
    "for rect, label in zip(rects, labels):\n",
    "    height = rect.get_height()\n",
    "    ax[0].text(rect.get_x() + rect.get_width()/2, height + 5, label, ha = \"center\", va = \"bottom\")\n",
    "sns.boxplot(x = mercari_df['item_condition_id'], y = mercari_df.price, orient = \"v\", ax = ax[1])\n",
    "plt.show()"
   ]
  },
  {
   "cell_type": "markdown",
   "metadata": {},
   "source": [
    "2) Category_name: has roughly 6,300 of null values and I need to split catergories."
   ]
  },
  {
   "cell_type": "code",
   "execution_count": 23,
   "metadata": {},
   "outputs": [
    {
     "data": {
      "text/plain": [
       "Women/Athletic Apparel/Pants, Tights, Leggings    60177\n",
       "Women/Tops & Blouses/T-Shirts                     46380\n",
       "Beauty/Makeup/Face                                34335\n",
       "Beauty/Makeup/Lips                                29910\n",
       "Electronics/Video Games & Consoles/Games          26557\n",
       "                                                  ...  \n",
       "Handmade/Holidays/Thanksgiving                        1\n",
       "Men/Suits/Four Button                                 1\n",
       "Handmade/Accessories/Mirror                           1\n",
       "Handmade/Books and Zines/Comic                        1\n",
       "Handmade/Knitting/Doll                                1\n",
       "Name: category_name, Length: 1287, dtype: int64"
      ]
     },
     "execution_count": 23,
     "metadata": {},
     "output_type": "execute_result"
    }
   ],
   "source": [
    "mercari_df[\"category_name\"].value_counts()"
   ]
  },
  {
   "cell_type": "code",
   "execution_count": 24,
   "metadata": {},
   "outputs": [],
   "source": [
    "# Split the Category and remove null-values\n",
    "def split_cat(category_name):\n",
    "    try:\n",
    "        return category_name.split('/')\n",
    "    except:\n",
    "        return ['Other_Null', 'Other_Null', 'Other_Null']"
   ]
  },
  {
   "cell_type": "code",
   "execution_count": 25,
   "metadata": {},
   "outputs": [],
   "source": [
    "mercari_df['cat_Big'], mercari_df['cat_Med'],mercari_df['cat_Small'] = \\\n",
    "                        zip(*mercari_df['category_name'].apply(lambda x : split_cat(x)))"
   ]
  },
  {
   "cell_type": "code",
   "execution_count": 26,
   "metadata": {
    "scrolled": true
   },
   "outputs": [
    {
     "name": "stdout",
     "output_type": "stream",
     "text": [
      "Women                     664385\n",
      "Beauty                    207828\n",
      "Kids                      171689\n",
      "Electronics               122690\n",
      "Men                        93680\n",
      "Home                       67871\n",
      "Vintage & Collectibles     46530\n",
      "Other                      45351\n",
      "Handmade                   30842\n",
      "Sports & Outdoors          25342\n",
      "Other_Null                  6327\n",
      "Name: cat_Big, dtype: int64\n",
      "11\n"
     ]
    }
   ],
   "source": [
    "print(mercari_df['cat_Big'].value_counts())\n",
    "print(mercari_df['cat_Big'].nunique())"
   ]
  },
  {
   "cell_type": "code",
   "execution_count": 27,
   "metadata": {},
   "outputs": [
    {
     "name": "stdout",
     "output_type": "stream",
     "text": [
      "Athletic Apparel        134383\n",
      "Makeup                  124624\n",
      "Tops & Blouses          106960\n",
      "Shoes                   100452\n",
      "Jewelry                  61763\n",
      "                         ...  \n",
      "Candles                     64\n",
      "Ceramics and Pottery        57\n",
      "Dolls and Miniatures        49\n",
      "Books and Zines             46\n",
      "Quilts                      31\n",
      "Name: cat_Med, Length: 114, dtype: int64\n",
      "114\n"
     ]
    }
   ],
   "source": [
    "print(mercari_df['cat_Med'].value_counts())\n",
    "print(mercari_df['cat_Med'].nunique())"
   ]
  },
  {
   "cell_type": "code",
   "execution_count": 28,
   "metadata": {
    "scrolled": true
   },
   "outputs": [
    {
     "name": "stdout",
     "output_type": "stream",
     "text": [
      "Pants, Tights, Leggings    60177\n",
      "Other                      50224\n",
      "Face                       50171\n",
      "T-Shirts                   46380\n",
      "Shoes                      32168\n",
      "                           ...  \n",
      "Primitive                      1\n",
      "Garbage Disposals              1\n",
      "Dishwashers                    1\n",
      "Double Breasted                1\n",
      "Cleaning                       1\n",
      "Name: cat_Small, Length: 871, dtype: int64\n",
      "871\n"
     ]
    }
   ],
   "source": [
    "print(mercari_df['cat_Small'].value_counts())\n",
    "print(mercari_df['cat_Small'].nunique())"
   ]
  },
  {
   "cell_type": "code",
   "execution_count": 29,
   "metadata": {},
   "outputs": [],
   "source": [
    "mercari_df['category_name'] = mercari_df['category_name'].fillna(value = 'Other_Null')"
   ]
  },
  {
   "cell_type": "markdown",
   "metadata": {},
   "source": [
    "Now, Category_name is cleaned and removed the null_values."
   ]
  },
  {
   "cell_type": "markdown",
   "metadata": {},
   "source": [
    "3) Brand_name: has almost half of null values"
   ]
  },
  {
   "cell_type": "code",
   "execution_count": 30,
   "metadata": {
    "scrolled": true
   },
   "outputs": [
    {
     "data": {
      "text/plain": [
       "PINK                    54088\n",
       "Nike                    54043\n",
       "Victoria's Secret       48036\n",
       "LuLaRoe                 31024\n",
       "Apple                   17322\n",
       "                        ...  \n",
       "First Wave                  1\n",
       "Gearbox                     1\n",
       "Stone Cold Fox              1\n",
       "Kailijumei Lipsticks        1\n",
       "Joyce Chen                  1\n",
       "Name: brand_name, Length: 4809, dtype: int64"
      ]
     },
     "execution_count": 30,
     "metadata": {},
     "output_type": "execute_result"
    }
   ],
   "source": [
    "mercari_df['brand_name'].value_counts()"
   ]
  },
  {
   "cell_type": "code",
   "execution_count": 31,
   "metadata": {},
   "outputs": [],
   "source": [
    "mercari_df['brand_name'] = mercari_df['brand_name'].fillna(value = 'Other_Null')"
   ]
  },
  {
   "cell_type": "code",
   "execution_count": 32,
   "metadata": {},
   "outputs": [
    {
     "data": {
      "text/plain": [
       "0    0.798928\n",
       "1    0.956848\n",
       "2    0.798928\n",
       "3    0.925237\n",
       "4    0.943907\n",
       "Name: price, dtype: float64"
      ]
     },
     "execution_count": 32,
     "metadata": {},
     "output_type": "execute_result"
    }
   ],
   "source": [
    "mercari_df.price = np.log1p(mercari_df.price)\n",
    "mercari_df.price.head()"
   ]
  },
  {
   "cell_type": "markdown",
   "metadata": {},
   "source": [
    "5) [shipping] "
   ]
  },
  {
   "cell_type": "code",
   "execution_count": 33,
   "metadata": {
    "scrolled": true
   },
   "outputs": [
    {
     "data": {
      "text/plain": [
       "0    819435\n",
       "1    663100\n",
       "Name: shipping, dtype: int64"
      ]
     },
     "execution_count": 33,
     "metadata": {},
     "output_type": "execute_result"
    }
   ],
   "source": [
    "mercari_df.shipping.value_counts()"
   ]
  },
  {
   "cell_type": "markdown",
   "metadata": {},
   "source": [
    "6) Item-description : Delete 4 of 'non-value' and 'No decription yet'"
   ]
  },
  {
   "cell_type": "code",
   "execution_count": 34,
   "metadata": {},
   "outputs": [
    {
     "data": {
      "text/plain": [
       "No description yet                                                                                                                                                                                                 82489\n",
       "New                                                                                                                                                                                                                 4099\n",
       "Brand new                                                                                                                                                                                                           3058\n",
       "Good condition                                                                                                                                                                                                      1274\n",
       "Great condition                                                                                                                                                                                                     1158\n",
       "                                                                                                                                                                                                                   ...  \n",
       "Shopping bags. All four. Will not separate. One has a little mark on the back. They're kind of old. So offers will be accepted. No free shipping                                                                       1\n",
       "1 x ANASTASIA GLOW KIT Pick your color: THAT GLOW GLEAM Send me a message of your choice. **PLEASE BE AWARE THAT THE PALLETS MAY BREAK DURING SHIPPING HANDLING, YOU CAN LEARN HOW TO REPAIR IN YOUTUBE VIDEO**        1\n",
       "Have a new 63 Chevy 2 brand new                                                                                                                                                                                        1\n",
       "Authentic Toms and Brand new never been used. Classic slip ons in white printed parrot. Size 9. Was [rm]. Will price at [rm]. [rm] will go towards shipping and selling fee :) thank you!                              1\n",
       "Super cute light blue and black sports bra soft and comfortable. Size DD or large. Make me a offer!!Make sure to BUNDLE AND SAVE!                                                                                      1\n",
       "Name: item_description, Length: 1281426, dtype: int64"
      ]
     },
     "execution_count": 34,
     "metadata": {},
     "output_type": "execute_result"
    }
   ],
   "source": [
    "mercari_df[\"item_description\"].value_counts()"
   ]
  },
  {
   "cell_type": "code",
   "execution_count": 35,
   "metadata": {
    "scrolled": true
   },
   "outputs": [
    {
     "data": {
      "text/plain": [
       "No description yet                                                                                                                                                                                                 82489\n",
       "New                                                                                                                                                                                                                 4099\n",
       "Brand new                                                                                                                                                                                                           3058\n",
       "Good condition                                                                                                                                                                                                      1274\n",
       "Great condition                                                                                                                                                                                                     1158\n",
       "                                                                                                                                                                                                                   ...  \n",
       "Shopping bags. All four. Will not separate. One has a little mark on the back. They're kind of old. So offers will be accepted. No free shipping                                                                       1\n",
       "1 x ANASTASIA GLOW KIT Pick your color: THAT GLOW GLEAM Send me a message of your choice. **PLEASE BE AWARE THAT THE PALLETS MAY BREAK DURING SHIPPING HANDLING, YOU CAN LEARN HOW TO REPAIR IN YOUTUBE VIDEO**        1\n",
       "Have a new 63 Chevy 2 brand new                                                                                                                                                                                        1\n",
       "Authentic Toms and Brand new never been used. Classic slip ons in white printed parrot. Size 9. Was [rm]. Will price at [rm]. [rm] will go towards shipping and selling fee :) thank you!                              1\n",
       "Super cute light blue and black sports bra soft and comfortable. Size DD or large. Make me a offer!!Make sure to BUNDLE AND SAVE!                                                                                      1\n",
       "Name: item_description, Length: 1281426, dtype: int64"
      ]
     },
     "execution_count": 35,
     "metadata": {},
     "output_type": "execute_result"
    }
   ],
   "source": [
    "mercari_df[\"item_description\"].value_counts()"
   ]
  },
  {
   "cell_type": "code",
   "execution_count": 36,
   "metadata": {},
   "outputs": [],
   "source": [
    "mercari_df[\"item_description\"] = mercari_df[\"item_description\"].fillna(value = 'Other_Null')"
   ]
  },
  {
   "cell_type": "code",
   "execution_count": 37,
   "metadata": {
    "scrolled": true
   },
   "outputs": [
    {
     "data": {
      "image/png": "[encoded data removed]",
      "text/plain": [
       "<Figure size 1152x1152 with 4 Axes>"
      ]
     },
     "metadata": {
      "needs_background": "light"
     },
     "output_type": "display_data"
    }
   ],
   "source": [
    "mercari_df.hist(bins=30, figsize=(16,16))\n",
    "plt.show()"
   ]
  },
  {
   "cell_type": "code",
   "execution_count": 38,
   "metadata": {
    "scrolled": false
   },
   "outputs": [
    {
     "data": {
      "text/plain": [
       "train_id             0\n",
       "name                 0\n",
       "item_condition_id    0\n",
       "category_name        0\n",
       "brand_name           0\n",
       "price                0\n",
       "shipping             0\n",
       "item_description     0\n",
       "cat_Big              0\n",
       "cat_Med              0\n",
       "cat_Small            0\n",
       "dtype: int64"
      ]
     },
     "execution_count": 38,
     "metadata": {},
     "output_type": "execute_result"
    }
   ],
   "source": [
    "mercari_df.isnull().sum()"
   ]
  },
  {
   "cell_type": "code",
   "execution_count": 39,
   "metadata": {},
   "outputs": [
    {
     "name": "stdout",
     "output_type": "stream",
     "text": [
      "<class 'pandas.core.frame.DataFrame'>\n",
      "RangeIndex: 1482535 entries, 0 to 1482534\n",
      "Data columns (total 11 columns):\n",
      "train_id             1482535 non-null int64\n",
      "name                 1482535 non-null object\n",
      "item_condition_id    1482535 non-null int64\n",
      "category_name        1482535 non-null object\n",
      "brand_name           1482535 non-null object\n",
      "price                1482535 non-null float64\n",
      "shipping             1482535 non-null int64\n",
      "item_description     1482535 non-null object\n",
      "cat_Big              1482535 non-null object\n",
      "cat_Med              1482535 non-null object\n",
      "cat_Small            1482535 non-null object\n",
      "dtypes: float64(1), int64(3), object(7)\n",
      "memory usage: 124.4+ MB\n"
     ]
    }
   ],
   "source": [
    "mercari_df.info()"
   ]
  },
  {
   "cell_type": "code",
   "execution_count": 40,
   "metadata": {},
   "outputs": [],
   "source": [
    "mercari_df['brand_name'] = mercari_df['brand_name'].fillna(value='Other_Null')\n",
    "mercari_df['category_name'] = mercari_df['category_name'].fillna(value='Other_Null')\n",
    "mercari_df['item_description'] = mercari_df['item_description'].fillna(value='Other_Null')"
   ]
  },
  {
   "cell_type": "markdown",
   "metadata": {},
   "source": [
    "# Feature Encoding/Feature Vectorisation"
   ]
  },
  {
   "cell_type": "code",
   "execution_count": 41,
   "metadata": {},
   "outputs": [],
   "source": [
    "#Token/Stopwords/ Stem or Lemma\n",
    "# One Hot coding / LabelBinarizer\n",
    "# count Vector (Short words: names)\n",
    "# TD-IDF (Long words : Item_description)"
   ]
  },
  {
   "cell_type": "code",
   "execution_count": 42,
   "metadata": {},
   "outputs": [
    {
     "data": {
      "text/plain": [
       "4810"
      ]
     },
     "execution_count": 42,
     "metadata": {},
     "output_type": "execute_result"
    }
   ],
   "source": [
    "mercari_df['brand_name'].nunique()\n"
   ]
  },
  {
   "cell_type": "code",
   "execution_count": 43,
   "metadata": {},
   "outputs": [
    {
     "data": {
      "text/plain": [
       "Other_Null           632682\n",
       "PINK                  54088\n",
       "Nike                  54043\n",
       "Victoria's Secret     48036\n",
       "LuLaRoe               31024\n",
       "Name: brand_name, dtype: int64"
      ]
     },
     "execution_count": 43,
     "metadata": {},
     "output_type": "execute_result"
    }
   ],
   "source": [
    "b1 = mercari_df['brand_name'].value_counts()\n",
    "b1.head()"
   ]
  },
  {
   "cell_type": "markdown",
   "metadata": {},
   "source": [
    "Vectorisation"
   ]
  },
  {
   "cell_type": "code",
   "execution_count": 44,
   "metadata": {},
   "outputs": [],
   "source": [
    "df_item = mercari_df[\"item_description\"]"
   ]
  },
  {
   "cell_type": "code",
   "execution_count": 45,
   "metadata": {
    "scrolled": false
   },
   "outputs": [
    {
     "data": {
      "text/plain": [
       "0                                   No description yet\n",
       "1    This keyboard is in great condition and works ...\n",
       "2    Adorable top with a hint of lace and a key hol...\n",
       "3    New with tags. Leather horses. Retail for [rm]...\n",
       "4            Complete with certificate of authenticity\n",
       "Name: item_description, dtype: object"
      ]
     },
     "execution_count": 45,
     "metadata": {},
     "output_type": "execute_result"
    }
   ],
   "source": [
    "df_item.head()"
   ]
  },
  {
   "cell_type": "code",
   "execution_count": 46,
   "metadata": {
    "scrolled": false
   },
   "outputs": [
    {
     "data": {
      "text/plain": [
       "'!\"#$%&\\'()*+,-./:;<=>?@[\\\\]^_`{|}~'"
      ]
     },
     "execution_count": 46,
     "metadata": {},
     "output_type": "execute_result"
    }
   ],
   "source": [
    "import string, re\n",
    "string.punctuation"
   ]
  },
  {
   "cell_type": "code",
   "execution_count": 47,
   "metadata": {},
   "outputs": [],
   "source": [
    "## setting stopwords and punctuations\n",
    "sw_list = stopwords.words('english')\n",
    "sw_list += list(string.punctuation)\n",
    "sw_list += [\"''\", '\"\"', '...', '``', '’', '“', '’', '”', '‘', '‘', '©',\n",
    "            'said', 'one', 'com', 'satirewire', '-', '–', '—', 'satirewire.com']\n",
    "sw_set = set(sw_list)"
   ]
  },
  {
   "cell_type": "code",
   "execution_count": 48,
   "metadata": {},
   "outputs": [],
   "source": [
    "# we can define a function that removes stopwords \n",
    "def process_article(article):\n",
    "    tokens = nltk.word_tokenize(article)\n",
    "    stopwords_removed = [token.lower() for token in tokens if token.lower() not in sw_set]\n",
    "    return stopwords_removed "
   ]
  },
  {
   "cell_type": "code",
   "execution_count": 49,
   "metadata": {},
   "outputs": [],
   "source": [
    "# applying the above function to our data/features \n",
    "processed_data = list(map(process_article, df_item))"
   ]
  },
  {
   "cell_type": "code",
   "execution_count": 50,
   "metadata": {},
   "outputs": [
    {
     "data": {
      "text/plain": [
       "337498"
      ]
     },
     "execution_count": 50,
     "metadata": {},
     "output_type": "execute_result"
    }
   ],
   "source": [
    "total_vocab = set()\n",
    "for comment in processed_data:\n",
    "    total_vocab.update(comment)\n",
    "len(total_vocab)"
   ]
  },
  {
   "cell_type": "code",
   "execution_count": 54,
   "metadata": {},
   "outputs": [],
   "source": [
    "#Lemmatization\n",
    "from nltk.stem import WordNetLemmatizer \n",
    "lemmatizer = WordNetLemmatizer()   \n",
    "# creating a list with all lemmatized outputs\n",
    "lemmatized_output = []\n",
    "\n",
    "for listy in processed_data:\n",
    "    lemmed = ' '.join([lemmatizer.lemmatize(w) for w in listy])\n",
    "    lemmatized_output.append(lemmed)"
   ]
  },
  {
   "cell_type": "markdown",
   "metadata": {},
   "source": [
    "# Feature Vectorisation (Name: Countvector, Item_Desc : TfidfVector)"
   ]
  },
  {
   "cell_type": "code",
   "execution_count": 55,
   "metadata": {},
   "outputs": [],
   "source": [
    "from sklearn.feature_extraction.text import CountVectorizer\n",
    "cnt_vec = CountVectorizer()\n",
    "x_name = cnt_vec.fit_transform(mercari_df.name)"
   ]
  },
  {
   "cell_type": "code",
   "execution_count": 56,
   "metadata": {},
   "outputs": [],
   "source": [
    "from sklearn.feature_extraction.text import TfidfTransformer\n",
    "from sklearn.feature_extraction.text import TfidfVectorizer\n",
    "\n",
    "#tfidf_descp = TfidfVectorizer(max_features = 50000, ngram_range = (1,3), stop_words ='english')\n",
    "#x_descp = tfidf_descp.fit_transform(lemmatized_output)\n"
   ]
  },
  {
   "cell_type": "code",
   "execution_count": 57,
   "metadata": {
    "scrolled": false
   },
   "outputs": [
    {
     "data": {
      "text/html": [
       "<div>\n",
       "<style scoped>\n",
       "    .dataframe tbody tr th:only-of-type {\n",
       "        vertical-align: middle;\n",
       "    }\n",
       "\n",
       "    .dataframe tbody tr th {\n",
       "        vertical-align: top;\n",
       "    }\n",
       "\n",
       "    .dataframe thead th {\n",
       "        text-align: right;\n",
       "    }\n",
       "</style>\n",
       "<table border=\"1\" class=\"dataframe\">\n",
       "  <thead>\n",
       "    <tr style=\"text-align: right;\">\n",
       "      <th></th>\n",
       "      <th>100</th>\n",
       "      <th>add</th>\n",
       "      <th>adjustable</th>\n",
       "      <th>also</th>\n",
       "      <th>around</th>\n",
       "      <th>ask</th>\n",
       "      <th>authentic</th>\n",
       "      <th>available</th>\n",
       "      <th>baby</th>\n",
       "      <th>back</th>\n",
       "      <th>...</th>\n",
       "      <th>without</th>\n",
       "      <th>woman</th>\n",
       "      <th>wore</th>\n",
       "      <th>work</th>\n",
       "      <th>worn</th>\n",
       "      <th>would</th>\n",
       "      <th>yellow</th>\n",
       "      <th>yet</th>\n",
       "      <th>zip</th>\n",
       "      <th>zipper</th>\n",
       "    </tr>\n",
       "  </thead>\n",
       "  <tbody>\n",
       "    <tr>\n",
       "      <td>0</td>\n",
       "      <td>0.0</td>\n",
       "      <td>0.0</td>\n",
       "      <td>0.0</td>\n",
       "      <td>0.000000</td>\n",
       "      <td>0.0</td>\n",
       "      <td>0.000000</td>\n",
       "      <td>0.0</td>\n",
       "      <td>0.000000</td>\n",
       "      <td>0.0</td>\n",
       "      <td>0.000000</td>\n",
       "      <td>...</td>\n",
       "      <td>0.0</td>\n",
       "      <td>0.0</td>\n",
       "      <td>0.0</td>\n",
       "      <td>0.000000</td>\n",
       "      <td>0.0</td>\n",
       "      <td>0.0</td>\n",
       "      <td>0.0</td>\n",
       "      <td>0.714802</td>\n",
       "      <td>0.0</td>\n",
       "      <td>0.0</td>\n",
       "    </tr>\n",
       "    <tr>\n",
       "      <td>1</td>\n",
       "      <td>0.0</td>\n",
       "      <td>0.0</td>\n",
       "      <td>0.0</td>\n",
       "      <td>0.000000</td>\n",
       "      <td>0.0</td>\n",
       "      <td>0.000000</td>\n",
       "      <td>0.0</td>\n",
       "      <td>0.000000</td>\n",
       "      <td>0.0</td>\n",
       "      <td>0.000000</td>\n",
       "      <td>...</td>\n",
       "      <td>0.0</td>\n",
       "      <td>0.0</td>\n",
       "      <td>0.0</td>\n",
       "      <td>0.746667</td>\n",
       "      <td>0.0</td>\n",
       "      <td>0.0</td>\n",
       "      <td>0.0</td>\n",
       "      <td>0.000000</td>\n",
       "      <td>0.0</td>\n",
       "      <td>0.0</td>\n",
       "    </tr>\n",
       "    <tr>\n",
       "      <td>2</td>\n",
       "      <td>0.0</td>\n",
       "      <td>0.0</td>\n",
       "      <td>0.0</td>\n",
       "      <td>0.356696</td>\n",
       "      <td>0.0</td>\n",
       "      <td>0.000000</td>\n",
       "      <td>0.0</td>\n",
       "      <td>0.372723</td>\n",
       "      <td>0.0</td>\n",
       "      <td>0.330311</td>\n",
       "      <td>...</td>\n",
       "      <td>0.0</td>\n",
       "      <td>0.0</td>\n",
       "      <td>0.0</td>\n",
       "      <td>0.000000</td>\n",
       "      <td>0.0</td>\n",
       "      <td>0.0</td>\n",
       "      <td>0.0</td>\n",
       "      <td>0.000000</td>\n",
       "      <td>0.0</td>\n",
       "      <td>0.0</td>\n",
       "    </tr>\n",
       "    <tr>\n",
       "      <td>3</td>\n",
       "      <td>0.0</td>\n",
       "      <td>0.0</td>\n",
       "      <td>0.0</td>\n",
       "      <td>0.000000</td>\n",
       "      <td>0.0</td>\n",
       "      <td>0.309014</td>\n",
       "      <td>0.0</td>\n",
       "      <td>0.000000</td>\n",
       "      <td>0.0</td>\n",
       "      <td>0.000000</td>\n",
       "      <td>...</td>\n",
       "      <td>0.0</td>\n",
       "      <td>0.0</td>\n",
       "      <td>0.0</td>\n",
       "      <td>0.000000</td>\n",
       "      <td>0.0</td>\n",
       "      <td>0.0</td>\n",
       "      <td>0.0</td>\n",
       "      <td>0.000000</td>\n",
       "      <td>0.0</td>\n",
       "      <td>0.0</td>\n",
       "    </tr>\n",
       "    <tr>\n",
       "      <td>4</td>\n",
       "      <td>0.0</td>\n",
       "      <td>0.0</td>\n",
       "      <td>0.0</td>\n",
       "      <td>0.000000</td>\n",
       "      <td>0.0</td>\n",
       "      <td>0.000000</td>\n",
       "      <td>0.0</td>\n",
       "      <td>0.000000</td>\n",
       "      <td>0.0</td>\n",
       "      <td>0.000000</td>\n",
       "      <td>...</td>\n",
       "      <td>0.0</td>\n",
       "      <td>0.0</td>\n",
       "      <td>0.0</td>\n",
       "      <td>0.000000</td>\n",
       "      <td>0.0</td>\n",
       "      <td>0.0</td>\n",
       "      <td>0.0</td>\n",
       "      <td>0.000000</td>\n",
       "      <td>0.0</td>\n",
       "      <td>0.0</td>\n",
       "    </tr>\n",
       "  </tbody>\n",
       "</table>\n",
       "<p>5 rows × 243 columns</p>\n",
       "</div>"
      ],
      "text/plain": [
       "   100  add  adjustable      also  around       ask  authentic  available  \\\n",
       "0  0.0  0.0         0.0  0.000000     0.0  0.000000        0.0   0.000000   \n",
       "1  0.0  0.0         0.0  0.000000     0.0  0.000000        0.0   0.000000   \n",
       "2  0.0  0.0         0.0  0.356696     0.0  0.000000        0.0   0.372723   \n",
       "3  0.0  0.0         0.0  0.000000     0.0  0.309014        0.0   0.000000   \n",
       "4  0.0  0.0         0.0  0.000000     0.0  0.000000        0.0   0.000000   \n",
       "\n",
       "   baby      back  ...  without  woman  wore      work  worn  would  yellow  \\\n",
       "0   0.0  0.000000  ...      0.0    0.0   0.0  0.000000   0.0    0.0     0.0   \n",
       "1   0.0  0.000000  ...      0.0    0.0   0.0  0.746667   0.0    0.0     0.0   \n",
       "2   0.0  0.330311  ...      0.0    0.0   0.0  0.000000   0.0    0.0     0.0   \n",
       "3   0.0  0.000000  ...      0.0    0.0   0.0  0.000000   0.0    0.0     0.0   \n",
       "4   0.0  0.000000  ...      0.0    0.0   0.0  0.000000   0.0    0.0     0.0   \n",
       "\n",
       "        yet  zip  zipper  \n",
       "0  0.714802  0.0     0.0  \n",
       "1  0.000000  0.0     0.0  \n",
       "2  0.000000  0.0     0.0  \n",
       "3  0.000000  0.0     0.0  \n",
       "4  0.000000  0.0     0.0  \n",
       "\n",
       "[5 rows x 243 columns]"
      ]
     },
     "execution_count": 57,
     "metadata": {},
     "output_type": "execute_result"
    }
   ],
   "source": [
    "tfidf = TfidfVectorizer(lowercase=True, \n",
    "                        stop_words=stop_words, \n",
    "                        tokenizer=tokenizer.tokenize,\n",
    "                        min_df=0.01\n",
    "                       )\n",
    "tfidf_train_sparse = tfidf.fit_transform(lemmatized_output)\n",
    "tfidf_train_df = pd.DataFrame(tfidf_train_sparse.toarray(), \n",
    "                        columns=tfidf.get_feature_names())\n",
    "tfidf_train_df.head()"
   ]
  },
  {
   "cell_type": "code",
   "execution_count": null,
   "metadata": {},
   "outputs": [],
   "source": [
    "#and now for the test dataset as well\n",
    "tfidf_test_sparse = tfidf.transform(X_test)\n",
    "tfidf_test_df = pd.DataFrame(tfidf_test_sparse.toarray(), \n",
    "                        columns=tfidf.get_feature_names())\n",
    "tfidf_test_df.head()\n"
   ]
  },
  {
   "cell_type": "code",
   "execution_count": null,
   "metadata": {},
   "outputs": [],
   "source": []
  },
  {
   "cell_type": "code",
   "execution_count": null,
   "metadata": {},
   "outputs": [],
   "source": []
  },
  {
   "cell_type": "code",
   "execution_count": null,
   "metadata": {},
   "outputs": [],
   "source": [
    "type(x_descp)\n",
    "x_descp.shape"
   ]
  },
  {
   "cell_type": "code",
   "execution_count": null,
   "metadata": {},
   "outputs": [],
   "source": [
    "type(x_name)\n",
    "x_name.shape"
   ]
  },
  {
   "cell_type": "code",
   "execution_count": null,
   "metadata": {},
   "outputs": [],
   "source": [
    "from sklearn.preprocessing import LabelBinarizer\n",
    "\n",
    "#onehotencoding for brand_name, item_condtion, shipping\n",
    "\n",
    "lb_brandname=LabelBinarizer(sparse_output=True)\n",
    "x_brand=lb_brandname.fit_transform(mercari_df['brand_name'])\n",
    "lb_itemcond=LabelBinarizer(sparse_output=True)\n",
    "x_itemcond=lb_itemcond.fit_transform(mercari_df['item_condition_id'])\n",
    "lb_shipping=LabelBinarizer(sparse_output=True)\n",
    "x_shipping=lb_shipping.fit_transform(mercari_df['shipping'])"
   ]
  },
  {
   "cell_type": "code",
   "execution_count": null,
   "metadata": {},
   "outputs": [],
   "source": [
    "lb_cat_Big=LabelBinarizer(sparse_output=True)\n",
    "x_cat_Big=lb_cat_Big.fit_transform(mercari_df['cat_Big'])\n",
    "lb_cat_Medium=LabelBinarizer(sparse_output=True)\n",
    "x_cat_Medium=lb_cat_Medium.fit_transform(mercari_df['cat_Med'])\n",
    "lb_cat_Small=LabelBinarizer(sparse_output=True)\n",
    "x_cat_Small=lb_cat_Small.fit_transform(mercari_df['cat_Small'])"
   ]
  },
  {
   "cell_type": "code",
   "execution_count": null,
   "metadata": {},
   "outputs": [],
   "source": [
    "print(type(x_brand),type(x_itemcond),type(x_shipping)) "
   ]
  },
  {
   "cell_type": "code",
   "execution_count": null,
   "metadata": {},
   "outputs": [],
   "source": [
    "print('x_brand shape:{0}, x_itemcond:{1}'.format(x_brand.shape,x_itemcond.shape))"
   ]
  },
  {
   "cell_type": "code",
   "execution_count": null,
   "metadata": {},
   "outputs": [],
   "source": [
    "print('x_shipping:{0}, x_cat_Big:{1}'.format(x_shipping.shape,x_cat_Big.shape))"
   ]
  },
  {
   "cell_type": "code",
   "execution_count": null,
   "metadata": {},
   "outputs": [],
   "source": [
    "print('x_cat_Medium shape:{0}, x_cat_Small:{1}'.format(x_cat_Medium.shape,x_cat_Small.shape))"
   ]
  },
  {
   "cell_type": "code",
   "execution_count": null,
   "metadata": {
    "scrolled": true
   },
   "outputs": [],
   "source": [
    "from scipy.sparse import hstack\n",
    "sparse_matrix_list = (x_name, x_descp,x_brand,x_itemcond,x_shipping, lb_cat_Big, lb_cat_Medium, lb_cat_Small)\n",
    "\n",
    "x_features_sparse =hstack(sparse_matrix_list).toscr()\n"
   ]
  },
  {
   "cell_type": "code",
   "execution_count": null,
   "metadata": {},
   "outputs": [],
   "source": []
  },
  {
   "cell_type": "code",
   "execution_count": null,
   "metadata": {},
   "outputs": [],
   "source": []
  },
  {
   "cell_type": "code",
   "execution_count": null,
   "metadata": {},
   "outputs": [],
   "source": []
  },
  {
   "cell_type": "code",
   "execution_count": null,
   "metadata": {},
   "outputs": [],
   "source": []
  },
  {
   "cell_type": "code",
   "execution_count": null,
   "metadata": {},
   "outputs": [],
   "source": []
  },
  {
   "cell_type": "code",
   "execution_count": null,
   "metadata": {},
   "outputs": [],
   "source": []
  },
  {
   "cell_type": "code",
   "execution_count": null,
   "metadata": {},
   "outputs": [],
   "source": []
  },
  {
   "cell_type": "code",
   "execution_count": null,
   "metadata": {},
   "outputs": [],
   "source": []
  },
  {
   "cell_type": "code",
   "execution_count": null,
   "metadata": {},
   "outputs": [],
   "source": []
  },
  {
   "cell_type": "code",
   "execution_count": null,
   "metadata": {},
   "outputs": [],
   "source": []
  },
  {
   "cell_type": "code",
   "execution_count": null,
   "metadata": {},
   "outputs": [],
   "source": []
  },
  {
   "cell_type": "code",
   "execution_count": null,
   "metadata": {},
   "outputs": [],
   "source": []
  },
  {
   "cell_type": "code",
   "execution_count": null,
   "metadata": {},
   "outputs": [],
   "source": []
  },
  {
   "cell_type": "code",
   "execution_count": null,
   "metadata": {},
   "outputs": [],
   "source": []
  },
  {
   "cell_type": "code",
   "execution_count": null,
   "metadata": {},
   "outputs": [],
   "source": []
  },
  {
   "cell_type": "code",
   "execution_count": null,
   "metadata": {},
   "outputs": [],
   "source": []
  },
  {
   "cell_type": "code",
   "execution_count": null,
   "metadata": {},
   "outputs": [],
   "source": []
  },
  {
   "cell_type": "code",
   "execution_count": null,
   "metadata": {},
   "outputs": [],
   "source": []
  },
  {
   "cell_type": "code",
   "execution_count": null,
   "metadata": {},
   "outputs": [],
   "source": []
  },
  {
   "cell_type": "code",
   "execution_count": null,
   "metadata": {},
   "outputs": [],
   "source": []
  },
  {
   "cell_type": "code",
   "execution_count": null,
   "metadata": {},
   "outputs": [],
   "source": []
  },
  {
   "cell_type": "code",
   "execution_count": null,
   "metadata": {},
   "outputs": [],
   "source": []
  },
  {
   "cell_type": "code",
   "execution_count": null,
   "metadata": {},
   "outputs": [],
   "source": []
  },
  {
   "cell_type": "code",
   "execution_count": null,
   "metadata": {},
   "outputs": [],
   "source": []
  },
  {
   "cell_type": "code",
   "execution_count": null,
   "metadata": {},
   "outputs": [],
   "source": []
  },
  {
   "cell_type": "code",
   "execution_count": null,
   "metadata": {},
   "outputs": [],
   "source": []
  },
  {
   "cell_type": "code",
   "execution_count": null,
   "metadata": {},
   "outputs": [],
   "source": []
  },
  {
   "cell_type": "code",
   "execution_count": null,
   "metadata": {},
   "outputs": [],
   "source": []
  },
  {
   "cell_type": "code",
   "execution_count": null,
   "metadata": {},
   "outputs": [],
   "source": []
  },
  {
   "cell_type": "code",
   "execution_count": null,
   "metadata": {},
   "outputs": [],
   "source": []
  },
  {
   "cell_type": "code",
   "execution_count": null,
   "metadata": {},
   "outputs": [],
   "source": []
  },
  {
   "cell_type": "code",
   "execution_count": null,
   "metadata": {},
   "outputs": [],
   "source": [
    "print(types(x_features_sparse),x_features_sparse.shape)"
   ]
  },
  {
   "cell_type": "code",
   "execution_count": null,
   "metadata": {},
   "outputs": [],
   "source": [
    "def rmsle (y, y_pred):\n",
    "    return np.sqrt(np.mean(np.power(np.log1p(y)-np.log1p(y_pred),2)))\n",
    "def evaluate_org_price(y_test,preds):\n",
    "    preds_exmpm = np.expm1(preds)\n",
    "    y_test_exmpm = np.expm1(y_test)\n",
    "    \n",
    "    rmsle_result = rmsle(y_test_exmpm,preds_exmpm)\n",
    "    return rmsle_result\n"
   ]
  },
  {
   "cell_type": "code",
   "execution_count": null,
   "metadata": {},
   "outputs": [],
   "source": [
    "import gc\n",
    "from scipy.sparse import hstack\n",
    "\n",
    "def model_train_predict(model, matrix_list):\n",
    "    x = hstack(matrix_list).tscr()\n",
    "    \n",
    "    x_train, x_test, y_train, y_test = train_test_split(x, mercari_df.price, test_size = 0.2,random_state= 50)\n",
    "    \n",
    "    model.fit(x_train,y_train)\n",
    "    preds = mdel.predict(x_test)\n",
    "    \n",
    "    del x, x_train, x_test, y_train\n",
    "    gc.collect()\n",
    "    \n",
    "    return preds, y_test"
   ]
  },
  {
   "cell_type": "code",
   "execution_count": null,
   "metadata": {},
   "outputs": [],
   "source": [
    "linear_model = Ridge(solver = \"lsqr\", fit_intercept=False)\n",
    "sparse_matrix_list = (x_name,x_brand,x_itemcond,x_shipping, lb_cat_Big, lb_cat_Medium, lb_cat_Small)\n",
    "linear_preds, y_test = model_train_predict(model = linear_model, matrix_list = sparse_matrix_list)\n",
    "print('exception of Item description:', evaluate_org_price(y_test, linear_preds))"
   ]
  },
  {
   "cell_type": "code",
   "execution_count": null,
   "metadata": {},
   "outputs": [],
   "source": [
    "\n",
    "sparse_matrix_list = (x_name, x_descp,x_brand,x_itemcond,x_shipping, lb_cat_Big, lb_cat_Medium, lb_cat_Small)\n",
    "linear_preds, y_test = model_train_predict(model = linear_model, matrix_list = sparse_matrix_list)\n",
    "print('With Item description:', evaluate_org_price(y_test, linear_preds))"
   ]
  },
  {
   "cell_type": "code",
   "execution_count": null,
   "metadata": {},
   "outputs": [],
   "source": [
    "Item desciption shows the better result"
   ]
  },
  {
   "cell_type": "code",
   "execution_count": null,
   "metadata": {},
   "outputs": [],
   "source": [
    "LightGBM"
   ]
  },
  {
   "cell_type": "code",
   "execution_count": null,
   "metadata": {},
   "outputs": [],
   "source": []
  }
 ],
 "metadata": {
  "kernelspec": {
   "display_name": "Python 3",
   "language": "python",
   "name": "python3"
  },
  "language_info": {
   "codemirror_mode": {
    "name": "ipython",
    "version": 3
   },
   "file_extension": ".py",
   "mimetype": "text/x-python",
   "name": "python",
   "nbconvert_exporter": "python",
   "pygments_lexer": "ipython3",
   "version": "3.6.9"
  }
 },
 "nbformat": 4,
 "nbformat_minor": 2
}
